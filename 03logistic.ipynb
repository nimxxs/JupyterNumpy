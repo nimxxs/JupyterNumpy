{
 "cells": [
  {
   "cell_type": "markdown",
   "id": "962300bc-b585-4ebf-86a2-5dc15ce79531",
   "metadata": {},
   "source": [
    "# 로지스틱 회귀"
   ]
  },
  {
   "cell_type": "code",
   "execution_count": 2,
   "id": "9979e0e0-7281-4a6a-9bc7-7abd7aecc91b",
   "metadata": {},
   "outputs": [],
   "source": [
    "import numpy as np\n",
    "import pandas as pd\n",
    "import matplotlib.pyplot as plt"
   ]
  },
  {
   "cell_type": "code",
   "execution_count": 3,
   "id": "1f1ba251-860c-453a-811a-1e31ac401762",
   "metadata": {},
   "outputs": [],
   "source": [
    "from sklearn.linear_model import LinearRegression\n",
    "from sklearn.metrics import r2_score"
   ]
  },
  {
   "cell_type": "markdown",
   "id": "1d5028c3-3652-4122-98c4-669e0aa63bf7",
   "metadata": {},
   "source": [
    "## 선형회귀분석 오류\n",
    "* 곤충질량(g)에 따라 암수구분하는 모델 생성\n",
    "* 0:암컷, 1:수컷"
   ]
  },
  {
   "cell_type": "code",
   "execution_count": 1,
   "id": "cdd8c338-8c93-49de-a5d2-551c8f709f42",
   "metadata": {},
   "outputs": [],
   "source": [
    "wght = [1.94,1.67,0.92,1.11,1.41,1.65,2.28,0.47,1.07,2.19,2.08,1.02,0.91,1.16,1.46,1.02,0.85,0.89,1.79,1.89,0.75,0.9,1.87,0.5,0.69,1.5,0.96,0.53,1.21,0.6]\n",
    "spcs = [1,1,0,0,1,1,1,0,0,1,1,0,0,0,1,0,0,0,1,1,0,1,1,0,0,1,1,0,1,0]"
   ]
  },
  {
   "cell_type": "markdown",
   "id": "59279529-304c-4468-b89a-5e2b854364f6",
   "metadata": {},
   "source": [
    "### 시각화"
   ]
  },
  {
   "cell_type": "code",
   "execution_count": 5,
   "id": "44387363-a7eb-4813-b325-082ff757420a",
   "metadata": {},
   "outputs": [
    {
     "data": {
      "image/png": "[encoded data removed]",
      "text/plain": [
       "<Figure size 640x480 with 1 Axes>"
      ]
     },
     "metadata": {},
     "output_type": "display_data"
    }
   ],
   "source": [
    "plt.plot(wght, spcs, 'ro')\n",
    "plt.tight_layout()"
   ]
  },
  {
   "cell_type": "markdown",
   "id": "6bcf9136-2f01-431e-a02c-48af5f3c8a45",
   "metadata": {},
   "source": [
    "### 선형회귀 분석"
   ]
  },
  {
   "cell_type": "code",
   "execution_count": 8,
   "id": "678f2a8d-c91b-4ad4-87ec-902caa2ee624",
   "metadata": {},
   "outputs": [
    {
     "data": {
      "text/html": [
       "<style>#sk-container-id-1 {color: black;}#sk-container-id-1 pre{padding: 0;}#sk-container-id-1 div.sk-toggleable {background-color: white;}#sk-container-id-1 label.sk-toggleable__label {cursor: pointer;display: block;width: 100%;margin-bottom: 0;padding: 0.3em;box-sizing: border-box;text-align: center;}#sk-container-id-1 label.sk-toggleable__label-arrow:before {content: \"▸\";float: left;margin-right: 0.25em;color: #696969;}#sk-container-id-1 label.sk-toggleable__label-arrow:hover:before {color: black;}#sk-container-id-1 div.sk-estimator:hover label.sk-toggleable__label-arrow:before {color: black;}#sk-container-id-1 div.sk-toggleable__content {max-height: 0;max-width: 0;overflow: hidden;text-align: left;background-color: #f0f8ff;}#sk-container-id-1 div.sk-toggleable__content pre {margin: 0.2em;color: black;border-radius: 0.25em;background-color: #f0f8ff;}#sk-container-id-1 input.sk-toggleable__control:checked~div.sk-toggleable__content {max-height: 200px;max-width: 100%;overflow: auto;}#sk-container-id-1 input.sk-toggleable__control:checked~label.sk-toggleable__label-arrow:before {content: \"▾\";}#sk-container-id-1 div.sk-estimator input.sk-toggleable__control:checked~label.sk-toggleable__label {background-color: #d4ebff;}#sk-container-id-1 div.sk-label input.sk-toggleable__control:checked~label.sk-toggleable__label {background-color: #d4ebff;}#sk-container-id-1 input.sk-hidden--visually {border: 0;clip: rect(1px 1px 1px 1px);clip: rect(1px, 1px, 1px, 1px);height: 1px;margin: -1px;overflow: hidden;padding: 0;position: absolute;width: 1px;}#sk-container-id-1 div.sk-estimator {font-family: monospace;background-color: #f0f8ff;border: 1px dotted black;border-radius: 0.25em;box-sizing: border-box;margin-bottom: 0.5em;}#sk-container-id-1 div.sk-estimator:hover {background-color: #d4ebff;}#sk-container-id-1 div.sk-parallel-item::after {content: \"\";width: 100%;border-bottom: 1px solid gray;flex-grow: 1;}#sk-container-id-1 div.sk-label:hover label.sk-toggleable__label {background-color: #d4ebff;}#sk-container-id-1 div.sk-serial::before {content: \"\";position: absolute;border-left: 1px solid gray;box-sizing: border-box;top: 0;bottom: 0;left: 50%;z-index: 0;}#sk-container-id-1 div.sk-serial {display: flex;flex-direction: column;align-items: center;background-color: white;padding-right: 0.2em;padding-left: 0.2em;position: relative;}#sk-container-id-1 div.sk-item {position: relative;z-index: 1;}#sk-container-id-1 div.sk-parallel {display: flex;align-items: stretch;justify-content: center;background-color: white;position: relative;}#sk-container-id-1 div.sk-item::before, #sk-container-id-1 div.sk-parallel-item::before {content: \"\";position: absolute;border-left: 1px solid gray;box-sizing: border-box;top: 0;bottom: 0;left: 50%;z-index: -1;}#sk-container-id-1 div.sk-parallel-item {display: flex;flex-direction: column;z-index: 1;position: relative;background-color: white;}#sk-container-id-1 div.sk-parallel-item:first-child::after {align-self: flex-end;width: 50%;}#sk-container-id-1 div.sk-parallel-item:last-child::after {align-self: flex-start;width: 50%;}#sk-container-id-1 div.sk-parallel-item:only-child::after {width: 0;}#sk-container-id-1 div.sk-dashed-wrapped {border: 1px dashed gray;margin: 0 0.4em 0.5em 0.4em;box-sizing: border-box;padding-bottom: 0.4em;background-color: white;}#sk-container-id-1 div.sk-label label {font-family: monospace;font-weight: bold;display: inline-block;line-height: 1.2em;}#sk-container-id-1 div.sk-label-container {text-align: center;}#sk-container-id-1 div.sk-container {/* jupyter's `normalize.less` sets `[hidden] { display: none; }` but bootstrap.min.css set `[hidden] { display: none !important; }` so we also need the `!important` here to be able to override the default hidden behavior on the sphinx rendered scikit-learn.org. See: https://github.com/scikit-learn/scikit-learn/issues/21755 */display: inline-block !important;position: relative;}#sk-container-id-1 div.sk-text-repr-fallback {display: none;}</style><div id=\"sk-container-id-1\" class=\"sk-top-container\"><div class=\"sk-text-repr-fallback\"><pre>LinearRegression()</pre><b>In a Jupyter environment, please rerun this cell to show the HTML representation or trust the notebook. <br />On GitHub, the HTML representation is unable to render, please try loading this page with nbviewer.org.</b></div><div class=\"sk-container\" hidden><div class=\"sk-item\"><div class=\"sk-estimator sk-toggleable\"><input class=\"sk-toggleable__control sk-hidden--visually\" id=\"sk-estimator-id-1\" type=\"checkbox\" checked><label for=\"sk-estimator-id-1\" class=\"sk-toggleable__label sk-toggleable__label-arrow\">LinearRegression</label><div class=\"sk-toggleable__content\"><pre>LinearRegression()</pre></div></div></div></div></div>"
      ],
      "text/plain": [
       "LinearRegression()"
      ]
     },
     "execution_count": 8,
     "metadata": {},
     "output_type": "execute_result"
    }
   ],
   "source": [
    "# 모델 학습\n",
    "# fit(독립변수, 종속변수)\n",
    "lr = LinearRegression()\n",
    "wght2 = np.array(wght).reshape(-1, 1)  # 배열 구조 변경\n",
    "lr.fit(wght2, spcs)"
   ]
  },
  {
   "cell_type": "code",
   "execution_count": 10,
   "id": "3af2f24c-2eeb-4b1c-8473-5e5e67401395",
   "metadata": {},
   "outputs": [
    {
     "data": {
      "text/plain": [
       "(array([0.74825276]), -0.43007818056050295)"
      ]
     },
     "execution_count": 10,
     "metadata": {},
     "output_type": "execute_result"
    }
   ],
   "source": [
    "# 회귀계수 확인\n",
    "# 기울기, 절편\n",
    "lr.coef_, lr.intercept_"
   ]
  },
  {
   "cell_type": "code",
   "execution_count": 11,
   "id": "4263af24-50ef-4713-854f-bda098954339",
   "metadata": {},
   "outputs": [
    {
     "data": {
      "text/plain": [
       "0.6140660982944375"
      ]
     },
     "execution_count": 11,
     "metadata": {},
     "output_type": "execute_result"
    }
   ],
   "source": [
    "# 예측 평가\n",
    "# 예측값 = predict(독립변수)\n",
    "# r2_score(실제값, 예측값)\n",
    "pred = lr.predict(wght2)\n",
    "r2_score(spcs, pred)"
   ]
  },
  {
   "cell_type": "markdown",
   "id": "8bb4d9a7-a1e7-461d-a641-a3225bfb3165",
   "metadata": {},
   "source": [
    "### 분석결과 시각화"
   ]
  },
  {
   "cell_type": "code",
   "execution_count": 13,
   "id": "3a2ea05d-ae83-4bc6-b0a2-ff68c5e96551",
   "metadata": {},
   "outputs": [
    {
     "data": {
      "image/png": "[encoded data removed]",
      "text/plain": [
       "<Figure size 640x480 with 1 Axes>"
      ]
     },
     "metadata": {},
     "output_type": "display_data"
    }
   ],
   "source": [
    "plt.plot(wght, spcs, 'bo')\n",
    "plt.plot(wght, pred, 'r-')\n",
    "plt.tight_layout()"
   ]
  },
  {
   "cell_type": "markdown",
   "id": "b16f39b9-fbd2-445e-8e50-472d7fc83443",
   "metadata": {},
   "source": [
    "## 종속변수가 범주형인 경우\n",
    "* 선형방정식은 이항분포를 따르는 데이터에 적용하기에 다소 맞지 않음\n",
    "   + $ y = ax + b $\n",
    "* 즉, 우변값의 범위는 '-무한대~+무한대'이지만, 좌변값의 범위는 '0~1'임\n",
    "* 따라서, 좌변값의 범위를 우변과 동일하게 '-무한대~+무한대'로\n",
    "  하려면 적절한 변환함수가 필요\n",
    "    + 로짓함수를 이용해서 변환함\n",
    "    + ### $  f(x) = \\frac {1} {1 + e^{-x}} $"
   ]
  },
  {
   "cell_type": "markdown",
   "id": "8a742db3-0d96-41fa-90a8-02bdd27e66f3",
   "metadata": {},
   "source": [
    "### 로짓함수 정의"
   ]
  },
  {
   "cell_type": "code",
   "execution_count": 14,
   "id": "036e518e-e329-4ce3-80ee-3913a88e66e3",
   "metadata": {},
   "outputs": [],
   "source": [
    "def logistic(x, w):\n",
    "    yy = 1 / (1 + np.exp(-(w[0]*x + w[1])))\n",
    "    return yy\n",
    "# w는 가중치.."
   ]
  },
  {
   "cell_type": "code",
   "execution_count": 15,
   "id": "1711aa14-b2ec-476e-a8fb-a61576d7e74c",
   "metadata": {},
   "outputs": [
    {
     "data": {
      "text/plain": [
       "(0.47, 2.28)"
      ]
     },
     "execution_count": 15,
     "metadata": {},
     "output_type": "execute_result"
    }
   ],
   "source": [
    "np.min(wght), np.max(wght)"
   ]
  },
  {
   "cell_type": "code",
   "execution_count": 20,
   "id": "b2d2e0a6-d006-4481-a99a-dadc2cb5dba6",
   "metadata": {},
   "outputs": [
    {
     "data": {
      "text/plain": [
       "(array([0.45      , 0.4877551 , 0.5255102 , 0.56326531, 0.60102041,\n",
       "        0.63877551, 0.67653061, 0.71428571, 0.75204082, 0.78979592,\n",
       "        0.82755102, 0.86530612, 0.90306122, 0.94081633, 0.97857143,\n",
       "        1.01632653, 1.05408163, 1.09183673, 1.12959184, 1.16734694,\n",
       "        1.20510204, 1.24285714, 1.28061224, 1.31836735, 1.35612245,\n",
       "        1.39387755, 1.43163265, 1.46938776, 1.50714286, 1.54489796,\n",
       "        1.58265306, 1.62040816, 1.65816327, 1.69591837, 1.73367347,\n",
       "        1.77142857, 1.80918367, 1.84693878, 1.88469388, 1.92244898,\n",
       "        1.96020408, 1.99795918, 2.03571429, 2.07346939, 2.11122449,\n",
       "        2.14897959, 2.18673469, 2.2244898 , 2.2622449 , 2.3       ]),\n",
       " array([0.0016588 , 0.00224241, 0.00303072, 0.00409503, 0.00553102,\n",
       "        0.00746679, 0.01007317, 0.01357692, 0.01827686, 0.02456328,\n",
       "        0.03293939, 0.04404281, 0.05866199, 0.07773913, 0.10234571,\n",
       "        0.13361258, 0.17259494, 0.22006183, 0.2762249 , 0.3404646 ,\n",
       "        0.41115719, 0.48571817, 0.56092032, 0.63342507, 0.70035304,\n",
       "        0.75969725, 0.81046911, 0.85259516, 0.88666738, 0.91366143,\n",
       "        0.93469944, 0.95088671, 0.96321924, 0.97254444, 0.97955556,\n",
       "        0.98480427, 0.988721  , 0.99163675, 0.99380348, 0.99541145,\n",
       "        0.99660359, 0.99748678, 0.99814074, 0.99862477, 0.99898291,\n",
       "        0.99924786, 0.99944383, 0.99958876, 0.99969593, 0.99977518]))"
      ]
     },
     "execution_count": 20,
     "metadata": {},
     "output_type": "execute_result"
    }
   ],
   "source": [
    "# 로짓함수를 이용해서 다시 그래프를 그림\n",
    "W = [8, -10]  # 기울기와 절편을 임의로 설정\n",
    "xx = np.linspace(0.45, 2.30, 50)\n",
    "yy = logistic(xx, W)\n",
    "xx, yy"
   ]
  },
  {
   "cell_type": "markdown",
   "id": "2777f4c0-9e08-42ce-9c8d-d5a3a9ad0332",
   "metadata": {},
   "source": [
    "### 분석 시각화"
   ]
  },
  {
   "cell_type": "code",
   "execution_count": 23,
   "id": "bffd40be-d50f-4767-90c1-6a26298a21b8",
   "metadata": {},
   "outputs": [
    {
     "data": {
      "image/png": "[encoded data removed]",
      "text/plain": [
       "<Figure size 640x480 with 1 Axes>"
      ]
     },
     "metadata": {},
     "output_type": "display_data"
    }
   ],
   "source": [
    "plt.plot(wght, spcs, 'bo')\n",
    "plt.plot(xx, yy, 'r-')\n",
    "plt.tight_layout()"
   ]
  },
  {
   "cell_type": "markdown",
   "id": "6d8bce93-8c76-4533-b0f1-63c6fef9880f",
   "metadata": {},
   "source": [
    "### 결정경계 시각화"
   ]
  },
  {
   "cell_type": "code",
   "execution_count": 32,
   "id": "3c830df5-fb46-4337-955b-31aaa3d9da5f",
   "metadata": {},
   "outputs": [
    {
     "data": {
      "text/plain": [
       "(22, 0.5609203189794597, 1.280612244897959)"
      ]
     },
     "execution_count": 32,
     "metadata": {},
     "output_type": "execute_result"
    }
   ],
   "source": [
    "# yy가 0.5이상이 되는 지점을 알아냄\n",
    "idx = np.min(np.where(yy >= 0.5))\n",
    "idx, yy[idx], xx[idx]"
   ]
  },
  {
   "cell_type": "code",
   "execution_count": 34,
   "id": "4dc4597c-750f-4361-b763-675ce137e09b",
   "metadata": {},
   "outputs": [
    {
     "data": {
      "image/png": "[encoded data removed]",
      "text/plain": [
       "<Figure size 640x480 with 1 Axes>"
      ]
     },
     "metadata": {},
     "output_type": "display_data"
    }
   ],
   "source": [
    "xp = xx[idx]\n",
    "\n",
    "plt.plot(wght, spcs, 'bo')\n",
    "plt.plot(xx, yy, 'r-')\n",
    "plt.plot([xp, xp], [0, 1], 'g--')\n",
    "plt.tight_layout()"
   ]
  },
  {
   "cell_type": "markdown",
   "id": "9cf6077b-296b-4f79-acbb-a2e404deda00",
   "metadata": {},
   "source": [
    "### 타이타닉 승선객의 나이에 따른 생존여부 분석"
   ]
  },
  {
   "cell_type": "code",
   "execution_count": 36,
   "id": "f0daea4b-91ce-414d-a95a-68fe69a006c0",
   "metadata": {},
   "outputs": [
    {
     "data": {
      "text/html": [
       "<div>\n",
       "<style scoped>\n",
       "    .dataframe tbody tr th:only-of-type {\n",
       "        vertical-align: middle;\n",
       "    }\n",
       "\n",
       "    .dataframe tbody tr th {\n",
       "        vertical-align: top;\n",
       "    }\n",
       "\n",
       "    .dataframe thead th {\n",
       "        text-align: right;\n",
       "    }\n",
       "</style>\n",
       "<table border=\"1\" class=\"dataframe\">\n",
       "  <thead>\n",
       "    <tr style=\"text-align: right;\">\n",
       "      <th></th>\n",
       "      <th>pclass</th>\n",
       "      <th>survived</th>\n",
       "      <th>name</th>\n",
       "      <th>sex</th>\n",
       "      <th>age</th>\n",
       "      <th>sibsp</th>\n",
       "      <th>parch</th>\n",
       "      <th>ticket</th>\n",
       "      <th>fare</th>\n",
       "      <th>cabin</th>\n",
       "      <th>embarked</th>\n",
       "    </tr>\n",
       "  </thead>\n",
       "  <tbody>\n",
       "    <tr>\n",
       "      <th>0</th>\n",
       "      <td>1.0</td>\n",
       "      <td>1.0</td>\n",
       "      <td>Allen, Miss. Elisabeth Walton</td>\n",
       "      <td>female</td>\n",
       "      <td>29.0000</td>\n",
       "      <td>0.0</td>\n",
       "      <td>0.0</td>\n",
       "      <td>24160</td>\n",
       "      <td>211.3375</td>\n",
       "      <td>B5</td>\n",
       "      <td>S</td>\n",
       "    </tr>\n",
       "    <tr>\n",
       "      <th>1</th>\n",
       "      <td>1.0</td>\n",
       "      <td>1.0</td>\n",
       "      <td>Allison, Master. Hudson Trevor</td>\n",
       "      <td>male</td>\n",
       "      <td>0.9167</td>\n",
       "      <td>1.0</td>\n",
       "      <td>2.0</td>\n",
       "      <td>113781</td>\n",
       "      <td>151.5500</td>\n",
       "      <td>C22 C26</td>\n",
       "      <td>S</td>\n",
       "    </tr>\n",
       "    <tr>\n",
       "      <th>2</th>\n",
       "      <td>1.0</td>\n",
       "      <td>0.0</td>\n",
       "      <td>Allison, Miss. Helen Loraine</td>\n",
       "      <td>female</td>\n",
       "      <td>2.0000</td>\n",
       "      <td>1.0</td>\n",
       "      <td>2.0</td>\n",
       "      <td>113781</td>\n",
       "      <td>151.5500</td>\n",
       "      <td>C22 C26</td>\n",
       "      <td>S</td>\n",
       "    </tr>\n",
       "    <tr>\n",
       "      <th>3</th>\n",
       "      <td>1.0</td>\n",
       "      <td>0.0</td>\n",
       "      <td>Allison, Mr. Hudson Joshua Creighton</td>\n",
       "      <td>male</td>\n",
       "      <td>30.0000</td>\n",
       "      <td>1.0</td>\n",
       "      <td>2.0</td>\n",
       "      <td>113781</td>\n",
       "      <td>151.5500</td>\n",
       "      <td>C22 C26</td>\n",
       "      <td>S</td>\n",
       "    </tr>\n",
       "    <tr>\n",
       "      <th>4</th>\n",
       "      <td>1.0</td>\n",
       "      <td>0.0</td>\n",
       "      <td>Allison, Mrs. Hudson J C (Bessie Waldo Daniels)</td>\n",
       "      <td>female</td>\n",
       "      <td>25.0000</td>\n",
       "      <td>1.0</td>\n",
       "      <td>2.0</td>\n",
       "      <td>113781</td>\n",
       "      <td>151.5500</td>\n",
       "      <td>C22 C26</td>\n",
       "      <td>S</td>\n",
       "    </tr>\n",
       "  </tbody>\n",
       "</table>\n",
       "</div>"
      ],
      "text/plain": [
       "   pclass  survived                                             name     sex  \\\n",
       "0     1.0       1.0                    Allen, Miss. Elisabeth Walton  female   \n",
       "1     1.0       1.0                   Allison, Master. Hudson Trevor    male   \n",
       "2     1.0       0.0                     Allison, Miss. Helen Loraine  female   \n",
       "3     1.0       0.0             Allison, Mr. Hudson Joshua Creighton    male   \n",
       "4     1.0       0.0  Allison, Mrs. Hudson J C (Bessie Waldo Daniels)  female   \n",
       "\n",
       "       age  sibsp  parch  ticket      fare    cabin embarked  \n",
       "0  29.0000    0.0    0.0   24160  211.3375       B5        S  \n",
       "1   0.9167    1.0    2.0  113781  151.5500  C22 C26        S  \n",
       "2   2.0000    1.0    2.0  113781  151.5500  C22 C26        S  \n",
       "3  30.0000    1.0    2.0  113781  151.5500  C22 C26        S  \n",
       "4  25.0000    1.0    2.0  113781  151.5500  C22 C26        S  "
      ]
     },
     "execution_count": 36,
     "metadata": {},
     "output_type": "execute_result"
    }
   ],
   "source": [
    "titanic = pd.read_csv('data/titanic.csv')\n",
    "titanic.head()"
   ]
  },
  {
   "cell_type": "code",
   "execution_count": 38,
   "id": "37faf213-b677-4e39-b51a-ea9c1f06df1b",
   "metadata": {},
   "outputs": [
    {
     "data": {
      "text/html": [
       "<div>\n",
       "<style scoped>\n",
       "    .dataframe tbody tr th:only-of-type {\n",
       "        vertical-align: middle;\n",
       "    }\n",
       "\n",
       "    .dataframe tbody tr th {\n",
       "        vertical-align: top;\n",
       "    }\n",
       "\n",
       "    .dataframe thead th {\n",
       "        text-align: right;\n",
       "    }\n",
       "</style>\n",
       "<table border=\"1\" class=\"dataframe\">\n",
       "  <thead>\n",
       "    <tr style=\"text-align: right;\">\n",
       "      <th></th>\n",
       "      <th>age</th>\n",
       "      <th>survived</th>\n",
       "    </tr>\n",
       "  </thead>\n",
       "  <tbody>\n",
       "    <tr>\n",
       "      <th>0</th>\n",
       "      <td>29.0000</td>\n",
       "      <td>1.0</td>\n",
       "    </tr>\n",
       "    <tr>\n",
       "      <th>1</th>\n",
       "      <td>0.9167</td>\n",
       "      <td>1.0</td>\n",
       "    </tr>\n",
       "    <tr>\n",
       "      <th>2</th>\n",
       "      <td>2.0000</td>\n",
       "      <td>0.0</td>\n",
       "    </tr>\n",
       "    <tr>\n",
       "      <th>3</th>\n",
       "      <td>30.0000</td>\n",
       "      <td>0.0</td>\n",
       "    </tr>\n",
       "    <tr>\n",
       "      <th>4</th>\n",
       "      <td>25.0000</td>\n",
       "      <td>0.0</td>\n",
       "    </tr>\n",
       "  </tbody>\n",
       "</table>\n",
       "</div>"
      ],
      "text/plain": [
       "       age  survived\n",
       "0  29.0000       1.0\n",
       "1   0.9167       1.0\n",
       "2   2.0000       0.0\n",
       "3  30.0000       0.0\n",
       "4  25.0000       0.0"
      ]
     },
     "execution_count": 38,
     "metadata": {},
     "output_type": "execute_result"
    }
   ],
   "source": [
    "data = titanic.loc[:, ['age','survived']]\n",
    "data.head()"
   ]
  },
  {
   "cell_type": "code",
   "execution_count": 40,
   "id": "fc2e219a-56aa-4ddd-adf9-c47be15313fa",
   "metadata": {},
   "outputs": [
    {
     "data": {
      "text/plain": [
       "age         264\n",
       "survived      1\n",
       "dtype: int64"
      ]
     },
     "execution_count": 40,
     "metadata": {},
     "output_type": "execute_result"
    }
   ],
   "source": [
    "data.isna().sum()"
   ]
  },
  {
   "cell_type": "code",
   "execution_count": 41,
   "id": "5bf37cbc-516f-4eb2-ae24-4b243766cb61",
   "metadata": {},
   "outputs": [],
   "source": [
    "data.dropna(inplace=True)"
   ]
  },
  {
   "cell_type": "code",
   "execution_count": 42,
   "id": "0fcc3dfe-dfd6-4bfb-b0e8-655b09ba6750",
   "metadata": {},
   "outputs": [
    {
     "data": {
      "text/plain": [
       "age         0\n",
       "survived    0\n",
       "dtype: int64"
      ]
     },
     "execution_count": 42,
     "metadata": {},
     "output_type": "execute_result"
    }
   ],
   "source": [
    "# 데이터 사라진 걸 확인할 수 있음\n",
    "data.isna().sum()"
   ]
  },
  {
   "cell_type": "code",
   "execution_count": 43,
   "id": "703f0390-4029-4b78-ae28-adea7cdc3387",
   "metadata": {},
   "outputs": [
    {
     "data": {
      "image/png": "[encoded data removed]",
      "text/plain": [
       "<Figure size 640x480 with 1 Axes>"
      ]
     },
     "metadata": {},
     "output_type": "display_data"
    }
   ],
   "source": [
    "plt.plot(data.age, data.survived, 'ro')\n",
    "plt.tight_layout()"
   ]
  },
  {
   "cell_type": "code",
   "execution_count": 48,
   "id": "1f8d493b-f42c-4d79-a488-7070c9b9eb88",
   "metadata": {},
   "outputs": [],
   "source": [
    "# 로짓함수를 이용해서 다시 그래프를 그림\n",
    "W = [1, -37]  # 기울기와 절편을 임의로 설정\n",
    "xx = np.linspace(0, 80, 200)\n",
    "yy = logistic(xx, W)"
   ]
  },
  {
   "cell_type": "code",
   "execution_count": 49,
   "id": "4741f591-a12a-4150-a039-9a1f0979c7ec",
   "metadata": {},
   "outputs": [
    {
     "data": {
      "image/png": "[encoded data removed]",
      "text/plain": [
       "<Figure size 640x480 with 1 Axes>"
      ]
     },
     "metadata": {},
     "output_type": "display_data"
    }
   ],
   "source": [
    "plt.plot(data.age, data.survived, 'ro')\n",
    "plt.plot(xx, yy, 'b--')\n",
    "plt.tight_layout()"
   ]
  },
  {
   "cell_type": "code",
   "execution_count": null,
   "id": "342ecdae-e958-4692-ba4a-47c7c83ecf78",
   "metadata": {},
   "outputs": [],
   "source": []
  }
 ],
 "metadata": {
  "kernelspec": {
   "display_name": "Python 3 (ipykernel)",
   "language": "python",
   "name": "python3"
  },
  "language_info": {
   "codemirror_mode": {
    "name": "ipython",
    "version": 3
   },
   "file_extension": ".py",
   "mimetype": "text/x-python",
   "name": "python",
   "nbconvert_exporter": "python",
   "pygments_lexer": "ipython3",
   "version": "3.11.4"
  }
 },
 "nbformat": 4,
 "nbformat_minor": 5
}

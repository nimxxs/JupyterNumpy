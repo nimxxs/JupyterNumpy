{
 "cells": [
  {
   "cell_type": "markdown",
   "id": "9816946c-e69c-4ba6-a380-99c6064b829b",
   "metadata": {},
   "source": [
    "## pandas\n",
    "* 행에 열 레이블을 부착한 n차원 행렬 자료구조를 제공하는 파이썬 라이브러리\n",
    "* 지원하는 자료구조는 Series, DataFrame, Panel임\n",
    "* 단, 0.20이후로 Panel은 deprecated 됨\n",
    "* numpy 기반으로 구현되어 처리속도가 빠름\n",
    "* pandas의 창시자 중 한 명은 해지펀드 애널리스트로 일하며 파이썬에서 금융 시계열을 다루기 위한 목적으로 개발함\n",
    "* pandas.pydata.org"
   ]
  },
  {
   "cell_type": "code",
   "execution_count": 1,
   "id": "6a3a4fa3-74a2-4c1d-9999-16e90b268fc1",
   "metadata": {},
   "outputs": [],
   "source": [
    "import numpy as np\n",
    "import pandas as pd"
   ]
  },
  {
   "cell_type": "code",
   "execution_count": 3,
   "id": "461816f1-8bcd-4534-81a8-c7b40fcac85d",
   "metadata": {},
   "outputs": [
    {
     "data": {
      "text/plain": [
       "'2.0.3'"
      ]
     },
     "execution_count": 3,
     "metadata": {},
     "output_type": "execute_result"
    }
   ],
   "source": [
    "pd.__version__"
   ]
  },
  {
   "cell_type": "markdown",
   "id": "539485e4-6c54-4f60-90bb-83f594d50aea",
   "metadata": {},
   "source": [
    "### pandas 자료구조 1 : series\n",
    "* R의 벡터와 유사한 자료구조 : 1차원 배열\n",
    "* pd.Series(데이터, 인덱스, 자료형)"
   ]
  },
  {
   "cell_type": "code",
   "execution_count": 5,
   "id": "a83da383-00c0-447a-acee-8f3476093db2",
   "metadata": {},
   "outputs": [
    {
     "data": {
      "text/plain": [
       "Series([], dtype: object)"
      ]
     },
     "execution_count": 5,
     "metadata": {},
     "output_type": "execute_result"
    }
   ],
   "source": [
    "# 빈 시리즈 생성\n",
    "a = pd.Series(dtype='object')\n",
    "a"
   ]
  },
  {
   "cell_type": "code",
   "execution_count": 6,
   "id": "590b3d61-0069-4b73-9199-e4582c4be4ad",
   "metadata": {},
   "outputs": [
    {
     "data": {
      "text/plain": [
       "0    1\n",
       "1    2\n",
       "2    3\n",
       "3    4\n",
       "4    5\n",
       "dtype: int64"
      ]
     },
     "execution_count": 6,
     "metadata": {},
     "output_type": "execute_result"
    }
   ],
   "source": [
    "# numpy 배열을 시리즈로 생성\n",
    "b = pd.Series([1,2,3,4,5])\n",
    "b"
   ]
  },
  {
   "cell_type": "code",
   "execution_count": 8,
   "id": "7c1c3d28-12d5-4ad3-9cd7-22d3c4895ee7",
   "metadata": {},
   "outputs": [
    {
     "data": {
      "text/plain": [
       "1     6\n",
       "2     7\n",
       "3     8\n",
       "4     9\n",
       "5    10\n",
       "dtype: int64"
      ]
     },
     "execution_count": 8,
     "metadata": {},
     "output_type": "execute_result"
    }
   ],
   "source": [
    "# 시리즈 생성시 인덱스 지정\n",
    "c = pd.Series(data=[6,7,8,9,10], index=[1,2,3,4,5])\n",
    "c"
   ]
  },
  {
   "cell_type": "code",
   "execution_count": 11,
   "id": "6822a544-f686-4942-a136-24aec01a0507",
   "metadata": {},
   "outputs": [
    {
     "data": {
      "text/plain": [
       "(array([ 6,  7,  8,  9, 10]),\n",
       " Index([1, 2, 3, 4, 5], dtype='int64'),\n",
       " dtype('int64'))"
      ]
     },
     "execution_count": 11,
     "metadata": {},
     "output_type": "execute_result"
    }
   ],
   "source": [
    "# 시리즈 객체가 지원하는 여러가지 속성\n",
    "c.values, c.index, c.dtype"
   ]
  },
  {
   "cell_type": "code",
   "execution_count": 11,
   "id": "f3c70d28-c0b8-4437-8fd0-71a73278bf16",
   "metadata": {},
   "outputs": [
    {
     "data": {
      "text/plain": [
       "(array([ 6,  7,  8,  9, 10]),\n",
       " Index([1, 2, 3, 4, 5], dtype='int64'),\n",
       " dtype('int64'))"
      ]
     },
     "execution_count": 11,
     "metadata": {},
     "output_type": "execute_result"
    }
   ],
   "source": [
    "# 시리즈 객체 실제로 numpy 배열타입임\n",
    "type(c.values)"
   ]
  },
  {
   "cell_type": "markdown",
   "id": "5b4d0d99-18dc-4123-aefd-fbb56acb213b",
   "metadata": {},
   "source": [
    "## 팬더스 indexer\n",
    "* pandas에서 정수형 인덱스를 사용하는 경우\n",
    "  파이썬의 slice 연산과 혼동할 위험 존재\n",
    "* 따라서, pandas만의 특별한 요소지정방법 제공 - indexer\n",
    "  + loc  : 문자형 인덱스로 요소 지정\n",
    "  + iloc : 숫자형 인덱스로 요소 지정"
   ]
  },
  {
   "cell_type": "code",
   "execution_count": 12,
   "id": "1bd54503-b526-4530-8a9a-99e5b800730c",
   "metadata": {},
   "outputs": [],
   "source": [
    "d = pd.Series([9,8,7,6,5], index=['가','나','다','라','마'])"
   ]
  },
  {
   "cell_type": "code",
   "execution_count": 15,
   "id": "e047d01f-0079-4217-bc22-457a902d9168",
   "metadata": {},
   "outputs": [
    {
     "data": {
      "text/plain": [
       "(9, 9, 9)"
      ]
     },
     "execution_count": 15,
     "metadata": {},
     "output_type": "execute_result"
    }
   ],
   "source": [
    "# 1번째 자료 지정\n",
    "d[0], d.iloc[0], d.loc['가']"
   ]
  },
  {
   "cell_type": "code",
   "execution_count": 19,
   "id": "0d4b983b-7749-491a-86d3-24297f9e0243",
   "metadata": {},
   "outputs": [
    {
     "data": {
      "text/plain": [
       "(다    7\n",
       " 라    6\n",
       " 마    5\n",
       " dtype: int64,\n",
       " 다    7\n",
       " 라    6\n",
       " 마    5\n",
       " dtype: int64,\n",
       " 다    7\n",
       " 라    6\n",
       " 마    5\n",
       " dtype: int64)"
      ]
     },
     "execution_count": 19,
     "metadata": {},
     "output_type": "execute_result"
    }
   ],
   "source": [
    "# 3번쨰 이후 나머지 자료들 지정\n",
    "d[2:], d.iloc[2:], d.loc['다':]"
   ]
  },
  {
   "cell_type": "code",
   "execution_count": 23,
   "id": "d5b3f97c-60ef-4e85-8d4b-0c40ed809435",
   "metadata": {},
   "outputs": [
    {
     "data": {
      "text/plain": [
       "(가    9\n",
       " 다    7\n",
       " 마    5\n",
       " dtype: int64,\n",
       " 가    9\n",
       " 다    7\n",
       " 마    5\n",
       " dtype: int64,\n",
       " 가    9\n",
       " 다    7\n",
       " 마    5\n",
       " dtype: int64)"
      ]
     },
     "execution_count": 23,
     "metadata": {},
     "output_type": "execute_result"
    }
   ],
   "source": [
    "# 홀수위치의 모든 자료들 지정\n",
    "d[::2], d.iloc[::2], d.loc[['가','다','마']]\n",
    "# 홀수 위치에 있는 인덱스들을 하나의 객체에 담기 위해서 대괄호 2개를 썼음"
   ]
  },
  {
   "cell_type": "markdown",
   "id": "752f2105-7029-4bb5-af46-f5dda0c5a335",
   "metadata": {},
   "source": [
    "## dict 객체로 시리즈 객체 생성"
   ]
  },
  {
   "cell_type": "code",
   "execution_count": 24,
   "id": "8246c916-eb83-44e6-a99e-5f4640988331",
   "metadata": {},
   "outputs": [
    {
     "data": {
      "text/plain": [
       "a    1\n",
       "b    2\n",
       "c    3\n",
       "d    4\n",
       "e    5\n",
       "dtype: int64"
      ]
     },
     "execution_count": 24,
     "metadata": {},
     "output_type": "execute_result"
    }
   ],
   "source": [
    "data = {'a':1, 'b':2, 'c':3, 'd':4, 'e':5}\n",
    "e = pd.Series(data)\n",
    "e"
   ]
  },
  {
   "cell_type": "markdown",
   "id": "85ab7853-15ad-4e66-8633-5dff033ab0da",
   "metadata": {},
   "source": [
    "## pandas 자료구조 2 : dataframe\n",
    "* R의 데이터프레임과 유사한 자료구조 : 2차원 테이블\n",
    "* pd.DataFrame(데이터, 인덱스, 컬럼레이블, 자료형)"
   ]
  },
  {
   "cell_type": "code",
   "execution_count": 25,
   "id": "387db664-dfba-44cf-842d-b27ab4ddb1c9",
   "metadata": {},
   "outputs": [
    {
     "data": {
      "text/html": [
       "<div>\n",
       "<style scoped>\n",
       "    .dataframe tbody tr th:only-of-type {\n",
       "        vertical-align: middle;\n",
       "    }\n",
       "\n",
       "    .dataframe tbody tr th {\n",
       "        vertical-align: top;\n",
       "    }\n",
       "\n",
       "    .dataframe thead th {\n",
       "        text-align: right;\n",
       "    }\n",
       "</style>\n",
       "<table border=\"1\" class=\"dataframe\">\n",
       "  <thead>\n",
       "    <tr style=\"text-align: right;\">\n",
       "      <th></th>\n",
       "    </tr>\n",
       "  </thead>\n",
       "  <tbody>\n",
       "  </tbody>\n",
       "</table>\n",
       "</div>"
      ],
      "text/plain": [
       "Empty DataFrame\n",
       "Columns: []\n",
       "Index: []"
      ]
     },
     "execution_count": 25,
     "metadata": {},
     "output_type": "execute_result"
    }
   ],
   "source": [
    "# 빈 데이터프레임 객체 생성\n",
    "f = pd.DataFrame()\n",
    "f"
   ]
  },
  {
   "cell_type": "code",
   "execution_count": 26,
   "id": "d23354a3-cf4d-409b-b418-edd9e2916665",
   "metadata": {
    "collapsed": true,
    "jupyter": {
     "outputs_hidden": true
    }
   },
   "outputs": [
    {
     "data": {
      "text/html": [
       "<div>\n",
       "<style scoped>\n",
       "    .dataframe tbody tr th:only-of-type {\n",
       "        vertical-align: middle;\n",
       "    }\n",
       "\n",
       "    .dataframe tbody tr th {\n",
       "        vertical-align: top;\n",
       "    }\n",
       "\n",
       "    .dataframe thead th {\n",
       "        text-align: right;\n",
       "    }\n",
       "</style>\n",
       "<table border=\"1\" class=\"dataframe\">\n",
       "  <thead>\n",
       "    <tr style=\"text-align: right;\">\n",
       "      <th></th>\n",
       "      <th>0</th>\n",
       "    </tr>\n",
       "  </thead>\n",
       "  <tbody>\n",
       "    <tr>\n",
       "      <th>0</th>\n",
       "      <td>1</td>\n",
       "    </tr>\n",
       "    <tr>\n",
       "      <th>1</th>\n",
       "      <td>2</td>\n",
       "    </tr>\n",
       "    <tr>\n",
       "      <th>2</th>\n",
       "      <td>3</td>\n",
       "    </tr>\n",
       "    <tr>\n",
       "      <th>3</th>\n",
       "      <td>4</td>\n",
       "    </tr>\n",
       "    <tr>\n",
       "      <th>4</th>\n",
       "      <td>5</td>\n",
       "    </tr>\n",
       "  </tbody>\n",
       "</table>\n",
       "</div>"
      ],
      "text/plain": [
       "   0\n",
       "0  1\n",
       "1  2\n",
       "2  3\n",
       "3  4\n",
       "4  5"
      ]
     },
     "execution_count": 26,
     "metadata": {},
     "output_type": "execute_result"
    }
   ],
   "source": [
    "# 리스트로 데이터프레임 객체 생성\n",
    "data = [1,2,3,4,5]\n",
    "g = pd.DataFrame(data)\n",
    "g  # 컬럼명이 없음"
   ]
  },
  {
   "cell_type": "code",
   "execution_count": 28,
   "id": "932dc537-7548-4ee0-8eb0-a1b74252d345",
   "metadata": {
    "collapsed": true,
    "jupyter": {
     "outputs_hidden": true
    }
   },
   "outputs": [
    {
     "data": {
      "text/html": [
       "<div>\n",
       "<style scoped>\n",
       "    .dataframe tbody tr th:only-of-type {\n",
       "        vertical-align: middle;\n",
       "    }\n",
       "\n",
       "    .dataframe tbody tr th {\n",
       "        vertical-align: top;\n",
       "    }\n",
       "\n",
       "    .dataframe thead th {\n",
       "        text-align: right;\n",
       "    }\n",
       "</style>\n",
       "<table border=\"1\" class=\"dataframe\">\n",
       "  <thead>\n",
       "    <tr style=\"text-align: right;\">\n",
       "      <th></th>\n",
       "      <th>nums</th>\n",
       "    </tr>\n",
       "  </thead>\n",
       "  <tbody>\n",
       "    <tr>\n",
       "      <th>0</th>\n",
       "      <td>1</td>\n",
       "    </tr>\n",
       "    <tr>\n",
       "      <th>1</th>\n",
       "      <td>2</td>\n",
       "    </tr>\n",
       "    <tr>\n",
       "      <th>2</th>\n",
       "      <td>3</td>\n",
       "    </tr>\n",
       "    <tr>\n",
       "      <th>3</th>\n",
       "      <td>4</td>\n",
       "    </tr>\n",
       "    <tr>\n",
       "      <th>4</th>\n",
       "      <td>5</td>\n",
       "    </tr>\n",
       "  </tbody>\n",
       "</table>\n",
       "</div>"
      ],
      "text/plain": [
       "   nums\n",
       "0     1\n",
       "1     2\n",
       "2     3\n",
       "3     4\n",
       "4     5"
      ]
     },
     "execution_count": 28,
     "metadata": {},
     "output_type": "execute_result"
    }
   ],
   "source": [
    "g = pd.DataFrame(data, columns=['nums'])\n",
    "g  # 컬럼명 출력"
   ]
  },
  {
   "cell_type": "code",
   "execution_count": 30,
   "id": "d8cc49b5-2846-4b08-ae4c-48341c52f2c7",
   "metadata": {
    "collapsed": true,
    "jupyter": {
     "outputs_hidden": true
    }
   },
   "outputs": [
    {
     "data": {
      "text/html": [
       "<div>\n",
       "<style scoped>\n",
       "    .dataframe tbody tr th:only-of-type {\n",
       "        vertical-align: middle;\n",
       "    }\n",
       "\n",
       "    .dataframe tbody tr th {\n",
       "        vertical-align: top;\n",
       "    }\n",
       "\n",
       "    .dataframe thead th {\n",
       "        text-align: right;\n",
       "    }\n",
       "</style>\n",
       "<table border=\"1\" class=\"dataframe\">\n",
       "  <thead>\n",
       "    <tr style=\"text-align: right;\">\n",
       "      <th></th>\n",
       "      <th>이름</th>\n",
       "      <th>점수</th>\n",
       "    </tr>\n",
       "  </thead>\n",
       "  <tbody>\n",
       "    <tr>\n",
       "      <th>1</th>\n",
       "      <td>지현</td>\n",
       "      <td>90</td>\n",
       "    </tr>\n",
       "    <tr>\n",
       "      <th>2</th>\n",
       "      <td>혜교</td>\n",
       "      <td>83</td>\n",
       "    </tr>\n",
       "    <tr>\n",
       "      <th>3</th>\n",
       "      <td>수지</td>\n",
       "      <td>99</td>\n",
       "    </tr>\n",
       "  </tbody>\n",
       "</table>\n",
       "</div>"
      ],
      "text/plain": [
       "   이름  점수\n",
       "1  지현  90\n",
       "2  혜교  83\n",
       "3  수지  99"
      ]
     },
     "execution_count": 30,
     "metadata": {},
     "output_type": "execute_result"
    }
   ],
   "source": [
    "# 3행 2열짜리 배열로 성적 데이터프레임 객체 생성\n",
    "data = [['지현',90], ['혜교',83], ['수지',99]]\n",
    "cols = ['이름','점수']\n",
    "idx = [1,2,3]\n",
    "h = pd.DataFrame(data, columns=cols, index=idx)\n",
    "h"
   ]
  },
  {
   "cell_type": "markdown",
   "id": "bae42f74-c707-446a-88a3-89fb22755a65",
   "metadata": {},
   "source": [
    "## dict 객체로 데이터프레임 객체 생성"
   ]
  },
  {
   "cell_type": "code",
   "execution_count": 32,
   "id": "7494d5d6-ac38-4ee8-a068-b8b3324eae0f",
   "metadata": {
    "collapsed": true,
    "jupyter": {
     "outputs_hidden": true
    }
   },
   "outputs": [
    {
     "data": {
      "text/html": [
       "<div>\n",
       "<style scoped>\n",
       "    .dataframe tbody tr th:only-of-type {\n",
       "        vertical-align: middle;\n",
       "    }\n",
       "\n",
       "    .dataframe tbody tr th {\n",
       "        vertical-align: top;\n",
       "    }\n",
       "\n",
       "    .dataframe thead th {\n",
       "        text-align: right;\n",
       "    }\n",
       "</style>\n",
       "<table border=\"1\" class=\"dataframe\">\n",
       "  <thead>\n",
       "    <tr style=\"text-align: right;\">\n",
       "      <th></th>\n",
       "      <th>이름</th>\n",
       "      <th>점수</th>\n",
       "    </tr>\n",
       "  </thead>\n",
       "  <tbody>\n",
       "    <tr>\n",
       "      <th>1</th>\n",
       "      <td>지현</td>\n",
       "      <td>99</td>\n",
       "    </tr>\n",
       "    <tr>\n",
       "      <th>2</th>\n",
       "      <td>혜교</td>\n",
       "      <td>76</td>\n",
       "    </tr>\n",
       "    <tr>\n",
       "      <th>3</th>\n",
       "      <td>수지</td>\n",
       "      <td>80</td>\n",
       "    </tr>\n",
       "  </tbody>\n",
       "</table>\n",
       "</div>"
      ],
      "text/plain": [
       "   이름  점수\n",
       "1  지현  99\n",
       "2  혜교  76\n",
       "3  수지  80"
      ]
     },
     "execution_count": 32,
     "metadata": {},
     "output_type": "execute_result"
    }
   ],
   "source": [
    "data = { '이름' : ['지현','혜교','수지'],\n",
    "         '점수' : [99,76,80] }\n",
    "i = pd.DataFrame(data, index=idx)\n",
    "i"
   ]
  },
  {
   "cell_type": "markdown",
   "id": "1dfd36c3-4779-475e-a11c-f231f02441ba",
   "metadata": {},
   "source": [
    "## Series 객체로 데이터프레임 객체 생성"
   ]
  },
  {
   "cell_type": "code",
   "execution_count": 37,
   "id": "3be3a94f-dc7c-4d54-8cb4-0032bb5c345b",
   "metadata": {
    "collapsed": true,
    "jupyter": {
     "outputs_hidden": true
    }
   },
   "outputs": [
    {
     "data": {
      "text/html": [
       "<div>\n",
       "<style scoped>\n",
       "    .dataframe tbody tr th:only-of-type {\n",
       "        vertical-align: middle;\n",
       "    }\n",
       "\n",
       "    .dataframe tbody tr th {\n",
       "        vertical-align: top;\n",
       "    }\n",
       "\n",
       "    .dataframe thead th {\n",
       "        text-align: right;\n",
       "    }\n",
       "</style>\n",
       "<table border=\"1\" class=\"dataframe\">\n",
       "  <thead>\n",
       "    <tr style=\"text-align: right;\">\n",
       "      <th></th>\n",
       "      <th>이름</th>\n",
       "      <th>점수</th>\n",
       "    </tr>\n",
       "  </thead>\n",
       "  <tbody>\n",
       "    <tr>\n",
       "      <th>1</th>\n",
       "      <td>지현</td>\n",
       "      <td>99</td>\n",
       "    </tr>\n",
       "    <tr>\n",
       "      <th>2</th>\n",
       "      <td>혜교</td>\n",
       "      <td>76</td>\n",
       "    </tr>\n",
       "    <tr>\n",
       "      <th>3</th>\n",
       "      <td>수지</td>\n",
       "      <td>80</td>\n",
       "    </tr>\n",
       "  </tbody>\n",
       "</table>\n",
       "</div>"
      ],
      "text/plain": [
       "   이름  점수\n",
       "1  지현  99\n",
       "2  혜교  76\n",
       "3  수지  80"
      ]
     },
     "execution_count": 37,
     "metadata": {},
     "output_type": "execute_result"
    }
   ],
   "source": [
    "name = pd.Series(['지현','혜교','수지'])\n",
    "jumsu = pd.Series([99,76,80])\n",
    "data = {'이름':name, '점수':jumsu}\n",
    "j = pd.DataFrame(data) # 여기선 index를 지정하지 않음\n",
    "j.index = idx          # index 직접 지정\n",
    "j"
   ]
  },
  {
   "cell_type": "markdown",
   "id": "452d6689-da0f-41ff-b250-4ade570391ce",
   "metadata": {},
   "source": [
    "#### 데이터프레임 만들기 예제 - managers"
   ]
  },
  {
   "cell_type": "code",
   "execution_count": 43,
   "id": "e182384c-72e6-410a-b855-e57d6a68b1da",
   "metadata": {},
   "outputs": [],
   "source": [
    "manager = np.arange(1,5+1)\n",
    "date = ['10/24/14','10/28/14','10/01/14','10/12/14','15/01/14']\n",
    "country = ['US','US','UK','UK','UK']\n",
    "gender = ['M','F','F','M','F']\n",
    "age = [32,45,25,39,99]\n",
    "q1 = [5,3,3,3,2]\n",
    "q2 = [4,5,5,3,2]\n",
    "q3 = [5,2,5,4,1]\n",
    "q4 = [5,5,5,np.NAN,2]\n",
    "q5 = [5,5,2,np.NAN,1]"
   ]
  },
  {
   "cell_type": "code",
   "execution_count": 44,
   "id": "c2453f91-4848-44be-a7da-8c93ba9e2d65",
   "metadata": {},
   "outputs": [
    {
     "data": {
      "text/html": [
       "<div>\n",
       "<style scoped>\n",
       "    .dataframe tbody tr th:only-of-type {\n",
       "        vertical-align: middle;\n",
       "    }\n",
       "\n",
       "    .dataframe tbody tr th {\n",
       "        vertical-align: top;\n",
       "    }\n",
       "\n",
       "    .dataframe thead th {\n",
       "        text-align: right;\n",
       "    }\n",
       "</style>\n",
       "<table border=\"1\" class=\"dataframe\">\n",
       "  <thead>\n",
       "    <tr style=\"text-align: right;\">\n",
       "      <th></th>\n",
       "      <th>manager</th>\n",
       "      <th>date</th>\n",
       "      <th>country</th>\n",
       "      <th>gender</th>\n",
       "      <th>age</th>\n",
       "      <th>q1</th>\n",
       "      <th>q2</th>\n",
       "      <th>q3</th>\n",
       "      <th>q4</th>\n",
       "      <th>q5</th>\n",
       "    </tr>\n",
       "  </thead>\n",
       "  <tbody>\n",
       "    <tr>\n",
       "      <th>1</th>\n",
       "      <td>1</td>\n",
       "      <td>10/24/14</td>\n",
       "      <td>US</td>\n",
       "      <td>M</td>\n",
       "      <td>32</td>\n",
       "      <td>5</td>\n",
       "      <td>4</td>\n",
       "      <td>5</td>\n",
       "      <td>5.0</td>\n",
       "      <td>5.0</td>\n",
       "    </tr>\n",
       "    <tr>\n",
       "      <th>2</th>\n",
       "      <td>2</td>\n",
       "      <td>10/28/14</td>\n",
       "      <td>US</td>\n",
       "      <td>F</td>\n",
       "      <td>45</td>\n",
       "      <td>3</td>\n",
       "      <td>5</td>\n",
       "      <td>2</td>\n",
       "      <td>5.0</td>\n",
       "      <td>5.0</td>\n",
       "    </tr>\n",
       "    <tr>\n",
       "      <th>3</th>\n",
       "      <td>3</td>\n",
       "      <td>10/01/14</td>\n",
       "      <td>UK</td>\n",
       "      <td>F</td>\n",
       "      <td>25</td>\n",
       "      <td>3</td>\n",
       "      <td>5</td>\n",
       "      <td>5</td>\n",
       "      <td>5.0</td>\n",
       "      <td>2.0</td>\n",
       "    </tr>\n",
       "    <tr>\n",
       "      <th>4</th>\n",
       "      <td>4</td>\n",
       "      <td>10/12/14</td>\n",
       "      <td>UK</td>\n",
       "      <td>M</td>\n",
       "      <td>39</td>\n",
       "      <td>3</td>\n",
       "      <td>3</td>\n",
       "      <td>4</td>\n",
       "      <td>NaN</td>\n",
       "      <td>NaN</td>\n",
       "    </tr>\n",
       "    <tr>\n",
       "      <th>5</th>\n",
       "      <td>5</td>\n",
       "      <td>15/01/14</td>\n",
       "      <td>UK</td>\n",
       "      <td>F</td>\n",
       "      <td>99</td>\n",
       "      <td>2</td>\n",
       "      <td>2</td>\n",
       "      <td>1</td>\n",
       "      <td>2.0</td>\n",
       "      <td>1.0</td>\n",
       "    </tr>\n",
       "  </tbody>\n",
       "</table>\n",
       "</div>"
      ],
      "text/plain": [
       "   manager      date country gender  age  q1  q2  q3   q4   q5\n",
       "1        1  10/24/14      US      M   32   5   4   5  5.0  5.0\n",
       "2        2  10/28/14      US      F   45   3   5   2  5.0  5.0\n",
       "3        3  10/01/14      UK      F   25   3   5   5  5.0  2.0\n",
       "4        4  10/12/14      UK      M   39   3   3   4  NaN  NaN\n",
       "5        5  15/01/14      UK      F   99   2   2   1  2.0  1.0"
      ]
     },
     "execution_count": 44,
     "metadata": {},
     "output_type": "execute_result"
    }
   ],
   "source": [
    "data = {'manager':manager, 'date':date,\n",
    "        'country':country, 'gender':gender, 'age':age,\n",
    "        'q1':q1, 'q2':q2, 'q3':q3, 'q4':q4, 'q5':q5}\n",
    "managers = pd.DataFrame(data)\n",
    "managers.index = manager\n",
    "managers"
   ]
  },
  {
   "cell_type": "markdown",
   "id": "1b636906-21ce-444d-8b8c-ee8b153d5245",
   "metadata": {},
   "source": [
    "#### 데이터프레임의 각 요소에 접근"
   ]
  },
  {
   "cell_type": "code",
   "execution_count": 47,
   "id": "c2f96d68-5268-4cd5-9273-cdacd866de3e",
   "metadata": {},
   "outputs": [
    {
     "data": {
      "text/plain": [
       "(1    32\n",
       " 2    45\n",
       " 3    25\n",
       " 4    39\n",
       " 5    99\n",
       " Name: age, dtype: int64,\n",
       " 1    32\n",
       " 2    45\n",
       " 3    25\n",
       " 4    39\n",
       " 5    99\n",
       " Name: age, dtype: int64,\n",
       " 1    32\n",
       " 2    45\n",
       " 3    25\n",
       " 4    39\n",
       " 5    99\n",
       " Name: age, dtype: int64)"
      ]
     },
     "execution_count": 47,
     "metadata": {},
     "output_type": "execute_result"
    }
   ],
   "source": [
    "# 나이 컬럼 출력\n",
    "# 객체[컬럼명], 객체.iloc[:, 컬럼인덱스],\n",
    "# 객체.loc[:, 컬럼명], 객체.컬럼명\n",
    "managers['age'], managers.iloc[:, 4], managers.loc[:, 'age']"
   ]
  },
  {
   "cell_type": "code",
   "execution_count": 49,
   "id": "4c453702-8a80-4c91-a303-902563753dd5",
   "metadata": {},
   "outputs": [
    {
     "data": {
      "text/html": [
       "<div>\n",
       "<style scoped>\n",
       "    .dataframe tbody tr th:only-of-type {\n",
       "        vertical-align: middle;\n",
       "    }\n",
       "\n",
       "    .dataframe tbody tr th {\n",
       "        vertical-align: top;\n",
       "    }\n",
       "\n",
       "    .dataframe thead th {\n",
       "        text-align: right;\n",
       "    }\n",
       "</style>\n",
       "<table border=\"1\" class=\"dataframe\">\n",
       "  <thead>\n",
       "    <tr style=\"text-align: right;\">\n",
       "      <th></th>\n",
       "      <th>q1</th>\n",
       "      <th>q2</th>\n",
       "      <th>q3</th>\n",
       "      <th>q4</th>\n",
       "      <th>q5</th>\n",
       "    </tr>\n",
       "  </thead>\n",
       "  <tbody>\n",
       "    <tr>\n",
       "      <th>1</th>\n",
       "      <td>5</td>\n",
       "      <td>4</td>\n",
       "      <td>5</td>\n",
       "      <td>5.0</td>\n",
       "      <td>5.0</td>\n",
       "    </tr>\n",
       "    <tr>\n",
       "      <th>2</th>\n",
       "      <td>3</td>\n",
       "      <td>5</td>\n",
       "      <td>2</td>\n",
       "      <td>5.0</td>\n",
       "      <td>5.0</td>\n",
       "    </tr>\n",
       "    <tr>\n",
       "      <th>3</th>\n",
       "      <td>3</td>\n",
       "      <td>5</td>\n",
       "      <td>5</td>\n",
       "      <td>5.0</td>\n",
       "      <td>2.0</td>\n",
       "    </tr>\n",
       "    <tr>\n",
       "      <th>4</th>\n",
       "      <td>3</td>\n",
       "      <td>3</td>\n",
       "      <td>4</td>\n",
       "      <td>NaN</td>\n",
       "      <td>NaN</td>\n",
       "    </tr>\n",
       "    <tr>\n",
       "      <th>5</th>\n",
       "      <td>2</td>\n",
       "      <td>2</td>\n",
       "      <td>1</td>\n",
       "      <td>2.0</td>\n",
       "      <td>1.0</td>\n",
       "    </tr>\n",
       "  </tbody>\n",
       "</table>\n",
       "</div>"
      ],
      "text/plain": [
       "   q1  q2  q3   q4   q5\n",
       "1   5   4   5  5.0  5.0\n",
       "2   3   5   2  5.0  5.0\n",
       "3   3   5   5  5.0  2.0\n",
       "4   3   3   4  NaN  NaN\n",
       "5   2   2   1  2.0  1.0"
      ]
     },
     "execution_count": 49,
     "metadata": {},
     "output_type": "execute_result"
    }
   ],
   "source": [
    "# 질문(q1~q5) 컬럼 출력\n",
    "# 객체명[[컬럼명1,컬럼명2,컬럼명3,...]]\n",
    "managers[ ['q1','q2','q3','q4','q5'] ]"
   ]
  },
  {
   "cell_type": "code",
   "execution_count": 52,
   "id": "7ed71f40-20bd-4acc-8988-72cdf431bffa",
   "metadata": {},
   "outputs": [
    {
     "data": {
      "text/html": [
       "<div>\n",
       "<style scoped>\n",
       "    .dataframe tbody tr th:only-of-type {\n",
       "        vertical-align: middle;\n",
       "    }\n",
       "\n",
       "    .dataframe tbody tr th {\n",
       "        vertical-align: top;\n",
       "    }\n",
       "\n",
       "    .dataframe thead th {\n",
       "        text-align: right;\n",
       "    }\n",
       "</style>\n",
       "<table border=\"1\" class=\"dataframe\">\n",
       "  <thead>\n",
       "    <tr style=\"text-align: right;\">\n",
       "      <th></th>\n",
       "      <th>q1</th>\n",
       "      <th>q2</th>\n",
       "      <th>q3</th>\n",
       "      <th>q4</th>\n",
       "      <th>q5</th>\n",
       "    </tr>\n",
       "  </thead>\n",
       "  <tbody>\n",
       "    <tr>\n",
       "      <th>1</th>\n",
       "      <td>5</td>\n",
       "      <td>4</td>\n",
       "      <td>5</td>\n",
       "      <td>5.0</td>\n",
       "      <td>5.0</td>\n",
       "    </tr>\n",
       "    <tr>\n",
       "      <th>2</th>\n",
       "      <td>3</td>\n",
       "      <td>5</td>\n",
       "      <td>2</td>\n",
       "      <td>5.0</td>\n",
       "      <td>5.0</td>\n",
       "    </tr>\n",
       "    <tr>\n",
       "      <th>3</th>\n",
       "      <td>3</td>\n",
       "      <td>5</td>\n",
       "      <td>5</td>\n",
       "      <td>5.0</td>\n",
       "      <td>2.0</td>\n",
       "    </tr>\n",
       "    <tr>\n",
       "      <th>4</th>\n",
       "      <td>3</td>\n",
       "      <td>3</td>\n",
       "      <td>4</td>\n",
       "      <td>NaN</td>\n",
       "      <td>NaN</td>\n",
       "    </tr>\n",
       "    <tr>\n",
       "      <th>5</th>\n",
       "      <td>2</td>\n",
       "      <td>2</td>\n",
       "      <td>1</td>\n",
       "      <td>2.0</td>\n",
       "      <td>1.0</td>\n",
       "    </tr>\n",
       "  </tbody>\n",
       "</table>\n",
       "</div>"
      ],
      "text/plain": [
       "   q1  q2  q3   q4   q5\n",
       "1   5   4   5  5.0  5.0\n",
       "2   3   5   2  5.0  5.0\n",
       "3   3   5   5  5.0  2.0\n",
       "4   3   3   4  NaN  NaN\n",
       "5   2   2   1  2.0  1.0"
      ]
     },
     "execution_count": 52,
     "metadata": {},
     "output_type": "execute_result"
    }
   ],
   "source": [
    "# 객체명.iloc[행, 시작:끝+1]\n",
    "managers.iloc[:, 5:9+1]"
   ]
  },
  {
   "cell_type": "code",
   "execution_count": 53,
   "id": "0580cce0-9b44-4d3f-9bbe-482638f76a6e",
   "metadata": {},
   "outputs": [
    {
     "data": {
      "text/html": [
       "<div>\n",
       "<style scoped>\n",
       "    .dataframe tbody tr th:only-of-type {\n",
       "        vertical-align: middle;\n",
       "    }\n",
       "\n",
       "    .dataframe tbody tr th {\n",
       "        vertical-align: top;\n",
       "    }\n",
       "\n",
       "    .dataframe thead th {\n",
       "        text-align: right;\n",
       "    }\n",
       "</style>\n",
       "<table border=\"1\" class=\"dataframe\">\n",
       "  <thead>\n",
       "    <tr style=\"text-align: right;\">\n",
       "      <th></th>\n",
       "      <th>q1</th>\n",
       "      <th>q2</th>\n",
       "      <th>q3</th>\n",
       "      <th>q4</th>\n",
       "      <th>q5</th>\n",
       "    </tr>\n",
       "  </thead>\n",
       "  <tbody>\n",
       "    <tr>\n",
       "      <th>1</th>\n",
       "      <td>5</td>\n",
       "      <td>4</td>\n",
       "      <td>5</td>\n",
       "      <td>5.0</td>\n",
       "      <td>5.0</td>\n",
       "    </tr>\n",
       "    <tr>\n",
       "      <th>2</th>\n",
       "      <td>3</td>\n",
       "      <td>5</td>\n",
       "      <td>2</td>\n",
       "      <td>5.0</td>\n",
       "      <td>5.0</td>\n",
       "    </tr>\n",
       "    <tr>\n",
       "      <th>3</th>\n",
       "      <td>3</td>\n",
       "      <td>5</td>\n",
       "      <td>5</td>\n",
       "      <td>5.0</td>\n",
       "      <td>2.0</td>\n",
       "    </tr>\n",
       "    <tr>\n",
       "      <th>4</th>\n",
       "      <td>3</td>\n",
       "      <td>3</td>\n",
       "      <td>4</td>\n",
       "      <td>NaN</td>\n",
       "      <td>NaN</td>\n",
       "    </tr>\n",
       "    <tr>\n",
       "      <th>5</th>\n",
       "      <td>2</td>\n",
       "      <td>2</td>\n",
       "      <td>1</td>\n",
       "      <td>2.0</td>\n",
       "      <td>1.0</td>\n",
       "    </tr>\n",
       "  </tbody>\n",
       "</table>\n",
       "</div>"
      ],
      "text/plain": [
       "   q1  q2  q3   q4   q5\n",
       "1   5   4   5  5.0  5.0\n",
       "2   3   5   2  5.0  5.0\n",
       "3   3   5   5  5.0  2.0\n",
       "4   3   3   4  NaN  NaN\n",
       "5   2   2   1  2.0  1.0"
      ]
     },
     "execution_count": 53,
     "metadata": {},
     "output_type": "execute_result"
    }
   ],
   "source": [
    "# 객체명.loc[행, 시작컬럼명:끝컬럼명]\n",
    "managers.loc[:, 'q1':'q5']"
   ]
  },
  {
   "cell_type": "markdown",
   "id": "349d2d04-14e4-448f-98b7-689379c845d9",
   "metadata": {},
   "source": [
    "## 외부파일로 데이터프레임 만들기\n",
    "* 외부 데이터파일을 이용해서 dataframe 객체를 만들수있음\n",
    "* csv, excel, json, xml,... 등등  지원함\n",
    "* pd.read_xxx(경로, 구분자, 헤더설정, 인코딩)"
   ]
  },
  {
   "cell_type": "markdown",
   "id": "1a8c63a9-01c3-4cbf-bb91-a7d60ce74756",
   "metadata": {},
   "source": [
    "#### csv 파일 읽어 데이터프레임 생성"
   ]
  },
  {
   "cell_type": "code",
   "execution_count": 56,
   "id": "3840a645-77cb-4cde-ab47-6e24da9a682c",
   "metadata": {},
   "outputs": [
    {
     "data": {
      "text/html": [
       "<div>\n",
       "<style scoped>\n",
       "    .dataframe tbody tr th:only-of-type {\n",
       "        vertical-align: middle;\n",
       "    }\n",
       "\n",
       "    .dataframe tbody tr th {\n",
       "        vertical-align: top;\n",
       "    }\n",
       "\n",
       "    .dataframe thead th {\n",
       "        text-align: right;\n",
       "    }\n",
       "</style>\n",
       "<table border=\"1\" class=\"dataframe\">\n",
       "  <thead>\n",
       "    <tr style=\"text-align: right;\">\n",
       "      <th></th>\n",
       "      <th>EMPLOYEE_ID</th>\n",
       "      <th>FIRST_NAME</th>\n",
       "      <th>LAST_NAME</th>\n",
       "      <th>EMAIL</th>\n",
       "      <th>PHONE_NUMBER</th>\n",
       "      <th>HIRE_DATE</th>\n",
       "      <th>JOB_ID</th>\n",
       "      <th>SALARY</th>\n",
       "      <th>COMMISSION_PCT</th>\n",
       "      <th>MANAGER_ID</th>\n",
       "      <th>DEPARTMENT_ID</th>\n",
       "    </tr>\n",
       "  </thead>\n",
       "  <tbody>\n",
       "    <tr>\n",
       "      <th>0</th>\n",
       "      <td>100</td>\n",
       "      <td>Steven</td>\n",
       "      <td>King</td>\n",
       "      <td>SKING</td>\n",
       "      <td>515.123.4567</td>\n",
       "      <td>2003-06-17</td>\n",
       "      <td>AD_PRES</td>\n",
       "      <td>24000.0</td>\n",
       "      <td>NaN</td>\n",
       "      <td>NaN</td>\n",
       "      <td>90.0</td>\n",
       "    </tr>\n",
       "    <tr>\n",
       "      <th>1</th>\n",
       "      <td>101</td>\n",
       "      <td>Neena</td>\n",
       "      <td>Kochhar</td>\n",
       "      <td>NKOCHHAR</td>\n",
       "      <td>515.123.4568</td>\n",
       "      <td>2005-09-21</td>\n",
       "      <td>AD_VP</td>\n",
       "      <td>17000.0</td>\n",
       "      <td>NaN</td>\n",
       "      <td>100.0</td>\n",
       "      <td>90.0</td>\n",
       "    </tr>\n",
       "    <tr>\n",
       "      <th>2</th>\n",
       "      <td>102</td>\n",
       "      <td>Lex</td>\n",
       "      <td>De Haan</td>\n",
       "      <td>LDEHAAN</td>\n",
       "      <td>515.123.4569</td>\n",
       "      <td>2001-01-13</td>\n",
       "      <td>AD_VP</td>\n",
       "      <td>17000.0</td>\n",
       "      <td>NaN</td>\n",
       "      <td>100.0</td>\n",
       "      <td>90.0</td>\n",
       "    </tr>\n",
       "    <tr>\n",
       "      <th>3</th>\n",
       "      <td>103</td>\n",
       "      <td>Alexander</td>\n",
       "      <td>Hunold</td>\n",
       "      <td>AHUNOLD</td>\n",
       "      <td>590.423.4567</td>\n",
       "      <td>2006-01-03</td>\n",
       "      <td>IT_PROG</td>\n",
       "      <td>9000.0</td>\n",
       "      <td>NaN</td>\n",
       "      <td>102.0</td>\n",
       "      <td>60.0</td>\n",
       "    </tr>\n",
       "    <tr>\n",
       "      <th>4</th>\n",
       "      <td>104</td>\n",
       "      <td>Bruce</td>\n",
       "      <td>Ernst</td>\n",
       "      <td>BERNST</td>\n",
       "      <td>590.423.4568</td>\n",
       "      <td>2007-05-21</td>\n",
       "      <td>IT_PROG</td>\n",
       "      <td>6000.0</td>\n",
       "      <td>NaN</td>\n",
       "      <td>103.0</td>\n",
       "      <td>60.0</td>\n",
       "    </tr>\n",
       "  </tbody>\n",
       "</table>\n",
       "</div>"
      ],
      "text/plain": [
       "   EMPLOYEE_ID FIRST_NAME LAST_NAME     EMAIL  PHONE_NUMBER   HIRE_DATE  \\\n",
       "0          100     Steven      King     SKING  515.123.4567  2003-06-17   \n",
       "1          101      Neena   Kochhar  NKOCHHAR  515.123.4568  2005-09-21   \n",
       "2          102        Lex   De Haan   LDEHAAN  515.123.4569  2001-01-13   \n",
       "3          103  Alexander    Hunold   AHUNOLD  590.423.4567  2006-01-03   \n",
       "4          104      Bruce     Ernst    BERNST  590.423.4568  2007-05-21   \n",
       "\n",
       "    JOB_ID   SALARY  COMMISSION_PCT  MANAGER_ID  DEPARTMENT_ID  \n",
       "0  AD_PRES  24000.0             NaN         NaN           90.0  \n",
       "1    AD_VP  17000.0             NaN       100.0           90.0  \n",
       "2    AD_VP  17000.0             NaN       100.0           90.0  \n",
       "3  IT_PROG   9000.0             NaN       102.0           60.0  \n",
       "4  IT_PROG   6000.0             NaN       103.0           60.0  "
      ]
     },
     "execution_count": 56,
     "metadata": {},
     "output_type": "execute_result"
    }
   ],
   "source": [
    "emp = pd.read_csv('./data/employees.csv', header=0, sep=',')\n",
    "emp.head()"
   ]
  },
  {
   "cell_type": "code",
   "execution_count": 58,
   "id": "9b913203-653d-4af4-bd87-be485b1ca036",
   "metadata": {},
   "outputs": [
    {
     "data": {
      "text/html": [
       "<div>\n",
       "<style scoped>\n",
       "    .dataframe tbody tr th:only-of-type {\n",
       "        vertical-align: middle;\n",
       "    }\n",
       "\n",
       "    .dataframe tbody tr th {\n",
       "        vertical-align: top;\n",
       "    }\n",
       "\n",
       "    .dataframe thead th {\n",
       "        text-align: right;\n",
       "    }\n",
       "</style>\n",
       "<table border=\"1\" class=\"dataframe\">\n",
       "  <thead>\n",
       "    <tr style=\"text-align: right;\">\n",
       "      <th></th>\n",
       "      <th>EMPLOYEE_ID</th>\n",
       "      <th>FIRST_NAME</th>\n",
       "      <th>LAST_NAME</th>\n",
       "      <th>EMAIL</th>\n",
       "      <th>PHONE_NUMBER</th>\n",
       "      <th>HIRE_DATE</th>\n",
       "      <th>JOB_ID</th>\n",
       "      <th>SALARY</th>\n",
       "      <th>COMMISSION_PCT</th>\n",
       "      <th>MANAGER_ID</th>\n",
       "      <th>DEPARTMENT_ID</th>\n",
       "    </tr>\n",
       "  </thead>\n",
       "  <tbody>\n",
       "    <tr>\n",
       "      <th>1</th>\n",
       "      <td>100</td>\n",
       "      <td>Steven</td>\n",
       "      <td>King</td>\n",
       "      <td>SKING</td>\n",
       "      <td>515.123.4567</td>\n",
       "      <td>2003-06-17</td>\n",
       "      <td>AD_PRES</td>\n",
       "      <td>24000.0</td>\n",
       "      <td>NaN</td>\n",
       "      <td>NaN</td>\n",
       "      <td>90.0</td>\n",
       "    </tr>\n",
       "    <tr>\n",
       "      <th>2</th>\n",
       "      <td>101</td>\n",
       "      <td>Neena</td>\n",
       "      <td>Kochhar</td>\n",
       "      <td>NKOCHHAR</td>\n",
       "      <td>515.123.4568</td>\n",
       "      <td>2005-09-21</td>\n",
       "      <td>AD_VP</td>\n",
       "      <td>17000.0</td>\n",
       "      <td>NaN</td>\n",
       "      <td>100.0</td>\n",
       "      <td>90.0</td>\n",
       "    </tr>\n",
       "    <tr>\n",
       "      <th>3</th>\n",
       "      <td>102</td>\n",
       "      <td>Lex</td>\n",
       "      <td>De Haan</td>\n",
       "      <td>LDEHAAN</td>\n",
       "      <td>515.123.4569</td>\n",
       "      <td>2001-01-13</td>\n",
       "      <td>AD_VP</td>\n",
       "      <td>17000.0</td>\n",
       "      <td>NaN</td>\n",
       "      <td>100.0</td>\n",
       "      <td>90.0</td>\n",
       "    </tr>\n",
       "    <tr>\n",
       "      <th>4</th>\n",
       "      <td>103</td>\n",
       "      <td>Alexander</td>\n",
       "      <td>Hunold</td>\n",
       "      <td>AHUNOLD</td>\n",
       "      <td>590.423.4567</td>\n",
       "      <td>2006-01-03</td>\n",
       "      <td>IT_PROG</td>\n",
       "      <td>9000.0</td>\n",
       "      <td>NaN</td>\n",
       "      <td>102.0</td>\n",
       "      <td>60.0</td>\n",
       "    </tr>\n",
       "    <tr>\n",
       "      <th>5</th>\n",
       "      <td>104</td>\n",
       "      <td>Bruce</td>\n",
       "      <td>Ernst</td>\n",
       "      <td>BERNST</td>\n",
       "      <td>590.423.4568</td>\n",
       "      <td>2007-05-21</td>\n",
       "      <td>IT_PROG</td>\n",
       "      <td>6000.0</td>\n",
       "      <td>NaN</td>\n",
       "      <td>103.0</td>\n",
       "      <td>60.0</td>\n",
       "    </tr>\n",
       "  </tbody>\n",
       "</table>\n",
       "</div>"
      ],
      "text/plain": [
       "   EMPLOYEE_ID FIRST_NAME LAST_NAME     EMAIL  PHONE_NUMBER   HIRE_DATE  \\\n",
       "1          100     Steven      King     SKING  515.123.4567  2003-06-17   \n",
       "2          101      Neena   Kochhar  NKOCHHAR  515.123.4568  2005-09-21   \n",
       "3          102        Lex   De Haan   LDEHAAN  515.123.4569  2001-01-13   \n",
       "4          103  Alexander    Hunold   AHUNOLD  590.423.4567  2006-01-03   \n",
       "5          104      Bruce     Ernst    BERNST  590.423.4568  2007-05-21   \n",
       "\n",
       "    JOB_ID   SALARY  COMMISSION_PCT  MANAGER_ID  DEPARTMENT_ID  \n",
       "1  AD_PRES  24000.0             NaN         NaN           90.0  \n",
       "2    AD_VP  17000.0             NaN       100.0           90.0  \n",
       "3    AD_VP  17000.0             NaN       100.0           90.0  \n",
       "4  IT_PROG   9000.0             NaN       102.0           60.0  \n",
       "5  IT_PROG   6000.0             NaN       103.0           60.0  "
      ]
     },
     "execution_count": 58,
     "metadata": {},
     "output_type": "execute_result"
    }
   ],
   "source": [
    "# 데이터프레임 인덱스 재설정\n",
    "idx = np.arange(1, len(emp.EMAIL)+1)\n",
    "emp.index = idx\n",
    "emp.head()"
   ]
  },
  {
   "cell_type": "code",
   "execution_count": 59,
   "id": "5f902b5f-bcd8-4d23-aa5b-0e82d1a4501e",
   "metadata": {
    "scrolled": true
   },
   "outputs": [
    {
     "name": "stdout",
     "output_type": "stream",
     "text": [
      "<class 'pandas.core.frame.DataFrame'>\n",
      "Index: 107 entries, 1 to 107\n",
      "Data columns (total 11 columns):\n",
      " #   Column          Non-Null Count  Dtype  \n",
      "---  ------          --------------  -----  \n",
      " 0   EMPLOYEE_ID     107 non-null    int64  \n",
      " 1   FIRST_NAME      107 non-null    object \n",
      " 2   LAST_NAME       107 non-null    object \n",
      " 3   EMAIL           107 non-null    object \n",
      " 4   PHONE_NUMBER    107 non-null    object \n",
      " 5   HIRE_DATE       107 non-null    object \n",
      " 6   JOB_ID          107 non-null    object \n",
      " 7   SALARY          107 non-null    float64\n",
      " 8   COMMISSION_PCT  35 non-null     float64\n",
      " 9   MANAGER_ID      106 non-null    float64\n",
      " 10  DEPARTMENT_ID   106 non-null    float64\n",
      "dtypes: float64(4), int64(1), object(6)\n",
      "memory usage: 10.0+ KB\n"
     ]
    }
   ],
   "source": [
    "# 데이터프레임의 구조 알아보기 : info\n",
    "emp.info()"
   ]
  },
  {
   "cell_type": "markdown",
   "id": "264a47ae-3e54-45ab-9db5-c4db03348bd3",
   "metadata": {},
   "source": [
    "#### xlxs 파일 읽어 데이터프레임 생성"
   ]
  },
  {
   "cell_type": "code",
   "execution_count": 60,
   "id": "e194d0eb-acc5-4ee9-aec7-5aef91da4eaa",
   "metadata": {},
   "outputs": [
    {
     "name": "stdout",
     "output_type": "stream",
     "text": [
      "Requirement already satisfied: openpyxl in /opt/conda/lib/python3.11/site-packages (3.1.2)\n",
      "Requirement already satisfied: et-xmlfile in /opt/conda/lib/python3.11/site-packages (from openpyxl) (1.1.0)\n",
      "Note: you may need to restart the kernel to use updated packages.\n"
     ]
    }
   ],
   "source": [
    "pip install openpyxl"
   ]
  },
  {
   "cell_type": "code",
   "execution_count": 63,
   "id": "a07ddff4-afb1-4a11-894e-b01d3056e293",
   "metadata": {},
   "outputs": [
    {
     "data": {
      "text/html": [
       "<div>\n",
       "<style scoped>\n",
       "    .dataframe tbody tr th:only-of-type {\n",
       "        vertical-align: middle;\n",
       "    }\n",
       "\n",
       "    .dataframe tbody tr th {\n",
       "        vertical-align: top;\n",
       "    }\n",
       "\n",
       "    .dataframe thead th {\n",
       "        text-align: right;\n",
       "    }\n",
       "</style>\n",
       "<table border=\"1\" class=\"dataframe\">\n",
       "  <thead>\n",
       "    <tr style=\"text-align: right;\">\n",
       "      <th></th>\n",
       "      <th>account</th>\n",
       "      <th>name</th>\n",
       "      <th>street</th>\n",
       "      <th>city</th>\n",
       "      <th>state</th>\n",
       "      <th>postal-code</th>\n",
       "      <th>Jan</th>\n",
       "      <th>Feb</th>\n",
       "      <th>Mar</th>\n",
       "    </tr>\n",
       "  </thead>\n",
       "  <tbody>\n",
       "    <tr>\n",
       "      <th>0</th>\n",
       "      <td>211829</td>\n",
       "      <td>Kerluke, Koepp and Hilpert</td>\n",
       "      <td>34456 Sean Highway</td>\n",
       "      <td>New Jaycob</td>\n",
       "      <td>Texas</td>\n",
       "      <td>28752</td>\n",
       "      <td>10000</td>\n",
       "      <td>62000</td>\n",
       "      <td>35000</td>\n",
       "    </tr>\n",
       "    <tr>\n",
       "      <th>1</th>\n",
       "      <td>320563</td>\n",
       "      <td>Walter-Trantow</td>\n",
       "      <td>1311 Alvis Tunnel</td>\n",
       "      <td>Port Khadijah</td>\n",
       "      <td>NorthCarolina</td>\n",
       "      <td>38365</td>\n",
       "      <td>95000</td>\n",
       "      <td>45000</td>\n",
       "      <td>35000</td>\n",
       "    </tr>\n",
       "    <tr>\n",
       "      <th>2</th>\n",
       "      <td>648336</td>\n",
       "      <td>Bashirian, Kunde and Price</td>\n",
       "      <td>62184 Schamberger Underpass Apt. 231</td>\n",
       "      <td>New Lilianland</td>\n",
       "      <td>Iowa</td>\n",
       "      <td>76517</td>\n",
       "      <td>91000</td>\n",
       "      <td>120000</td>\n",
       "      <td>35000</td>\n",
       "    </tr>\n",
       "    <tr>\n",
       "      <th>3</th>\n",
       "      <td>109996</td>\n",
       "      <td>D'Amore, Gleichner and Bode</td>\n",
       "      <td>155 Fadel Crescent Apt. 144</td>\n",
       "      <td>Hyattburgh</td>\n",
       "      <td>Maine</td>\n",
       "      <td>46021</td>\n",
       "      <td>45000</td>\n",
       "      <td>120000</td>\n",
       "      <td>10000</td>\n",
       "    </tr>\n",
       "    <tr>\n",
       "      <th>4</th>\n",
       "      <td>121213</td>\n",
       "      <td>Bauch-Goldner</td>\n",
       "      <td>7274 Marissa Common</td>\n",
       "      <td>Shanahanchester</td>\n",
       "      <td>California</td>\n",
       "      <td>49681</td>\n",
       "      <td>162000</td>\n",
       "      <td>120000</td>\n",
       "      <td>35000</td>\n",
       "    </tr>\n",
       "  </tbody>\n",
       "</table>\n",
       "</div>"
      ],
      "text/plain": [
       "   account                         name                                street  \\\n",
       "0   211829   Kerluke, Koepp and Hilpert                    34456 Sean Highway   \n",
       "1   320563               Walter-Trantow                     1311 Alvis Tunnel   \n",
       "2   648336   Bashirian, Kunde and Price  62184 Schamberger Underpass Apt. 231   \n",
       "3   109996  D'Amore, Gleichner and Bode           155 Fadel Crescent Apt. 144   \n",
       "4   121213                Bauch-Goldner                   7274 Marissa Common   \n",
       "\n",
       "              city          state  postal-code     Jan     Feb    Mar  \n",
       "0       New Jaycob          Texas        28752   10000   62000  35000  \n",
       "1    Port Khadijah  NorthCarolina        38365   95000   45000  35000  \n",
       "2   New Lilianland           Iowa        76517   91000  120000  35000  \n",
       "3       Hyattburgh          Maine        46021   45000  120000  10000  \n",
       "4  Shanahanchester     California        49681  162000  120000  35000  "
      ]
     },
     "execution_count": 63,
     "metadata": {},
     "output_type": "execute_result"
    }
   ],
   "source": [
    "# openpyxl를 설치해야 read_excel 불러올 수 있음\n",
    "excels = pd.read_excel('data/excel-comp-data.xlsx')\n",
    "excels.head()"
   ]
  },
  {
   "cell_type": "markdown",
   "id": "351775ec-cb96-449f-9c31-14ed1e2562ed",
   "metadata": {},
   "source": [
    "#### json 파일 읽어 데이터프레임 생성"
   ]
  },
  {
   "cell_type": "code",
   "execution_count": 64,
   "id": "5b519431-ce73-47d8-906e-75ed3ff1983e",
   "metadata": {
    "collapsed": true,
    "jupyter": {
     "outputs_hidden": true
    }
   },
   "outputs": [
    {
     "data": {
      "text/html": [
       "<div>\n",
       "<style scoped>\n",
       "    .dataframe tbody tr th:only-of-type {\n",
       "        vertical-align: middle;\n",
       "    }\n",
       "\n",
       "    .dataframe tbody tr th {\n",
       "        vertical-align: top;\n",
       "    }\n",
       "\n",
       "    .dataframe thead th {\n",
       "        text-align: right;\n",
       "    }\n",
       "</style>\n",
       "<table border=\"1\" class=\"dataframe\">\n",
       "  <thead>\n",
       "    <tr style=\"text-align: right;\">\n",
       "      <th></th>\n",
       "      <th>type</th>\n",
       "      <th>features</th>\n",
       "    </tr>\n",
       "  </thead>\n",
       "  <tbody>\n",
       "    <tr>\n",
       "      <th>0</th>\n",
       "      <td>FeatureCollection</td>\n",
       "      <td>{'type': 'Feature', 'properties': {'code': '11...</td>\n",
       "    </tr>\n",
       "    <tr>\n",
       "      <th>1</th>\n",
       "      <td>FeatureCollection</td>\n",
       "      <td>{'type': 'Feature', 'properties': {'code': '11...</td>\n",
       "    </tr>\n",
       "    <tr>\n",
       "      <th>2</th>\n",
       "      <td>FeatureCollection</td>\n",
       "      <td>{'type': 'Feature', 'properties': {'code': '11...</td>\n",
       "    </tr>\n",
       "    <tr>\n",
       "      <th>3</th>\n",
       "      <td>FeatureCollection</td>\n",
       "      <td>{'type': 'Feature', 'properties': {'code': '11...</td>\n",
       "    </tr>\n",
       "    <tr>\n",
       "      <th>4</th>\n",
       "      <td>FeatureCollection</td>\n",
       "      <td>{'type': 'Feature', 'properties': {'code': '11...</td>\n",
       "    </tr>\n",
       "  </tbody>\n",
       "</table>\n",
       "</div>"
      ],
      "text/plain": [
       "                type                                           features\n",
       "0  FeatureCollection  {'type': 'Feature', 'properties': {'code': '11...\n",
       "1  FeatureCollection  {'type': 'Feature', 'properties': {'code': '11...\n",
       "2  FeatureCollection  {'type': 'Feature', 'properties': {'code': '11...\n",
       "3  FeatureCollection  {'type': 'Feature', 'properties': {'code': '11...\n",
       "4  FeatureCollection  {'type': 'Feature', 'properties': {'code': '11..."
      ]
     },
     "execution_count": 64,
     "metadata": {},
     "output_type": "execute_result"
    }
   ],
   "source": [
    "seoul_json = pd.read_json('./data/seoul_geo_simple.json')\n",
    "seoul_json.head()"
   ]
  },
  {
   "cell_type": "code",
   "execution_count": 69,
   "id": "f363973e-bc9c-4333-8f14-d9ee6eb30bb5",
   "metadata": {},
   "outputs": [],
   "source": [
    "pd.set_option('display.max_columns', 50)\n",
    "pd.set_option('display.width', 100)\n",
    "pd.set_option('display.max_colwidth', 250)"
   ]
  },
  {
   "cell_type": "code",
   "execution_count": 70,
   "id": "ecce9f9e-461e-439d-888d-9daf9de4f5ba",
   "metadata": {
    "collapsed": true,
    "jupyter": {
     "outputs_hidden": true
    }
   },
   "outputs": [
    {
     "data": {
      "text/html": [
       "<div>\n",
       "<style scoped>\n",
       "    .dataframe tbody tr th:only-of-type {\n",
       "        vertical-align: middle;\n",
       "    }\n",
       "\n",
       "    .dataframe tbody tr th {\n",
       "        vertical-align: top;\n",
       "    }\n",
       "\n",
       "    .dataframe thead th {\n",
       "        text-align: right;\n",
       "    }\n",
       "</style>\n",
       "<table border=\"1\" class=\"dataframe\">\n",
       "  <thead>\n",
       "    <tr style=\"text-align: right;\">\n",
       "      <th></th>\n",
       "      <th>type</th>\n",
       "      <th>features</th>\n",
       "    </tr>\n",
       "  </thead>\n",
       "  <tbody>\n",
       "    <tr>\n",
       "      <th>0</th>\n",
       "      <td>FeatureCollection</td>\n",
       "      <td>{'type': 'Feature', 'properties': {'code': '11250', 'name': '강동구', 'name_eng': 'Gangdong-gu', 'base_year': '2013'}, 'geometry': {'type': 'Polygon', 'coordinates': [[[127.11519584981606, 37.557533180704915], [127.11879551821994, 37.557222485451305...</td>\n",
       "    </tr>\n",
       "    <tr>\n",
       "      <th>1</th>\n",
       "      <td>FeatureCollection</td>\n",
       "      <td>{'type': 'Feature', 'properties': {'code': '11240', 'name': '송파구', 'name_eng': 'Songpa-gu', 'base_year': '2013'}, 'geometry': {'type': 'Polygon', 'coordinates': [[[127.0690698130372, 37.522279423505026], [127.07496309841329, 37.52091052765938], [...</td>\n",
       "    </tr>\n",
       "    <tr>\n",
       "      <th>2</th>\n",
       "      <td>FeatureCollection</td>\n",
       "      <td>{'type': 'Feature', 'properties': {'code': '11230', 'name': '강남구', 'name_eng': 'Gangnam-gu', 'base_year': '2013'}, 'geometry': {'type': 'Polygon', 'coordinates': [[[127.05867359288398, 37.52629974922568], [127.0690698130372, 37.522279423505026], ...</td>\n",
       "    </tr>\n",
       "    <tr>\n",
       "      <th>3</th>\n",
       "      <td>FeatureCollection</td>\n",
       "      <td>{'type': 'Feature', 'properties': {'code': '11220', 'name': '서초구', 'name_eng': 'Seocho-gu', 'base_year': '2013'}, 'geometry': {'type': 'Polygon', 'coordinates': [[[127.01397119667513, 37.52503988289669], [127.01917707838057, 37.520085205855196], ...</td>\n",
       "    </tr>\n",
       "    <tr>\n",
       "      <th>4</th>\n",
       "      <td>FeatureCollection</td>\n",
       "      <td>{'type': 'Feature', 'properties': {'code': '11210', 'name': '관악구', 'name_eng': 'Gwanak-gu', 'base_year': '2013'}, 'geometry': {'type': 'Polygon', 'coordinates': [[[126.98367668291802, 37.473856492692086], [126.9846374349825, 37.46996301876212], [...</td>\n",
       "    </tr>\n",
       "  </tbody>\n",
       "</table>\n",
       "</div>"
      ],
      "text/plain": [
       "                type  \\\n",
       "0  FeatureCollection   \n",
       "1  FeatureCollection   \n",
       "2  FeatureCollection   \n",
       "3  FeatureCollection   \n",
       "4  FeatureCollection   \n",
       "\n",
       "                                                                                                                                                                                                                                                    features  \n",
       "0  {'type': 'Feature', 'properties': {'code': '11250', 'name': '강동구', 'name_eng': 'Gangdong-gu', 'base_year': '2013'}, 'geometry': {'type': 'Polygon', 'coordinates': [[[127.11519584981606, 37.557533180704915], [127.11879551821994, 37.557222485451305...  \n",
       "1  {'type': 'Feature', 'properties': {'code': '11240', 'name': '송파구', 'name_eng': 'Songpa-gu', 'base_year': '2013'}, 'geometry': {'type': 'Polygon', 'coordinates': [[[127.0690698130372, 37.522279423505026], [127.07496309841329, 37.52091052765938], [...  \n",
       "2  {'type': 'Feature', 'properties': {'code': '11230', 'name': '강남구', 'name_eng': 'Gangnam-gu', 'base_year': '2013'}, 'geometry': {'type': 'Polygon', 'coordinates': [[[127.05867359288398, 37.52629974922568], [127.0690698130372, 37.522279423505026], ...  \n",
       "3  {'type': 'Feature', 'properties': {'code': '11220', 'name': '서초구', 'name_eng': 'Seocho-gu', 'base_year': '2013'}, 'geometry': {'type': 'Polygon', 'coordinates': [[[127.01397119667513, 37.52503988289669], [127.01917707838057, 37.520085205855196], ...  \n",
       "4  {'type': 'Feature', 'properties': {'code': '11210', 'name': '관악구', 'name_eng': 'Gwanak-gu', 'base_year': '2013'}, 'geometry': {'type': 'Polygon', 'coordinates': [[[126.98367668291802, 37.473856492692086], [126.9846374349825, 37.46996301876212], [...  "
      ]
     },
     "execution_count": 70,
     "metadata": {},
     "output_type": "execute_result"
    }
   ],
   "source": [
    "seoul_json.head()"
   ]
  },
  {
   "cell_type": "markdown",
   "id": "313663fb-6356-46a4-a068-9a49b539e3f9",
   "metadata": {},
   "source": [
    "#### html의 table태그를 읽어 데이터프레임 생성"
   ]
  },
  {
   "cell_type": "code",
   "execution_count": 71,
   "id": "ff79b92f-edbe-41c9-91e3-d5fb5c7aeab4",
   "metadata": {},
   "outputs": [],
   "source": [
    "import requests\n",
    "from bs4 import BeautifulSoup"
   ]
  },
  {
   "cell_type": "code",
   "execution_count": 136,
   "id": "350d2849-927e-478d-88b1-4c350b546dd5",
   "metadata": {},
   "outputs": [],
   "source": [
    "url = 'https://www.hanbit.co.kr/store/books/full_book_list.html'\n",
    "headers = {'User-Agent': 'Mozilla/5.0 (Windows NT 10.0; Win64; x64) AppleWebKit/537.36 (KHTML, like Gecko) Chrome/94.0.4606.81 Safari/537.36 Edg/94.0.992.50'}"
   ]
  },
  {
   "cell_type": "code",
   "execution_count": 137,
   "id": "d3df4138-5ce5-4743-9aad-264f4e8c7390",
   "metadata": {},
   "outputs": [],
   "source": [
    "res = requests.get(url, headers=headers)\n",
    "tables = pd.read_html(res.text)"
   ]
  },
  {
   "cell_type": "code",
   "execution_count": 138,
   "id": "63b54d77-c242-4e07-bdc9-3133dd4355af",
   "metadata": {},
   "outputs": [
    {
     "data": {
      "text/html": [
       "<div>\n",
       "<style scoped>\n",
       "    .dataframe tbody tr th:only-of-type {\n",
       "        vertical-align: middle;\n",
       "    }\n",
       "\n",
       "    .dataframe tbody tr th {\n",
       "        vertical-align: top;\n",
       "    }\n",
       "\n",
       "    .dataframe thead th {\n",
       "        text-align: right;\n",
       "    }\n",
       "</style>\n",
       "<table border=\"1\" class=\"dataframe\">\n",
       "  <thead>\n",
       "    <tr style=\"text-align: right;\">\n",
       "      <th></th>\n",
       "      <th>브랜드</th>\n",
       "      <th>도서명</th>\n",
       "      <th>저자</th>\n",
       "      <th>발행일</th>\n",
       "      <th>정가</th>\n",
       "    </tr>\n",
       "  </thead>\n",
       "  <tbody>\n",
       "    <tr>\n",
       "      <th>0</th>\n",
       "      <td>한빛미디어</td>\n",
       "      <td>핸즈온 머신러닝(3판)</td>\n",
       "      <td>오렐리앙 제롱(Aurélien Géron)</td>\n",
       "      <td>2023-09-29</td>\n",
       "      <td>60,000원</td>\n",
       "    </tr>\n",
       "    <tr>\n",
       "      <th>1</th>\n",
       "      <td>한빛비즈</td>\n",
       "      <td>한 단어의 힘 (개정판)</td>\n",
       "      <td>에번 카마이클</td>\n",
       "      <td>2023-09-18</td>\n",
       "      <td>18,900원</td>\n",
       "    </tr>\n",
       "    <tr>\n",
       "      <th>2</th>\n",
       "      <td>한빛비즈</td>\n",
       "      <td>글로벌 클래스</td>\n",
       "      <td>에런 맥대니얼 외 1명</td>\n",
       "      <td>2023-09-15</td>\n",
       "      <td>28,000원</td>\n",
       "    </tr>\n",
       "    <tr>\n",
       "      <th>3</th>\n",
       "      <td>한빛라이프</td>\n",
       "      <td>모든 멋진 일에는 두려움이 따른다</td>\n",
       "      <td>이연</td>\n",
       "      <td>2023-09-15</td>\n",
       "      <td>16,800원</td>\n",
       "    </tr>\n",
       "    <tr>\n",
       "      <th>4</th>\n",
       "      <td>한빛미디어</td>\n",
       "      <td>만들면서 배우는 생성 AI</td>\n",
       "      <td>데이비드 포스터</td>\n",
       "      <td>2023-09-15</td>\n",
       "      <td>39,000원</td>\n",
       "    </tr>\n",
       "  </tbody>\n",
       "</table>\n",
       "</div>"
      ],
      "text/plain": [
       "     브랜드                 도서명                       저자         발행일       정가\n",
       "0  한빛미디어        핸즈온 머신러닝(3판)  오렐리앙 제롱(Aurélien Géron)  2023-09-29  60,000원\n",
       "1   한빛비즈       한 단어의 힘 (개정판)                  에번 카마이클  2023-09-18  18,900원\n",
       "2   한빛비즈             글로벌 클래스             에런 맥대니얼 외 1명  2023-09-15  28,000원\n",
       "3  한빛라이프  모든 멋진 일에는 두려움이 따른다                       이연  2023-09-15  16,800원\n",
       "4  한빛미디어      만들면서 배우는 생성 AI                 데이비드 포스터  2023-09-15  39,000원"
      ]
     },
     "execution_count": 138,
     "metadata": {},
     "output_type": "execute_result"
    }
   ],
   "source": [
    "tables[1].head()"
   ]
  },
  {
   "cell_type": "markdown",
   "id": "b06d19cc-2822-457a-8f6b-ecf43d788c5f",
   "metadata": {},
   "source": [
    "#### yes24.co.kr에서 베스트셀러 페이지의 도서를 데이터프레임으로 생성하기\n",
    "* IT모바일 카테고리의 베스트셀러를 대상\n",
    "* 단, 신상품으로 정렬한 뒤, 도서를 추출"
   ]
  },
  {
   "cell_type": "code",
   "execution_count": 143,
   "id": "2bbc56be-3150-4884-ae13-b0579929f8df",
   "metadata": {},
   "outputs": [],
   "source": [
    "url = 'https://www.yes24.com/24/category/bestseller?CategoryNumber=001001003&sumgb=06&ParamSortTp=04'\n",
    "headers = {'User-Agent': 'Mozilla/5.0 (Windows NT 10.0; Win64; x64) AppleWebKit/537.36 (KHTML, like Gecko) Chrome/94.0.4606.81 Safari/537.36 Edg/94.0.992.50'}"
   ]
  },
  {
   "cell_type": "code",
   "execution_count": 144,
   "id": "1cbe8933-25d4-46dc-9e73-fc81cb4d50f3",
   "metadata": {},
   "outputs": [],
   "source": [
    "res = requests.get(url, headers=headers)"
   ]
  },
  {
   "cell_type": "code",
   "execution_count": 145,
   "id": "2ba0f371-e224-4e6b-95f9-ecf0d170c040",
   "metadata": {},
   "outputs": [
    {
     "data": {
      "text/html": [
       "<div>\n",
       "<style scoped>\n",
       "    .dataframe tbody tr th:only-of-type {\n",
       "        vertical-align: middle;\n",
       "    }\n",
       "\n",
       "    .dataframe tbody tr th {\n",
       "        vertical-align: top;\n",
       "    }\n",
       "\n",
       "    .dataframe thead th {\n",
       "        text-align: right;\n",
       "    }\n",
       "</style>\n",
       "<table border=\"1\" class=\"dataframe\">\n",
       "  <thead>\n",
       "    <tr style=\"text-align: right;\">\n",
       "      <th></th>\n",
       "      <th>0</th>\n",
       "      <th>1</th>\n",
       "      <th>2</th>\n",
       "      <th>3</th>\n",
       "    </tr>\n",
       "  </thead>\n",
       "  <tbody>\n",
       "    <tr>\n",
       "      <th>0</th>\n",
       "      <td>1.0</td>\n",
       "      <td>NaN</td>\n",
       "      <td>[도서] 핵심만 골라 배우는 SwiftUI 기반의 iOS 프로그래밍(개정증보판) : SwiftUI, Xcode, 스위프트 언어로 iOS 앱 개발하기-I♥Mobile 42 닐 스미스 저/황반석 역 | 제이펍  | 2023년 09월  33,000원 →29,700원(10% 할인) | YES포인트 1,650원(5% 지급) 2023년 09월 21일 발송예정 (예약판매)  (예정일 이후 1~2일 이내 받을 수 있습니다.)  수량</td>\n",
       "      <td>NaN</td>\n",
       "    </tr>\n",
       "    <tr>\n",
       "      <th>1</th>\n",
       "      <td>NaN</td>\n",
       "      <td>NaN</td>\n",
       "      <td>SwiftUI 중심으로 살펴보는 iOS 프로그래밍의 모든 것 SwiftUI, Xcode 14 및 스위프트 5.7 프로그래밍 언어를 사용하여 iOS 16 애플리케이션을 만드는 데 필요한 기술을 담았다. iOS 개발 환경 구축부터 친절하게 예제 코드와 함께 설명한다. 데이터 타입, 제어문, 함수 등 스위프트 언어 기초부터 시작해 Xcode의 Swif...</td>\n",
       "      <td>SwiftUI 중심으로 살펴보는 iOS 프로그래밍의 모든 것 SwiftUI, Xcode 14 및 스위프트 5.7 프로그래밍 언어를 사용하여 iOS 16 애플리케이션을 만드는 데 필요한 기술을 담았다. iOS 개발 환경 구축부터 친절하게 예제 코드와 함께 설명한다. 데이터 타입, 제어문, 함수 등 스위프트 언어 기초부터 시작해 Xcode의 Swif...</td>\n",
       "    </tr>\n",
       "    <tr>\n",
       "      <th>2</th>\n",
       "      <td>2.0</td>\n",
       "      <td>NaN</td>\n",
       "      <td>[도서] 캐릭터 제작을 위한 블렌더 3D 모델링&amp;렌더링 : 한 권으로 끝내는 3D 모델링 교과서-된다! 시리즈 3dtotal Publishing 저/안동현 역 | 이지스퍼블리싱  | 2023년 09월  31,000원 →27,900원(10% 할인) | YES포인트 1,550원(5% 지급) 19시까지 주문하면 내일(9/12, 화) 도착예정  수량</td>\n",
       "      <td>NaN</td>\n",
       "    </tr>\n",
       "    <tr>\n",
       "      <th>3</th>\n",
       "      <td>NaN</td>\n",
       "      <td>NaN</td>\n",
       "      <td>업무에서 취미까지 당신을 성장시킬 된다! 시리즈 (21.07.27 ~ 한정 수량) 블렌더 재단에서 ‘공식 인증'한 저자 집필! 3D 기초부터 모델링, 스컬프팅, 토폴로지, 렌더링까지! 예비 캐릭터 아티스트에게 추천하는 최적의 루트로 배우세요! 블렌더 3D, 요즘 대세라는 건 알고 있는데 배우기 막막했다면? 블렌더 재단이 인증한 트레이너가 집필한 이 책을 만나 보자! 3D 모델링 기초 프로젝트와 ...</td>\n",
       "      <td>업무에서 취미까지 당신을 성장시킬 된다! 시리즈 (21.07.27 ~ 한정 수량) 블렌더 재단에서 ‘공식 인증'한 저자 집필! 3D 기초부터 모델링, 스컬프팅, 토폴로지, 렌더링까지! 예비 캐릭터 아티스트에게 추천하는 최적의 루트로 배우세요! 블렌더 3D, 요즘 대세라는 건 알고 있는데 배우기 막막했다면? 블렌더 재단이 인증한 트레이너가 집필한 이 책을 만나 보자! 3D 모델링 기초 프로젝트와 ...</td>\n",
       "    </tr>\n",
       "    <tr>\n",
       "      <th>4</th>\n",
       "      <td>3.0</td>\n",
       "      <td>NaN</td>\n",
       "      <td>[도서] 리그 오브 레전드 플레이어 중심주의 : 게임에서 문화로, 〈리그 오브 레전드〉를 만든 라이엇 게임즈 인사이드 이야기 오진호 저 | 골든래빗  | 2023년 09월  20,000원 →18,000원(10% 할인) | YES포인트 1,000원(5% 지급) 회원리뷰 (2개) | 내용 | 편집구성 19시까지 주문하면 내일(9/12, 화) 도착예정  수량</td>\n",
       "      <td>NaN</td>\n",
       "    </tr>\n",
       "  </tbody>\n",
       "</table>\n",
       "</div>"
      ],
      "text/plain": [
       "     0   1  \\\n",
       "0  1.0 NaN   \n",
       "1  NaN NaN   \n",
       "2  2.0 NaN   \n",
       "3  NaN NaN   \n",
       "4  3.0 NaN   \n",
       "\n",
       "                                                                                                                                                                                                                                             2  \\\n",
       "0  [도서] 핵심만 골라 배우는 SwiftUI 기반의 iOS 프로그래밍(개정증보판) : SwiftUI, Xcode, 스위프트 언어로 iOS 앱 개발하기-I♥Mobile 42 닐 스미스 저/황반석 역 | 제이펍  | 2023년 09월  33,000원 →29,700원(10% 할인) | YES포인트 1,650원(5% 지급) 2023년 09월 21일 발송예정 (예약판매)  (예정일 이후 1~2일 이내 받을 수 있습니다.)  수량   \n",
       "1                                        SwiftUI 중심으로 살펴보는 iOS 프로그래밍의 모든 것 SwiftUI, Xcode 14 및 스위프트 5.7 프로그래밍 언어를 사용하여 iOS 16 애플리케이션을 만드는 데 필요한 기술을 담았다. iOS 개발 환경 구축부터 친절하게 예제 코드와 함께 설명한다. 데이터 타입, 제어문, 함수 등 스위프트 언어 기초부터 시작해 Xcode의 Swif...   \n",
       "2                                             [도서] 캐릭터 제작을 위한 블렌더 3D 모델링&렌더링 : 한 권으로 끝내는 3D 모델링 교과서-된다! 시리즈 3dtotal Publishing 저/안동현 역 | 이지스퍼블리싱  | 2023년 09월  31,000원 →27,900원(10% 할인) | YES포인트 1,550원(5% 지급) 19시까지 주문하면 내일(9/12, 화) 도착예정  수량   \n",
       "3            업무에서 취미까지 당신을 성장시킬 된다! 시리즈 (21.07.27 ~ 한정 수량) 블렌더 재단에서 ‘공식 인증'한 저자 집필! 3D 기초부터 모델링, 스컬프팅, 토폴로지, 렌더링까지! 예비 캐릭터 아티스트에게 추천하는 최적의 루트로 배우세요! 블렌더 3D, 요즘 대세라는 건 알고 있는데 배우기 막막했다면? 블렌더 재단이 인증한 트레이너가 집필한 이 책을 만나 보자! 3D 모델링 기초 프로젝트와 ...   \n",
       "4                                       [도서] 리그 오브 레전드 플레이어 중심주의 : 게임에서 문화로, 〈리그 오브 레전드〉를 만든 라이엇 게임즈 인사이드 이야기 오진호 저 | 골든래빗  | 2023년 09월  20,000원 →18,000원(10% 할인) | YES포인트 1,000원(5% 지급) 회원리뷰 (2개) | 내용 | 편집구성 19시까지 주문하면 내일(9/12, 화) 도착예정  수량   \n",
       "\n",
       "                                                                                                                                                                                                                                   3  \n",
       "0                                                                                                                                                                                                                                NaN  \n",
       "1                              SwiftUI 중심으로 살펴보는 iOS 프로그래밍의 모든 것 SwiftUI, Xcode 14 및 스위프트 5.7 프로그래밍 언어를 사용하여 iOS 16 애플리케이션을 만드는 데 필요한 기술을 담았다. iOS 개발 환경 구축부터 친절하게 예제 코드와 함께 설명한다. 데이터 타입, 제어문, 함수 등 스위프트 언어 기초부터 시작해 Xcode의 Swif...  \n",
       "2                                                                                                                                                                                                                                NaN  \n",
       "3  업무에서 취미까지 당신을 성장시킬 된다! 시리즈 (21.07.27 ~ 한정 수량) 블렌더 재단에서 ‘공식 인증'한 저자 집필! 3D 기초부터 모델링, 스컬프팅, 토폴로지, 렌더링까지! 예비 캐릭터 아티스트에게 추천하는 최적의 루트로 배우세요! 블렌더 3D, 요즘 대세라는 건 알고 있는데 배우기 막막했다면? 블렌더 재단이 인증한 트레이너가 집필한 이 책을 만나 보자! 3D 모델링 기초 프로젝트와 ...  \n",
       "4                                                                                                                                                                                                                                NaN  "
      ]
     },
     "execution_count": 145,
     "metadata": {},
     "output_type": "execute_result"
    }
   ],
   "source": [
    "bests = pd.read_html(res.text)\n",
    "bests[0].head()"
   ]
  },
  {
   "cell_type": "code",
   "execution_count": 146,
   "id": "97d63def-b0f3-4ac4-9eea-27f41dd07a4f",
   "metadata": {
    "collapsed": true,
    "jupyter": {
     "outputs_hidden": true
    }
   },
   "outputs": [
    {
     "data": {
      "text/plain": [
       "1    [도서] 핵심만 골라 배우는 SwiftUI 기반의 iOS 프로그래밍(개정증보판) : SwiftUI, Xcode, 스위프트 언어로 iOS 앱 개발하기-I♥Mobile 42 닐 스미스 저/황반석 역 | 제이펍  | 2023년 09월  33,000원 →29,700원(10% 할인) | YES포인트 1,650원(5% 지급) 2023년 09월 21일 발송예정 (예약판매)  (예정일 이후 1~2일 이내 받을 수 있습니다.)  수량\n",
       "2                                               [도서] 캐릭터 제작을 위한 블렌더 3D 모델링&렌더링 : 한 권으로 끝내는 3D 모델링 교과서-된다! 시리즈 3dtotal Publishing 저/안동현 역 | 이지스퍼블리싱  | 2023년 09월  31,000원 →27,900원(10% 할인) | YES포인트 1,550원(5% 지급) 19시까지 주문하면 내일(9/12, 화) 도착예정  수량\n",
       "3                                         [도서] 리그 오브 레전드 플레이어 중심주의 : 게임에서 문화로, 〈리그 오브 레전드〉를 만든 라이엇 게임즈 인사이드 이야기 오진호 저 | 골든래빗  | 2023년 09월  20,000원 →18,000원(10% 할인) | YES포인트 1,000원(5% 지급) 회원리뷰 (2개) | 내용 | 편집구성 19시까지 주문하면 내일(9/12, 화) 도착예정  수량\n",
       "4                                                                                                                           [도서] 스테이블 디퓨전 마스터북 박철우 저 | e비즈북스  | 2023년 09월  19,000원 →17,100원(10% 할인) | YES포인트 950원(5% 지급) 1일 이내(9/12, 화) 출고예정  수량\n",
       "5                         [도서] 핸즈온 머신러닝 : 사이킷런, 케라스, 텐서플로 2로 완벽 이해하는 머신러닝, 딥러닝 이론 & 실무(전2권, 3판) 오렐리앙 제롱 저/박해선 역 | 한빛미디어  | 2023년 09월  60,000원 →54,000원(10% 할인) | YES포인트 3,000원(5% 지급) 2023년 09월 27일 발송예정 (예약판매)  (예정일 이후 1~2일 이내 받을 수 있습니다.)  수량\n",
       "Name: 2, dtype: object"
      ]
     },
     "execution_count": 146,
     "metadata": {},
     "output_type": "execute_result"
    }
   ],
   "source": [
    "# 도서제목 : 도서정보에서 3번째 컬럼의 홀수행만 추출\n",
    "bookinfo = bests[0].iloc[0::2, 2]\n",
    "bookinfo.index = np.arange(1, len(bookinfo)+1)\n",
    "bookinfo[:5]"
   ]
  },
  {
   "cell_type": "code",
   "execution_count": 147,
   "id": "9df51876-a4a0-4971-86d7-1e7e8016e0f1",
   "metadata": {
    "collapsed": true,
    "jupyter": {
     "outputs_hidden": true
    }
   },
   "outputs": [
    {
     "data": {
      "text/plain": [
       "1                                      SwiftUI 중심으로 살펴보는 iOS 프로그래밍의 모든 것 SwiftUI, Xcode 14 및 스위프트 5.7 프로그래밍 언어를 사용하여 iOS 16 애플리케이션을 만드는 데 필요한 기술을 담았다. iOS 개발 환경 구축부터 친절하게 예제 코드와 함께 설명한다. 데이터 타입, 제어문, 함수 등 스위프트 언어 기초부터 시작해 Xcode의 Swif...\n",
       "2          업무에서 취미까지 당신을 성장시킬 된다! 시리즈 (21.07.27 ~ 한정 수량) 블렌더 재단에서 ‘공식 인증'한 저자 집필! 3D 기초부터 모델링, 스컬프팅, 토폴로지, 렌더링까지! 예비 캐릭터 아티스트에게 추천하는 최적의 루트로 배우세요! 블렌더 3D, 요즘 대세라는 건 알고 있는데 배우기 막막했다면? 블렌더 재단이 인증한 트레이너가 집필한 이 책을 만나 보자! 3D 모델링 기초 프로젝트와 ...\n",
       "3    리그 오브 레전드 플레이어 중심주의 출간 기념 커피 증정 이벤트 (23.09.08 ~ 23.09.22) - 게임에서 문화로, 〈리그 오브 레전드〉 최초의 인사이드 이야기 - 라이엇 게임즈의 ‘플레이어 중심주의’는 무엇인가? 〈리그 오브 레전드〉는 어떻게 e스포츠를 넘어 문화로까지 성장할 수 있었을까? 그 해답은 우리말로 ‘플레이어 중심주의’라고 할 수 있는 ‘플레이어 포커스’에 있다. ‘플레이어 포커스’는...\n",
       "4                                                              스테이블 디퓨전과 함께라면 당신도 금손 화가! 꼼꼼하고 친절한 스테이블 디퓨전 마스터북! 고흐의 화풍을 흉내낼 수 있는 사람이 몇이나 될까? 하지만 인공지능을 이용하면 누구나 가능하다. 프롬프트에 ‘고흐 스타일’이라고 넣으면 된다! 탁월한 그림 퀄리티와 무료 공개에 힘입어 전 세계 개발자와 사용자를 확보...\n",
       "5                                                           실무 밀착형 예제부터 스테이블 디퓨전 등 최신 머신러닝 트렌드까지 주요 인공 지능 콘퍼런스에서 전문가들이 소개한 최고의 실전 지침서 ** 독자의 편의를 고려한 분권(1권, 2권) ** 최신 라이브러리 버전으로 전체 코드 업데이트 ** 〈연습문제 + 해답〉, 〈머신러닝 프로젝트 체크리스트〉 수록 수학에 『수학의...\n",
       "Name: 3, dtype: object"
      ]
     },
     "execution_count": 147,
     "metadata": {},
     "output_type": "execute_result"
    }
   ],
   "source": [
    "# 도서설명 : 도서정보에서 4번째 컬럼의 짝수행만 추출\n",
    "bookdescs = bests[0].iloc[1::2, 3]\n",
    "bookdescs.index = np.arange(1, len(bookdescs)+1)\n",
    "bookdescs[:5]"
   ]
  },
  {
   "cell_type": "code",
   "execution_count": 151,
   "id": "91561487-3a46-453d-9ae0-9f60ec987767",
   "metadata": {},
   "outputs": [
    {
     "data": {
      "text/html": [
       "<div>\n",
       "<style scoped>\n",
       "    .dataframe tbody tr th:only-of-type {\n",
       "        vertical-align: middle;\n",
       "    }\n",
       "\n",
       "    .dataframe tbody tr th {\n",
       "        vertical-align: top;\n",
       "    }\n",
       "\n",
       "    .dataframe thead th {\n",
       "        text-align: right;\n",
       "    }\n",
       "</style>\n",
       "<table border=\"1\" class=\"dataframe\">\n",
       "  <thead>\n",
       "    <tr style=\"text-align: right;\">\n",
       "      <th></th>\n",
       "      <th>bkinfo</th>\n",
       "      <th>bkdesc</th>\n",
       "    </tr>\n",
       "  </thead>\n",
       "  <tbody>\n",
       "    <tr>\n",
       "      <th>1</th>\n",
       "      <td>[도서] 핵심만 골라 배우는 SwiftUI 기반의 iOS 프로그래밍(개정증보판) : SwiftUI, Xcode, 스위프트 언어로 iOS 앱 개발하기-I♥Mobile 42 닐 스미스 저/황반석 역 | 제이펍  | 2023년 09월  33,000원 →29,700원(10% 할인) | YES포인트 1,650원(5% 지급) 2023년 09월 21일 발송예정 (예약판매)  (예정일 이후 1~2일 이내 받을 수 있습니다.)  수량</td>\n",
       "      <td>SwiftUI 중심으로 살펴보는 iOS 프로그래밍의 모든 것 SwiftUI, Xcode 14 및 스위프트 5.7 프로그래밍 언어를 사용하여 iOS 16 애플리케이션을 만드는 데 필요한 기술을 담았다. iOS 개발 환경 구축부터 친절하게 예제 코드와 함께 설명한다. 데이터 타입, 제어문, 함수 등 스위프트 언어 기초부터 시작해 Xcode의 Swif...</td>\n",
       "    </tr>\n",
       "    <tr>\n",
       "      <th>2</th>\n",
       "      <td>[도서] 캐릭터 제작을 위한 블렌더 3D 모델링&amp;렌더링 : 한 권으로 끝내는 3D 모델링 교과서-된다! 시리즈 3dtotal Publishing 저/안동현 역 | 이지스퍼블리싱  | 2023년 09월  31,000원 →27,900원(10% 할인) | YES포인트 1,550원(5% 지급) 19시까지 주문하면 내일(9/12, 화) 도착예정  수량</td>\n",
       "      <td>업무에서 취미까지 당신을 성장시킬 된다! 시리즈 (21.07.27 ~ 한정 수량) 블렌더 재단에서 ‘공식 인증'한 저자 집필! 3D 기초부터 모델링, 스컬프팅, 토폴로지, 렌더링까지! 예비 캐릭터 아티스트에게 추천하는 최적의 루트로 배우세요! 블렌더 3D, 요즘 대세라는 건 알고 있는데 배우기 막막했다면? 블렌더 재단이 인증한 트레이너가 집필한 이 책을 만나 보자! 3D 모델링 기초 프로젝트와 ...</td>\n",
       "    </tr>\n",
       "    <tr>\n",
       "      <th>3</th>\n",
       "      <td>[도서] 리그 오브 레전드 플레이어 중심주의 : 게임에서 문화로, 〈리그 오브 레전드〉를 만든 라이엇 게임즈 인사이드 이야기 오진호 저 | 골든래빗  | 2023년 09월  20,000원 →18,000원(10% 할인) | YES포인트 1,000원(5% 지급) 회원리뷰 (2개) | 내용 | 편집구성 19시까지 주문하면 내일(9/12, 화) 도착예정  수량</td>\n",
       "      <td>리그 오브 레전드 플레이어 중심주의 출간 기념 커피 증정 이벤트 (23.09.08 ~ 23.09.22) - 게임에서 문화로, 〈리그 오브 레전드〉 최초의 인사이드 이야기 - 라이엇 게임즈의 ‘플레이어 중심주의’는 무엇인가? 〈리그 오브 레전드〉는 어떻게 e스포츠를 넘어 문화로까지 성장할 수 있었을까? 그 해답은 우리말로 ‘플레이어 중심주의’라고 할 수 있는 ‘플레이어 포커스’에 있다. ‘플레이어 포커스’는...</td>\n",
       "    </tr>\n",
       "    <tr>\n",
       "      <th>4</th>\n",
       "      <td>[도서] 스테이블 디퓨전 마스터북 박철우 저 | e비즈북스  | 2023년 09월  19,000원 →17,100원(10% 할인) | YES포인트 950원(5% 지급) 1일 이내(9/12, 화) 출고예정  수량</td>\n",
       "      <td>스테이블 디퓨전과 함께라면 당신도 금손 화가! 꼼꼼하고 친절한 스테이블 디퓨전 마스터북! 고흐의 화풍을 흉내낼 수 있는 사람이 몇이나 될까? 하지만 인공지능을 이용하면 누구나 가능하다. 프롬프트에 ‘고흐 스타일’이라고 넣으면 된다! 탁월한 그림 퀄리티와 무료 공개에 힘입어 전 세계 개발자와 사용자를 확보...</td>\n",
       "    </tr>\n",
       "    <tr>\n",
       "      <th>5</th>\n",
       "      <td>[도서] 핸즈온 머신러닝 : 사이킷런, 케라스, 텐서플로 2로 완벽 이해하는 머신러닝, 딥러닝 이론 &amp; 실무(전2권, 3판) 오렐리앙 제롱 저/박해선 역 | 한빛미디어  | 2023년 09월  60,000원 →54,000원(10% 할인) | YES포인트 3,000원(5% 지급) 2023년 09월 27일 발송예정 (예약판매)  (예정일 이후 1~2일 이내 받을 수 있습니다.)  수량</td>\n",
       "      <td>실무 밀착형 예제부터 스테이블 디퓨전 등 최신 머신러닝 트렌드까지 주요 인공 지능 콘퍼런스에서 전문가들이 소개한 최고의 실전 지침서 ** 독자의 편의를 고려한 분권(1권, 2권) ** 최신 라이브러리 버전으로 전체 코드 업데이트 ** 〈연습문제 + 해답〉, 〈머신러닝 프로젝트 체크리스트〉 수록 수학에 『수학의...</td>\n",
       "    </tr>\n",
       "  </tbody>\n",
       "</table>\n",
       "</div>"
      ],
      "text/plain": [
       "                                                                                                                                                                                                                                        bkinfo  \\\n",
       "1  [도서] 핵심만 골라 배우는 SwiftUI 기반의 iOS 프로그래밍(개정증보판) : SwiftUI, Xcode, 스위프트 언어로 iOS 앱 개발하기-I♥Mobile 42 닐 스미스 저/황반석 역 | 제이펍  | 2023년 09월  33,000원 →29,700원(10% 할인) | YES포인트 1,650원(5% 지급) 2023년 09월 21일 발송예정 (예약판매)  (예정일 이후 1~2일 이내 받을 수 있습니다.)  수량   \n",
       "2                                             [도서] 캐릭터 제작을 위한 블렌더 3D 모델링&렌더링 : 한 권으로 끝내는 3D 모델링 교과서-된다! 시리즈 3dtotal Publishing 저/안동현 역 | 이지스퍼블리싱  | 2023년 09월  31,000원 →27,900원(10% 할인) | YES포인트 1,550원(5% 지급) 19시까지 주문하면 내일(9/12, 화) 도착예정  수량   \n",
       "3                                       [도서] 리그 오브 레전드 플레이어 중심주의 : 게임에서 문화로, 〈리그 오브 레전드〉를 만든 라이엇 게임즈 인사이드 이야기 오진호 저 | 골든래빗  | 2023년 09월  20,000원 →18,000원(10% 할인) | YES포인트 1,000원(5% 지급) 회원리뷰 (2개) | 내용 | 편집구성 19시까지 주문하면 내일(9/12, 화) 도착예정  수량   \n",
       "4                                                                                                                         [도서] 스테이블 디퓨전 마스터북 박철우 저 | e비즈북스  | 2023년 09월  19,000원 →17,100원(10% 할인) | YES포인트 950원(5% 지급) 1일 이내(9/12, 화) 출고예정  수량   \n",
       "5                       [도서] 핸즈온 머신러닝 : 사이킷런, 케라스, 텐서플로 2로 완벽 이해하는 머신러닝, 딥러닝 이론 & 실무(전2권, 3판) 오렐리앙 제롱 저/박해선 역 | 한빛미디어  | 2023년 09월  60,000원 →54,000원(10% 할인) | YES포인트 3,000원(5% 지급) 2023년 09월 27일 발송예정 (예약판매)  (예정일 이후 1~2일 이내 받을 수 있습니다.)  수량   \n",
       "\n",
       "                                                                                                                                                                                                                                    bkdesc  \n",
       "1                                    SwiftUI 중심으로 살펴보는 iOS 프로그래밍의 모든 것 SwiftUI, Xcode 14 및 스위프트 5.7 프로그래밍 언어를 사용하여 iOS 16 애플리케이션을 만드는 데 필요한 기술을 담았다. iOS 개발 환경 구축부터 친절하게 예제 코드와 함께 설명한다. 데이터 타입, 제어문, 함수 등 스위프트 언어 기초부터 시작해 Xcode의 Swif...  \n",
       "2        업무에서 취미까지 당신을 성장시킬 된다! 시리즈 (21.07.27 ~ 한정 수량) 블렌더 재단에서 ‘공식 인증'한 저자 집필! 3D 기초부터 모델링, 스컬프팅, 토폴로지, 렌더링까지! 예비 캐릭터 아티스트에게 추천하는 최적의 루트로 배우세요! 블렌더 3D, 요즘 대세라는 건 알고 있는데 배우기 막막했다면? 블렌더 재단이 인증한 트레이너가 집필한 이 책을 만나 보자! 3D 모델링 기초 프로젝트와 ...  \n",
       "3  리그 오브 레전드 플레이어 중심주의 출간 기념 커피 증정 이벤트 (23.09.08 ~ 23.09.22) - 게임에서 문화로, 〈리그 오브 레전드〉 최초의 인사이드 이야기 - 라이엇 게임즈의 ‘플레이어 중심주의’는 무엇인가? 〈리그 오브 레전드〉는 어떻게 e스포츠를 넘어 문화로까지 성장할 수 있었을까? 그 해답은 우리말로 ‘플레이어 중심주의’라고 할 수 있는 ‘플레이어 포커스’에 있다. ‘플레이어 포커스’는...  \n",
       "4                                                            스테이블 디퓨전과 함께라면 당신도 금손 화가! 꼼꼼하고 친절한 스테이블 디퓨전 마스터북! 고흐의 화풍을 흉내낼 수 있는 사람이 몇이나 될까? 하지만 인공지능을 이용하면 누구나 가능하다. 프롬프트에 ‘고흐 스타일’이라고 넣으면 된다! 탁월한 그림 퀄리티와 무료 공개에 힘입어 전 세계 개발자와 사용자를 확보...  \n",
       "5                                                         실무 밀착형 예제부터 스테이블 디퓨전 등 최신 머신러닝 트렌드까지 주요 인공 지능 콘퍼런스에서 전문가들이 소개한 최고의 실전 지침서 ** 독자의 편의를 고려한 분권(1권, 2권) ** 최신 라이브러리 버전으로 전체 코드 업데이트 ** 〈연습문제 + 해답〉, 〈머신러닝 프로젝트 체크리스트〉 수록 수학에 『수학의...  "
      ]
     },
     "execution_count": 151,
     "metadata": {},
     "output_type": "execute_result"
    }
   ],
   "source": [
    "# 합치기\n",
    "bookdata = {'bkinfo': bookinfo, 'bkdesc': bookdescs}\n",
    "bestbooks = pd.DataFrame(bookdata)\n",
    "bestbooks.head()"
   ]
  },
  {
   "cell_type": "markdown",
   "id": "183d2fe3-4796-430f-be06-91b0476d318d",
   "metadata": {},
   "source": [
    "### 데이터프레임을 파일에 저장하기\n",
    "* 객체명.to_xxx(경로)"
   ]
  },
  {
   "cell_type": "code",
   "execution_count": 130,
   "id": "29a0d567-e20e-499d-a7a2-5a4a4c0e32df",
   "metadata": {},
   "outputs": [],
   "source": [
    "managers.to_csv('./data/manager.csv', index=False)"
   ]
  },
  {
   "cell_type": "code",
   "execution_count": 141,
   "id": "4ba79c42-1801-4525-b5ba-1357bef121da",
   "metadata": {},
   "outputs": [],
   "source": [
    "# 한빛미디어 전체도서 csv로 저장\n",
    "tables[1].정가 = tables[1].정가.str.replace('','')\n",
    "tables[1].정가 = tables[1].정가.str.replace('원','')\n",
    "tables[1].to_csv('./data/hanbbooks.csv', index=False)"
   ]
  },
  {
   "cell_type": "code",
   "execution_count": 152,
   "id": "4c500cc6-f89a-4679-bbae-8d283bc5b3bb",
   "metadata": {},
   "outputs": [],
   "source": [
    "# yes24 베스트도서 csv로 저장\n",
    "bestbooks.bkinfo = bestbooks.bkinfo.str.replace('[도서] ','')\n",
    "bestbooks.to_csv('./data/yes24best.csv', index=False)"
   ]
  },
  {
   "cell_type": "code",
   "execution_count": null,
   "id": "3bde001e-c722-4332-94b5-79869b7f4d0b",
   "metadata": {},
   "outputs": [],
   "source": []
  }
 ],
 "metadata": {
  "kernelspec": {
   "display_name": "Python 3 (ipykernel)",
   "language": "python",
   "name": "python3"
  },
  "language_info": {
   "codemirror_mode": {
    "name": "ipython",
    "version": 3
   },
   "file_extension": ".py",
   "mimetype": "text/x-python",
   "name": "python",
   "nbconvert_exporter": "python",
   "pygments_lexer": "ipython3",
   "version": "3.11.4"
  }
 },
 "nbformat": 4,
 "nbformat_minor": 5
}

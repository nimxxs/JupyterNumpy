{
 "cells": [
  {
   "cell_type": "markdown",
   "id": "da8c2af0-ebdc-4d57-b94a-14bc1e89de0a",
   "metadata": {},
   "source": [
    "# 넘파이"
   ]
  },
  {
   "cell_type": "markdown",
   "id": "6203782d-2247-4a28-bc62-7573b17b98b0",
   "metadata": {},
   "source": [
    "### numpy\n",
    "* 파이썬의 고성능 과학 계산용 라이브러리\n",
    "* 벡터나 행렬 같은 선형대수의 표현법을 코드로 처리\n",
    "* 사실상의 표준 라이브러리\n",
    "* 속도가 빠르고 메모리 사용이 효율적\n",
    "* 다양한 선형대수 관련 함수 제공"
   ]
  },
  {
   "cell_type": "code",
   "execution_count": 1,
   "id": "ef27546b-f41c-4024-92f8-05ce5e816bde",
   "metadata": {},
   "outputs": [],
   "source": [
    "import numpy as np"
   ]
  },
  {
   "cell_type": "markdown",
   "id": "bc054f63-60dd-43c2-a8f1-3b639dd39330",
   "metadata": {},
   "source": [
    "### numpy 배열\n",
    "* numpy에서 벡터나 행렬 데이터 다루는 객체\n",
    "* `array(배열객체, 타입)`"
   ]
  },
  {
   "cell_type": "code",
   "execution_count": 3,
   "id": "610a7bc8-d29d-4161-b979-791b08b4a1bc",
   "metadata": {},
   "outputs": [
    {
     "data": {
      "text/plain": [
       "array([1, 3, 5, 7, 9])"
      ]
     },
     "execution_count": 3,
     "metadata": {},
     "output_type": "execute_result"
    }
   ],
   "source": [
    "nums = np.array([1,3,5,7,9], int)\n",
    "nums"
   ]
  },
  {
   "cell_type": "code",
   "execution_count": 5,
   "id": "f7639267-a216-42ab-82eb-35198b400391",
   "metadata": {},
   "outputs": [
    {
     "data": {
      "text/plain": [
       "(numpy.ndarray, numpy.int64)"
      ]
     },
     "execution_count": 5,
     "metadata": {},
     "output_type": "execute_result"
    }
   ],
   "source": [
    "type(nums), type(nums[3])"
   ]
  },
  {
   "cell_type": "code",
   "execution_count": 7,
   "id": "af09ea8a-4e5e-4c49-a374-a88fd14fd5a5",
   "metadata": {},
   "outputs": [
    {
     "data": {
      "text/plain": [
       "dtype('int64')"
      ]
     },
     "execution_count": 7,
     "metadata": {},
     "output_type": "execute_result"
    }
   ],
   "source": [
    "# numpy 배열의 자료형 출력\n",
    "nums.dtype"
   ]
  },
  {
   "cell_type": "code",
   "execution_count": 8,
   "id": "f0d7c666-147a-42d1-b913-04008880b72a",
   "metadata": {},
   "outputs": [
    {
     "data": {
      "text/plain": [
       "(5,)"
      ]
     },
     "execution_count": 8,
     "metadata": {},
     "output_type": "execute_result"
    }
   ],
   "source": [
    "# numpy 배열의 구조(차원) 출력\n",
    "nums.shape"
   ]
  },
  {
   "cell_type": "code",
   "execution_count": 13,
   "id": "44e8922a-561d-4390-9797-e4877190d724",
   "metadata": {},
   "outputs": [
    {
     "data": {
      "text/plain": [
       "1"
      ]
     },
     "execution_count": 13,
     "metadata": {},
     "output_type": "execute_result"
    }
   ],
   "source": [
    "# numpy 배열의 차원 출력\n",
    "nums.ndim"
   ]
  },
  {
   "cell_type": "code",
   "execution_count": 14,
   "id": "7d7db3aa-67f3-4661-8c7e-069354076d39",
   "metadata": {},
   "outputs": [
    {
     "data": {
      "text/plain": [
       "5"
      ]
     },
     "execution_count": 14,
     "metadata": {},
     "output_type": "execute_result"
    }
   ],
   "source": [
    "# numpy 배열의 요소 개수 출력\n",
    "nums.size"
   ]
  },
  {
   "cell_type": "code",
   "execution_count": 16,
   "id": "60292ca0-4b2c-4561-a49f-add253bc8127",
   "metadata": {},
   "outputs": [
    {
     "data": {
      "text/plain": [
       "8"
      ]
     },
     "execution_count": 16,
     "metadata": {},
     "output_type": "execute_result"
    }
   ],
   "source": [
    "# numpy 배열 요소의 데이터크기 출력\n",
    "nums.itemsize"
   ]
  },
  {
   "cell_type": "code",
   "execution_count": 17,
   "id": "1d1bfdca-0748-4dd2-98f6-b8a32e216738",
   "metadata": {},
   "outputs": [
    {
     "data": {
      "text/plain": [
       "4"
      ]
     },
     "execution_count": 17,
     "metadata": {},
     "output_type": "execute_result"
    }
   ],
   "source": [
    "# 8byte 정수 대신 4byte 정수 배열 선언\n",
    "nums = np.array([1,3,5,7,9], dtype=np.int32)\n",
    "nums.itemsize"
   ]
  },
  {
   "cell_type": "code",
   "execution_count": 9,
   "id": "43dec5e0-e0c8-4afe-a2a2-e54474d5b96d",
   "metadata": {},
   "outputs": [
    {
     "data": {
      "text/plain": [
       "array([[1, 2, 3],\n",
       "       [4, 5, 6],\n",
       "       [7, 8, 9]])"
      ]
     },
     "execution_count": 9,
     "metadata": {},
     "output_type": "execute_result"
    }
   ],
   "source": [
    "nums2 = np.array([[1,2,3], [4,5,6], [7,8,9]],int)\n",
    "nums2"
   ]
  },
  {
   "cell_type": "code",
   "execution_count": 11,
   "id": "2413a1ce-4f1f-4d8b-9adb-1edca84c15b7",
   "metadata": {},
   "outputs": [
    {
     "data": {
      "text/plain": [
       "(dtype('int64'), (3, 3))"
      ]
     },
     "execution_count": 11,
     "metadata": {},
     "output_type": "execute_result"
    }
   ],
   "source": [
    "nums.dtype, nums2.shape"
   ]
  },
  {
   "cell_type": "code",
   "execution_count": 15,
   "id": "d3e56f6d-54be-4f1f-98fc-a71eb9bbbc35",
   "metadata": {},
   "outputs": [
    {
     "data": {
      "text/plain": [
       "(2, 9)"
      ]
     },
     "execution_count": 15,
     "metadata": {},
     "output_type": "execute_result"
    }
   ],
   "source": [
    "nums2.ndim, nums2.size"
   ]
  },
  {
   "cell_type": "markdown",
   "id": "2b223f98-6f1e-45b2-8c38-6afa7625578e",
   "metadata": {},
   "source": [
    "### numpy 배열 구조 변경\n",
    "* reshape"
   ]
  },
  {
   "cell_type": "code",
   "execution_count": 20,
   "id": "8173993d-11cb-4792-8c11-508b937807a7",
   "metadata": {},
   "outputs": [
    {
     "data": {
      "text/plain": [
       "((2, 4), dtype('int64'))"
      ]
     },
     "execution_count": 20,
     "metadata": {},
     "output_type": "execute_result"
    }
   ],
   "source": [
    "nums3 = np.array([[1,2,3,4],[5,6,7,8]])\n",
    "nums3.shape, nums3.dtype"
   ]
  },
  {
   "cell_type": "code",
   "execution_count": 22,
   "id": "8095e1d1-67d2-403a-82b4-271bca9aef12",
   "metadata": {},
   "outputs": [
    {
     "data": {
      "text/plain": [
       "(8,)"
      ]
     },
     "execution_count": 22,
     "metadata": {},
     "output_type": "execute_result"
    }
   ],
   "source": [
    "# 2차원 행렬을 1차원으로 변경\n",
    "nums3b = nums3.reshape(-1,)\n",
    "nums3b.shape"
   ]
  },
  {
   "cell_type": "code",
   "execution_count": 24,
   "id": "f9d2c57b-5fec-45b0-aed8-eee582954ea7",
   "metadata": {},
   "outputs": [
    {
     "data": {
      "text/plain": [
       "array([[1, 2],\n",
       "       [3, 4],\n",
       "       [5, 6],\n",
       "       [7, 8]])"
      ]
     },
     "execution_count": 24,
     "metadata": {},
     "output_type": "execute_result"
    }
   ],
   "source": [
    "# 1차원 행렬을 2차원으로 변경\n",
    "nums3c = nums3b.reshape(4,2)\n",
    "nums3c"
   ]
  },
  {
   "cell_type": "markdown",
   "id": "e37b6e91-388e-4e05-aa55-034f79f76157",
   "metadata": {},
   "source": [
    "#### 1차원 구조로 변경 : flatten"
   ]
  },
  {
   "cell_type": "code",
   "execution_count": 28,
   "id": "2ae28f39-e301-45e1-b647-5b7a421873fb",
   "metadata": {},
   "outputs": [
    {
     "data": {
      "text/plain": [
       "array([1, 2, 3, 4, 5, 6, 7, 8])"
      ]
     },
     "execution_count": 28,
     "metadata": {},
     "output_type": "execute_result"
    }
   ],
   "source": [
    "num3d = nums3c.flatten()\n",
    "num3d"
   ]
  },
  {
   "cell_type": "markdown",
   "id": "d643a360-a6b2-4d9f-9db1-d874bc95aced",
   "metadata": {},
   "source": [
    "### numpy 인덱싱\n",
    "* 배열의 각 요소를 지정하는 동생\n",
    "* 객체명[행, 열]"
   ]
  },
  {
   "cell_type": "code",
   "execution_count": 41,
   "id": "c45c5cec-d56f-4269-9bd9-601dd17cd1ea",
   "metadata": {},
   "outputs": [],
   "source": [
    "nums = np.array([1,2,3,4,5,6,7,8,9])"
   ]
  },
  {
   "cell_type": "code",
   "execution_count": 42,
   "id": "ea8bf161-0414-446a-94e3-ede80964f7e6",
   "metadata": {},
   "outputs": [
    {
     "data": {
      "text/plain": [
       "(1, 5)"
      ]
     },
     "execution_count": 42,
     "metadata": {},
     "output_type": "execute_result"
    }
   ],
   "source": [
    "nums[0], nums[4]"
   ]
  },
  {
   "cell_type": "code",
   "execution_count": 49,
   "id": "7661e9c8-b678-4724-9615-8bd3f57afa04",
   "metadata": {},
   "outputs": [],
   "source": [
    "nums2 = np.array([[1,2,3,4], [5,6,7,8]])"
   ]
  },
  {
   "cell_type": "code",
   "execution_count": 50,
   "id": "279b9a39-4118-4a52-80bd-4f392c87b40b",
   "metadata": {},
   "outputs": [
    {
     "data": {
      "text/plain": [
       "(1, 5)"
      ]
     },
     "execution_count": 50,
     "metadata": {},
     "output_type": "execute_result"
    }
   ],
   "source": [
    "nums2[0,0], nums2[1,0]"
   ]
  },
  {
   "cell_type": "markdown",
   "id": "3982ed7d-5cda-4ff3-8694-74d94666c6fc",
   "metadata": {},
   "source": [
    "### numpy 슬라이싱\n",
    "* 배열의 요소들 중 부분적으로 나눠 지정하는 방식\n",
    "* 객체명[시작:끝, 시작:끝]"
   ]
  },
  {
   "cell_type": "code",
   "execution_count": 52,
   "id": "3c46125c-9689-40ba-a2aa-043b48462113",
   "metadata": {},
   "outputs": [
    {
     "data": {
      "text/plain": [
       "array([1, 2, 3, 4])"
      ]
     },
     "execution_count": 52,
     "metadata": {},
     "output_type": "execute_result"
    }
   ],
   "source": [
    "# 1행만 지정\n",
    "nums2[0, :]"
   ]
  },
  {
   "cell_type": "code",
   "execution_count": 53,
   "id": "d183f962-3d1a-4845-a6a0-9738fd74466e",
   "metadata": {},
   "outputs": [
    {
     "data": {
      "text/plain": [
       "array([3, 7])"
      ]
     },
     "execution_count": 53,
     "metadata": {},
     "output_type": "execute_result"
    }
   ],
   "source": [
    "# 3열만 지정\n",
    "nums2[:, 2]"
   ]
  },
  {
   "cell_type": "code",
   "execution_count": 54,
   "id": "d98e10e7-a768-4c4b-a7d4-1f0d74887ef4",
   "metadata": {},
   "outputs": [
    {
     "data": {
      "text/plain": [
       "array([7, 8])"
      ]
     },
     "execution_count": 54,
     "metadata": {},
     "output_type": "execute_result"
    }
   ],
   "source": [
    "# 2행의 3, 4열만 지정\n",
    "nums2[1, 2:4]"
   ]
  },
  {
   "cell_type": "markdown",
   "id": "4ba2a769-d947-415b-add6-6efdbdcde62a",
   "metadata": {},
   "source": [
    "### 배열생성 함수\n",
    "* arange(시작, 마지막-1, 증가)\n",
    "* linspace(시작, 마지막, 갯수)"
   ]
  },
  {
   "cell_type": "code",
   "execution_count": 46,
   "id": "1ab96fc9-1f2c-4f31-9965-ce690f535792",
   "metadata": {},
   "outputs": [
    {
     "data": {
      "text/plain": [
       "array([0, 1, 2, 3, 4, 5, 6, 7, 8, 9])"
      ]
     },
     "execution_count": 46,
     "metadata": {},
     "output_type": "execute_result"
    }
   ],
   "source": [
    "np.arange(10)"
   ]
  },
  {
   "cell_type": "code",
   "execution_count": 47,
   "id": "191e1dcf-4aae-4975-91fe-48bb8e1df486",
   "metadata": {},
   "outputs": [
    {
     "data": {
      "text/plain": [
       "array([-5, -4, -3, -2, -1,  0,  1,  2,  3,  4])"
      ]
     },
     "execution_count": 47,
     "metadata": {},
     "output_type": "execute_result"
    }
   ],
   "source": [
    "np.arange(-5, 5)"
   ]
  },
  {
   "cell_type": "code",
   "execution_count": 48,
   "id": "f72e580c-82d0-4f4f-a380-1bef31a6e968",
   "metadata": {},
   "outputs": [
    {
     "data": {
      "text/plain": [
       "array([0. , 0.5, 1. , 1.5, 2. , 2.5, 3. , 3.5, 4. , 4.5, 5. , 5.5, 6. ,\n",
       "       6.5, 7. , 7.5, 8. , 8.5, 9. , 9.5])"
      ]
     },
     "execution_count": 48,
     "metadata": {},
     "output_type": "execute_result"
    }
   ],
   "source": [
    "np.arange(0, 10, 0.5)"
   ]
  },
  {
   "cell_type": "code",
   "execution_count": 220,
   "id": "56e58bdf-bd7e-4ebd-b34b-9d5e0623bd8e",
   "metadata": {},
   "outputs": [
    {
     "data": {
      "text/plain": [
       "array([ 1.,  2.,  3.,  4.,  5.,  6.,  7.,  8.,  9., 10.])"
      ]
     },
     "execution_count": 220,
     "metadata": {},
     "output_type": "execute_result"
    }
   ],
   "source": [
    "np.linspace(1, 10, 10)"
   ]
  },
  {
   "cell_type": "code",
   "execution_count": 221,
   "id": "4e432e93-c7b2-4ab8-af88-96f09f9b1965",
   "metadata": {},
   "outputs": [
    {
     "data": {
      "text/plain": [
       "array([ 1.        ,  1.47368421,  1.94736842,  2.42105263,  2.89473684,\n",
       "        3.36842105,  3.84210526,  4.31578947,  4.78947368,  5.26315789,\n",
       "        5.73684211,  6.21052632,  6.68421053,  7.15789474,  7.63157895,\n",
       "        8.10526316,  8.57894737,  9.05263158,  9.52631579, 10.        ])"
      ]
     },
     "execution_count": 221,
     "metadata": {},
     "output_type": "execute_result"
    }
   ],
   "source": [
    "np.linspace(1, 10, 20)"
   ]
  },
  {
   "cell_type": "code",
   "execution_count": 222,
   "id": "435d3730-9ead-4769-895c-f7cb27b41dfd",
   "metadata": {},
   "outputs": [
    {
     "data": {
      "text/plain": [
       "array([ 0.5,  1. ,  1.5,  2. ,  2.5,  3. ,  3.5,  4. ,  4.5,  5. ,  5.5,\n",
       "        6. ,  6.5,  7. ,  7.5,  8. ,  8.5,  9. ,  9.5, 10. ])"
      ]
     },
     "execution_count": 222,
     "metadata": {},
     "output_type": "execute_result"
    }
   ],
   "source": [
    "np.linspace(0.5, 10, 20)"
   ]
  },
  {
   "cell_type": "markdown",
   "id": "b8b09129-c130-4cda-b8dd-3da3ae5903a0",
   "metadata": {},
   "source": [
    "### 특정값으로 구성된 배열 만들기\n",
    "* ones : 1로만 구성된 배열\n",
    "* zeros : 0으로만 구성된 배열\n",
    "* empty : 메모리 공간 확보후 배열 반환"
   ]
  },
  {
   "cell_type": "code",
   "execution_count": 56,
   "id": "586e5ecd-2a91-47c7-a630-a24ceff8c2bb",
   "metadata": {},
   "outputs": [
    {
     "data": {
      "text/plain": [
       "array([[1, 1, 1],\n",
       "       [1, 1, 1],\n",
       "       [1, 1, 1],\n",
       "       [1, 1, 1],\n",
       "       [1, 1, 1]], dtype=int8)"
      ]
     },
     "execution_count": 56,
     "metadata": {},
     "output_type": "execute_result"
    }
   ],
   "source": [
    "np.ones(shape=(5, 3), dtype=np.int8)"
   ]
  },
  {
   "cell_type": "code",
   "execution_count": 57,
   "id": "d198d5e1-d017-48ee-b69b-b0dfae0f0ac9",
   "metadata": {},
   "outputs": [
    {
     "data": {
      "text/plain": [
       "array([[0, 0, 0],\n",
       "       [0, 0, 0],\n",
       "       [0, 0, 0],\n",
       "       [0, 0, 0],\n",
       "       [0, 0, 0]], dtype=int8)"
      ]
     },
     "execution_count": 57,
     "metadata": {},
     "output_type": "execute_result"
    }
   ],
   "source": [
    "np.zeros(shape=(5, 3), dtype=np.int8)"
   ]
  },
  {
   "cell_type": "code",
   "execution_count": 72,
   "id": "5c97de4b-7793-45a5-a897-9d5dc660b2c8",
   "metadata": {},
   "outputs": [
    {
     "data": {
      "text/plain": [
       "array([[83, 53, 87],\n",
       "       [88,  5,  0],\n",
       "       [ 0,  0,  0],\n",
       "       [ 0,  0,  0],\n",
       "       [ 0,  0,  0]], dtype=int8)"
      ]
     },
     "execution_count": 72,
     "metadata": {},
     "output_type": "execute_result"
    }
   ],
   "source": [
    "# 랜덤한 값들이 들어가 있음 -> 그냥 자리 채우기용?\n",
    "np.empty(shape=(5, 3), dtype=np.int8)"
   ]
  },
  {
   "cell_type": "markdown",
   "id": "e213de14-5d48-4692-b3c1-f9c54cad63f0",
   "metadata": {},
   "source": [
    "### 통계 분포함수 다루기\n",
    "* 난수생성 : random 모듈 이용\n",
    "* 정규분포를 따르는 난수 생성 : normal(평균,표준편차,갯수)\n",
    "* 균등분포를 따르는 난수 생성 : uniform(시작,끝,갯수)\n",
    "* 임의의 정수 난수 생성 : randint(시작,끝,갯수)"
   ]
  },
  {
   "cell_type": "code",
   "execution_count": 73,
   "id": "67a67d46-24c1-49a2-9b78-04464e4ec68b",
   "metadata": {},
   "outputs": [],
   "source": [
    "# 난수 생성전 시드값 설정\n",
    "np.random.seed(2309081445)"
   ]
  },
  {
   "cell_type": "code",
   "execution_count": 74,
   "id": "680e640a-cbe0-485f-99f5-dff292030405",
   "metadata": {},
   "outputs": [
    {
     "data": {
      "text/plain": [
       "array([2.82937935, 3.66045438, 4.16329972, 2.9393755 , 1.51906392,\n",
       "       0.16022914, 0.71736871, 1.24848411, 2.59987539, 0.03172445])"
      ]
     },
     "execution_count": 74,
     "metadata": {},
     "output_type": "execute_result"
    }
   ],
   "source": [
    "# 균등분포 : 모든 확률변수에 대해 균일한 확률값을 가지는 분포형태\n",
    "np.random.uniform(0, 5, 10)\n",
    "# 범위가 0에서 5사이\n",
    "# 10개의 균등분포를 따르는 임의의 수가 만들어짐"
   ]
  },
  {
   "cell_type": "code",
   "execution_count": 75,
   "id": "103afae0-2805-493e-a237-f70b27df50b2",
   "metadata": {},
   "outputs": [
    {
     "data": {
      "text/plain": [
       "array([11.27025317,  1.96331374, -1.97450957, -5.55351531, -0.05032507,\n",
       "        5.60572769, -2.49469196,  1.63449318, -3.60394016, -4.37462102])"
      ]
     },
     "execution_count": 75,
     "metadata": {},
     "output_type": "execute_result"
    }
   ],
   "source": [
    "# 정규분포\n",
    "np.random.normal(0, 5, 10)\\\n",
    "# 평균이 0이고, 분산이 5인 난수 10개\n",
    "# 벗어난 값들도 보이지만 거의 대부분은 범위 내의 값들이 나옴"
   ]
  },
  {
   "cell_type": "code",
   "execution_count": 76,
   "id": "7670f598-8b55-4004-ab2c-bb6d6a757fad",
   "metadata": {},
   "outputs": [
    {
     "data": {
      "text/plain": [
       "array([-0.84966882, -2.01966132, -0.05843206,  0.25266574, -0.38997216,\n",
       "        0.2782042 ,  0.28015555, -0.24515287,  0.0060408 ,  0.30149393])"
      ]
     },
     "execution_count": 76,
     "metadata": {},
     "output_type": "execute_result"
    }
   ],
   "source": [
    "# 표준정규분포 : 평균 0, 표준편차 1로 한정\n",
    "np.random.randn(10)"
   ]
  },
  {
   "cell_type": "code",
   "execution_count": 112,
   "id": "fc503135-94ef-43f9-aef4-34625fcc87aa",
   "metadata": {},
   "outputs": [
    {
     "data": {
      "text/plain": [
       "array([[38, 31, 25, 15,  7, 43],\n",
       "       [15, 25, 31, 30, 34, 31],\n",
       "       [ 2, 40, 35,  8, 43, 13],\n",
       "       [32,  6,  1, 32, 25,  9],\n",
       "       [ 8, 38, 11, 15,  8, 37]])"
      ]
     },
     "execution_count": 112,
     "metadata": {},
     "output_type": "execute_result"
    }
   ],
   "source": [
    "# 임의의 정수 난수\n",
    "np.random.randint(1, 45+1, (5,6))\n",
    "# 1부터 45까지만 하면 45가 안나와서 +1을 해줌 / 5행 6열로 만들어줌"
   ]
  },
  {
   "cell_type": "markdown",
   "id": "1e6db54d-bcab-42d8-844f-fd9ad004d73c",
   "metadata": {},
   "source": [
    "### numpy 배열 난수 다루기\n",
    "* shuffle : 데이터 섞기\n",
    "* choice : 무작위 표본 추출, replace 여부에 따라 복원/비복원 추출"
   ]
  },
  {
   "cell_type": "code",
   "execution_count": 151,
   "id": "2c685463-f025-4f1d-a856-db60bc647bf0",
   "metadata": {},
   "outputs": [
    {
     "data": {
      "text/plain": [
       "array([ 1,  2,  3,  4,  5,  6,  7,  8,  9, 10])"
      ]
     },
     "execution_count": 151,
     "metadata": {},
     "output_type": "execute_result"
    }
   ],
   "source": [
    "nums = np.arange(1, 10+1)\n",
    "nums"
   ]
  },
  {
   "cell_type": "code",
   "execution_count": 152,
   "id": "2f94c64f-fbde-42d6-8771-33f96a7e941f",
   "metadata": {},
   "outputs": [
    {
     "data": {
      "text/plain": [
       "array([10,  3,  1,  4,  7,  2,  8,  6,  5,  9])"
      ]
     },
     "execution_count": 152,
     "metadata": {},
     "output_type": "execute_result"
    }
   ],
   "source": [
    "np.random.shuffle(nums)\n",
    "nums"
   ]
  },
  {
   "cell_type": "code",
   "execution_count": 172,
   "id": "1fbf4b55-1b77-47c2-95b2-a946ddcb3fe1",
   "metadata": {},
   "outputs": [
    {
     "data": {
      "text/plain": [
       "array([8, 5, 9, 9, 8])"
      ]
     },
     "execution_count": 172,
     "metadata": {},
     "output_type": "execute_result"
    }
   ],
   "source": [
    "# 복원 추출 : 10개 중 5개를 뽑을 때 중복 허용\n",
    "np.random.choice(nums, size=5)\n",
    "# 흰구슬 10개 빨간구슬 10개가 한 바구니에 있는데 뽑고 나서 구슬을 다시 넣고 뽑는 걸 복원추출"
   ]
  },
  {
   "cell_type": "code",
   "execution_count": 173,
   "id": "b385b8be-4d27-4911-a7f8-53b8172be651",
   "metadata": {},
   "outputs": [
    {
     "data": {
      "text/plain": [
       "array([4, 1, 5, 2, 6])"
      ]
     },
     "execution_count": 173,
     "metadata": {},
     "output_type": "execute_result"
    }
   ],
   "source": [
    "# 비복원 추출 : 10개 중 5개를 뽑을 떄 중복 허용 x\n",
    "np.random.choice(nums, size=5, replace=False)\n",
    "# 흰구슬 10개 빨간구슬 10개가 한 바구니에 있는데 뽑고 나서 구슬을 빼놓고 뽑는 걸 비복원추출"
   ]
  },
  {
   "cell_type": "markdown",
   "id": "fc151592-9840-4bb1-a255-251280b8264a",
   "metadata": {},
   "source": [
    "### 통계함수 다루기\n",
    "* mean\n",
    "* median\n",
    "* std, var\n",
    "* sum, min, max\n",
    "* percentile"
   ]
  },
  {
   "cell_type": "code",
   "execution_count": 161,
   "id": "c7ecd01e-016e-4095-ac88-cc8d05df7efd",
   "metadata": {},
   "outputs": [
    {
     "data": {
      "text/plain": [
       "array([ 1,  2,  3,  4,  5,  6,  7,  8,  9, 10])"
      ]
     },
     "execution_count": 161,
     "metadata": {},
     "output_type": "execute_result"
    }
   ],
   "source": [
    "nums = np.arange(1, 10+1)\n",
    "nums"
   ]
  },
  {
   "cell_type": "code",
   "execution_count": 162,
   "id": "e8664615-e059-4ee3-8a8b-1f48eb6f6ae2",
   "metadata": {},
   "outputs": [
    {
     "data": {
      "text/plain": [
       "5.5"
      ]
     },
     "execution_count": 162,
     "metadata": {},
     "output_type": "execute_result"
    }
   ],
   "source": [
    "np.mean(nums)"
   ]
  },
  {
   "cell_type": "code",
   "execution_count": 163,
   "id": "11aefbcc-69e0-4322-952f-3b3571c98413",
   "metadata": {},
   "outputs": [
    {
     "data": {
      "text/plain": [
       "5.5"
      ]
     },
     "execution_count": 163,
     "metadata": {},
     "output_type": "execute_result"
    }
   ],
   "source": [
    "np.median(nums)"
   ]
  },
  {
   "cell_type": "code",
   "execution_count": 165,
   "id": "1ad8313e-7100-47ec-ba8f-94fecb41c327",
   "metadata": {},
   "outputs": [
    {
     "data": {
      "text/plain": [
       "(2.8722813232690143, 8.25)"
      ]
     },
     "execution_count": 165,
     "metadata": {},
     "output_type": "execute_result"
    }
   ],
   "source": [
    "np.std(nums), np.var(nums)"
   ]
  },
  {
   "cell_type": "code",
   "execution_count": 166,
   "id": "b349e648-fbea-4872-a600-3ae582263584",
   "metadata": {},
   "outputs": [
    {
     "data": {
      "text/plain": [
       "(55, 1, 10)"
      ]
     },
     "execution_count": 166,
     "metadata": {},
     "output_type": "execute_result"
    }
   ],
   "source": [
    "np.sum(nums), np.min(nums), np.max(nums)"
   ]
  },
  {
   "cell_type": "code",
   "execution_count": 170,
   "id": "92a768e9-9ea8-49f4-904b-36662e6ecb7d",
   "metadata": {},
   "outputs": [
    {
     "data": {
      "text/plain": [
       "(1.0, 3.25, 5.5, 7.75, 10.0)"
      ]
     },
     "execution_count": 170,
     "metadata": {},
     "output_type": "execute_result"
    }
   ],
   "source": [
    "np.percentile(nums, 0), np.percentile(nums, 25), \\\n",
    "np.percentile(nums, 50), np.percentile(nums, 75), \\\n",
    "np.percentile(nums, 100)\n",
    "\n",
    "# 1사분위, 2사분위, 3사분위, 4사분위"
   ]
  },
  {
   "cell_type": "markdown",
   "id": "69f46cb7-a2b1-4360-89b4-bef615e78c43",
   "metadata": {},
   "source": [
    "### numpy 배열 기타 함수\n",
    "* sort\n",
    "* unique"
   ]
  },
  {
   "cell_type": "code",
   "execution_count": 182,
   "id": "388194fb-d706-4ecc-9fed-198f1dea95a5",
   "metadata": {},
   "outputs": [
    {
     "data": {
      "text/plain": [
       "(array([41, 42, 36, 32, 43, 39]), array([32, 36, 39, 41, 42, 43]))"
      ]
     },
     "execution_count": 182,
     "metadata": {},
     "output_type": "execute_result"
    }
   ],
   "source": [
    "lotto = np.random.randint(1, 45+1, 6)\n",
    "lotto, np.sort(lotto)"
   ]
  },
  {
   "cell_type": "code",
   "execution_count": 183,
   "id": "0be497b7-f3bf-44a7-95b8-b6e15a96ba14",
   "metadata": {},
   "outputs": [
    {
     "data": {
      "text/plain": [
       "(array([37, 38,  9, 23,  2, 24]), array([ 2,  9, 23, 24, 37, 38]))"
      ]
     },
     "execution_count": 183,
     "metadata": {},
     "output_type": "execute_result"
    }
   ],
   "source": [
    "lotto = np.random.randint(1, 45+1, 6)\n",
    "lotto, np.unique(lotto)"
   ]
  },
  {
   "cell_type": "markdown",
   "id": "769fb148-7895-4784-937d-3860e148453d",
   "metadata": {},
   "source": [
    "### numpy 연결함수\n",
    "* vstack\n",
    "* hstack"
   ]
  },
  {
   "cell_type": "code",
   "execution_count": 196,
   "id": "3b3f0841-8cc7-46b0-afbb-0e8da5a63e1a",
   "metadata": {},
   "outputs": [
    {
     "data": {
      "text/plain": [
       "(array([1, 2, 3, 4, 5, 6, 7, 8, 9]),\n",
       " array([11, 12, 13, 14, 15, 16, 17, 18, 19]))"
      ]
     },
     "execution_count": 196,
     "metadata": {},
     "output_type": "execute_result"
    }
   ],
   "source": [
    "nums1 = np.arange(1,10)\n",
    "nums2 = np.arange(11,20)\n",
    "nums1,nums2"
   ]
  },
  {
   "cell_type": "code",
   "execution_count": 197,
   "id": "4b9fa6e3-da89-41a9-aa5f-39b9083bb8ca",
   "metadata": {},
   "outputs": [
    {
     "data": {
      "text/plain": [
       "array([[ 1,  2,  3,  4,  5,  6,  7,  8,  9],\n",
       "       [11, 12, 13, 14, 15, 16, 17, 18, 19]])"
      ]
     },
     "execution_count": 197,
     "metadata": {},
     "output_type": "execute_result"
    }
   ],
   "source": [
    "np.vstack((nums1, nums2))"
   ]
  },
  {
   "cell_type": "code",
   "execution_count": 198,
   "id": "247c0316-ba62-4111-92c4-9f701cff9234",
   "metadata": {},
   "outputs": [
    {
     "data": {
      "text/plain": [
       "array([ 1,  2,  3,  4,  5,  6,  7,  8,  9, 11, 12, 13, 14, 15, 16, 17, 18,\n",
       "       19])"
      ]
     },
     "execution_count": 198,
     "metadata": {},
     "output_type": "execute_result"
    }
   ],
   "source": [
    "np.hstack((nums1, nums2))"
   ]
  },
  {
   "cell_type": "code",
   "execution_count": 199,
   "id": "8fab0f3e-8197-4f82-afef-628fe3c0f176",
   "metadata": {
    "collapsed": true,
    "jupyter": {
     "outputs_hidden": true
    }
   },
   "outputs": [
    {
     "data": {
      "text/plain": [
       "array([[1],\n",
       "       [2],\n",
       "       [3],\n",
       "       [4],\n",
       "       [5],\n",
       "       [6],\n",
       "       [7],\n",
       "       [8],\n",
       "       [9]])"
      ]
     },
     "execution_count": 199,
     "metadata": {},
     "output_type": "execute_result"
    }
   ],
   "source": [
    "nums1b = nums1.reshape(9, 1)\n",
    "nums1b"
   ]
  },
  {
   "cell_type": "code",
   "execution_count": 200,
   "id": "fbb69ec8-338b-4c94-856b-f64fa81f7e26",
   "metadata": {
    "collapsed": true,
    "jupyter": {
     "outputs_hidden": true
    }
   },
   "outputs": [
    {
     "data": {
      "text/plain": [
       "array([[1],\n",
       "       [2],\n",
       "       [3],\n",
       "       [4],\n",
       "       [5],\n",
       "       [6],\n",
       "       [7],\n",
       "       [8],\n",
       "       [9]])"
      ]
     },
     "execution_count": 200,
     "metadata": {},
     "output_type": "execute_result"
    }
   ],
   "source": [
    "# -1 : 열 갯수에 따라 행의 갯수를 자동으로 설정\n",
    "nums2b = nums1.reshape(-1, 1)\n",
    "nums2b"
   ]
  },
  {
   "cell_type": "markdown",
   "id": "c22d3c07-854e-40a5-adb0-7e5c24e46af0",
   "metadata": {},
   "source": [
    "### numpy 연산\n",
    "* 행렬 내적 : dot\n",
    "* 브로드캐스팅 : 행렬과 스칼라, 행렬과 벡터, 벡터와 벡터간 연산시 발생\n",
    "* 블리언 연산"
   ]
  },
  {
   "cell_type": "code",
   "execution_count": 202,
   "id": "fa93b716-97ec-47ad-b930-54af45103d42",
   "metadata": {},
   "outputs": [
    {
     "data": {
      "text/plain": [
       "(array([ 4, 10, 18]), array([5, 7, 9]))"
      ]
     },
     "execution_count": 202,
     "metadata": {},
     "output_type": "execute_result"
    }
   ],
   "source": [
    "x = np.array([1,2,3])\n",
    "y = np.array([4,5,6])\n",
    "x * y, x + y"
   ]
  },
  {
   "cell_type": "code",
   "execution_count": 203,
   "id": "a4ed7ac9-4dce-4788-83ee-2eedc2fa8ddc",
   "metadata": {},
   "outputs": [
    {
     "data": {
      "text/plain": [
       "array([[19, 22],\n",
       "       [43, 50]])"
      ]
     },
     "execution_count": 203,
     "metadata": {},
     "output_type": "execute_result"
    }
   ],
   "source": [
    "x = np.array([[1,2], [3,4]])\n",
    "y = np.array([[5,6], [7,8]])\n",
    "np.dot(x,y)"
   ]
  },
  {
   "cell_type": "code",
   "execution_count": 204,
   "id": "21150ef8-0866-4739-8f9e-52b445185139",
   "metadata": {},
   "outputs": [
    {
     "data": {
      "text/plain": [
       "array([3, 6, 9])"
      ]
     },
     "execution_count": 204,
     "metadata": {},
     "output_type": "execute_result"
    }
   ],
   "source": [
    "x = np.array([1,2,3])\n",
    "x * 3"
   ]
  },
  {
   "cell_type": "code",
   "execution_count": 205,
   "id": "04a9752d-5418-439e-84a3-e80a9464a228",
   "metadata": {},
   "outputs": [
    {
     "data": {
      "text/plain": [
       "(array([1, 2, 3]),\n",
       " array([[4],\n",
       "        [5],\n",
       "        [6]]),\n",
       " array([[5, 6, 7],\n",
       "        [6, 7, 8],\n",
       "        [7, 8, 9]]))"
      ]
     },
     "execution_count": 205,
     "metadata": {},
     "output_type": "execute_result"
    }
   ],
   "source": [
    "x = np.array([1,2,3])\n",
    "y = np.array([4,5,6]).reshape(-1, 1)\n",
    "x, y, x + y"
   ]
  },
  {
   "cell_type": "code",
   "execution_count": 208,
   "id": "6ad52407-f468-4c60-9a17-17dc3079a74f",
   "metadata": {},
   "outputs": [
    {
     "data": {
      "text/plain": [
       "array([False, False, False])"
      ]
     },
     "execution_count": 208,
     "metadata": {},
     "output_type": "execute_result"
    }
   ],
   "source": [
    "x = np.array([1,2,3])\n",
    "x > 3"
   ]
  },
  {
   "cell_type": "code",
   "execution_count": 210,
   "id": "0dc0fd26-aa8b-4a66-a8b8-4a2c3c8608ba",
   "metadata": {},
   "outputs": [
    {
     "data": {
      "text/plain": [
       "array([False, False, False])"
      ]
     },
     "execution_count": 210,
     "metadata": {},
     "output_type": "execute_result"
    }
   ],
   "source": [
    "x = np.array([1,2,3])\n",
    "y = np.array([4,5,6])\n",
    "x > y"
   ]
  },
  {
   "cell_type": "markdown",
   "id": "c6c25607-bc10-4ba0-b01a-d7a1fabf315b",
   "metadata": {},
   "source": [
    "### 인덱스 반환함수\n",
    "* where\n",
    "* argsort, argmax, argmin"
   ]
  },
  {
   "cell_type": "code",
   "execution_count": 211,
   "id": "e62397cb-1529-4dba-8a34-3d30b2d6cd9b",
   "metadata": {},
   "outputs": [
    {
     "data": {
      "text/plain": [
       "array([False, False, False, False, False,  True,  True,  True,  True])"
      ]
     },
     "execution_count": 211,
     "metadata": {},
     "output_type": "execute_result"
    }
   ],
   "source": [
    "x = np.arange(1, 10)\n",
    "x > 5"
   ]
  },
  {
   "cell_type": "code",
   "execution_count": 212,
   "id": "b293d5b4-0b55-403e-87fe-8025811b8846",
   "metadata": {},
   "outputs": [
    {
     "data": {
      "text/plain": [
       "(array([5, 6, 7, 8]),)"
      ]
     },
     "execution_count": 212,
     "metadata": {},
     "output_type": "execute_result"
    }
   ],
   "source": [
    "np.where(x > 5)"
   ]
  },
  {
   "cell_type": "code",
   "execution_count": 213,
   "id": "6f8f36ab-5ed1-4d33-81b9-0f7e376a0f50",
   "metadata": {},
   "outputs": [
    {
     "name": "stdout",
     "output_type": "stream",
     "text": [
      "[6 7 8 9]\n"
     ]
    }
   ],
   "source": [
    "for idx in np.where(x > 5):\n",
    "    print(x[idx])"
   ]
  },
  {
   "cell_type": "code",
   "execution_count": 214,
   "id": "2b06211a-c662-492a-b507-9ecb6e2c6f91",
   "metadata": {},
   "outputs": [
    {
     "data": {
      "text/plain": [
       "array(['no', 'no', 'no', 'no', 'no', 'yes', 'yes', 'yes', 'yes'],\n",
       "      dtype='<U3')"
      ]
     },
     "execution_count": 214,
     "metadata": {},
     "output_type": "execute_result"
    }
   ],
   "source": [
    "np.where(x > 5, 'yes', 'no')"
   ]
  },
  {
   "cell_type": "code",
   "execution_count": 216,
   "id": "848026b9-017c-42fe-ba49-ea1727d7d93e",
   "metadata": {},
   "outputs": [
    {
     "data": {
      "text/plain": [
       "(8, 9)"
      ]
     },
     "execution_count": 216,
     "metadata": {},
     "output_type": "execute_result"
    }
   ],
   "source": [
    "np.argmax(x), x[np.argmax(x)]"
   ]
  },
  {
   "cell_type": "code",
   "execution_count": 217,
   "id": "07548019-5488-4891-b3cb-b3305c358edd",
   "metadata": {},
   "outputs": [
    {
     "data": {
      "text/plain": [
       "(0, 1)"
      ]
     },
     "execution_count": 217,
     "metadata": {},
     "output_type": "execute_result"
    }
   ],
   "source": [
    "np.argmin(x), x[np.argmin(x)]"
   ]
  },
  {
   "cell_type": "code",
   "execution_count": 218,
   "id": "debdabf9-6839-496d-a5ac-dd495bf6b36e",
   "metadata": {},
   "outputs": [
    {
     "data": {
      "text/plain": [
       "array([2, 8, 4, 5, 6, 9, 1, 7, 3])"
      ]
     },
     "execution_count": 218,
     "metadata": {},
     "output_type": "execute_result"
    }
   ],
   "source": [
    "np.random.shuffle(x)\n",
    "x"
   ]
  },
  {
   "cell_type": "code",
   "execution_count": 219,
   "id": "d92466cb-d142-4e80-921b-76afac60b47b",
   "metadata": {},
   "outputs": [
    {
     "data": {
      "text/plain": [
       "array([6, 0, 8, 2, 3, 4, 7, 1, 5])"
      ]
     },
     "execution_count": 219,
     "metadata": {},
     "output_type": "execute_result"
    }
   ],
   "source": [
    "np.argsort(x)"
   ]
  },
  {
   "cell_type": "code",
   "execution_count": null,
   "id": "d67dae55-6809-4fb4-954b-818d888b2425",
   "metadata": {},
   "outputs": [],
   "source": []
  },
  {
   "cell_type": "code",
   "execution_count": null,
   "id": "e1f8d242-6d9f-4114-bb0a-f2145180b9fa",
   "metadata": {},
   "outputs": [],
   "source": []
  },
  {
   "cell_type": "code",
   "execution_count": null,
   "id": "ce0ee517-890a-431b-a3bc-b6412e148201",
   "metadata": {},
   "outputs": [],
   "source": []
  }
 ],
 "metadata": {
  "kernelspec": {
   "display_name": "Python 3 (ipykernel)",
   "language": "python",
   "name": "python3"
  },
  "language_info": {
   "codemirror_mode": {
    "name": "ipython",
    "version": 3
   },
   "file_extension": ".py",
   "mimetype": "text/x-python",
   "name": "python",
   "nbconvert_exporter": "python",
   "pygments_lexer": "ipython3",
   "version": "3.11.4"
  }
 },
 "nbformat": 4,
 "nbformat_minor": 5
}

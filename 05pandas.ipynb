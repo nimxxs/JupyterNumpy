{
 "cells": [
  {
   "cell_type": "code",
   "execution_count": 2,
   "id": "ce233148-cff0-4f8d-88c0-bc3c039fda01",
   "metadata": {},
   "outputs": [],
   "source": [
    "import numpy as np\n",
    "import pandas as pd"
   ]
  },
  {
   "cell_type": "code",
   "execution_count": 3,
   "id": "ab1d01b5-9fb3-40a4-9c88-0aa3e73d8ff2",
   "metadata": {},
   "outputs": [],
   "source": [
    "pd.set_option('display.max_columns', 50)\n",
    "pd.set_option('display.width', 100)\n",
    "pd.set_option('display.max_colwidth', 250)"
   ]
  },
  {
   "cell_type": "markdown",
   "id": "a61902a8-0967-488c-8710-f6d952188466",
   "metadata": {},
   "source": [
    "## pandas 데이터프레임 살펴보기\n",
    "* head, tail\n",
    "* info, shape, ndim, dtypes\n",
    "* describe, count, value_counts\n",
    "* sum, mean, median, min, max, std, corr"
   ]
  },
  {
   "cell_type": "code",
   "execution_count": 6,
   "id": "ef41e3e8-8580-4df1-860c-23877bab2b76",
   "metadata": {},
   "outputs": [],
   "source": [
    "emp = pd.read_csv('./data/employees.csv')\n",
    "emp.index = np.arange(1, len(emp.EMAIL)+1)"
   ]
  },
  {
   "cell_type": "code",
   "execution_count": 8,
   "id": "eae4c8c1-8932-4cf1-bb1b-1fd4412693ef",
   "metadata": {
    "collapsed": true,
    "jupyter": {
     "outputs_hidden": true
    }
   },
   "outputs": [
    {
     "data": {
      "text/html": [
       "<div>\n",
       "<style scoped>\n",
       "    .dataframe tbody tr th:only-of-type {\n",
       "        vertical-align: middle;\n",
       "    }\n",
       "\n",
       "    .dataframe tbody tr th {\n",
       "        vertical-align: top;\n",
       "    }\n",
       "\n",
       "    .dataframe thead th {\n",
       "        text-align: right;\n",
       "    }\n",
       "</style>\n",
       "<table border=\"1\" class=\"dataframe\">\n",
       "  <thead>\n",
       "    <tr style=\"text-align: right;\">\n",
       "      <th></th>\n",
       "      <th>EMPLOYEE_ID</th>\n",
       "      <th>FIRST_NAME</th>\n",
       "      <th>LAST_NAME</th>\n",
       "      <th>EMAIL</th>\n",
       "      <th>PHONE_NUMBER</th>\n",
       "      <th>HIRE_DATE</th>\n",
       "      <th>JOB_ID</th>\n",
       "      <th>SALARY</th>\n",
       "      <th>COMMISSION_PCT</th>\n",
       "      <th>MANAGER_ID</th>\n",
       "      <th>DEPARTMENT_ID</th>\n",
       "    </tr>\n",
       "  </thead>\n",
       "  <tbody>\n",
       "    <tr>\n",
       "      <th>1</th>\n",
       "      <td>100</td>\n",
       "      <td>Steven</td>\n",
       "      <td>King</td>\n",
       "      <td>SKING</td>\n",
       "      <td>515.123.4567</td>\n",
       "      <td>2003-06-17</td>\n",
       "      <td>AD_PRES</td>\n",
       "      <td>24000.0</td>\n",
       "      <td>NaN</td>\n",
       "      <td>NaN</td>\n",
       "      <td>90.0</td>\n",
       "    </tr>\n",
       "    <tr>\n",
       "      <th>2</th>\n",
       "      <td>101</td>\n",
       "      <td>Neena</td>\n",
       "      <td>Kochhar</td>\n",
       "      <td>NKOCHHAR</td>\n",
       "      <td>515.123.4568</td>\n",
       "      <td>2005-09-21</td>\n",
       "      <td>AD_VP</td>\n",
       "      <td>17000.0</td>\n",
       "      <td>NaN</td>\n",
       "      <td>100.0</td>\n",
       "      <td>90.0</td>\n",
       "    </tr>\n",
       "    <tr>\n",
       "      <th>3</th>\n",
       "      <td>102</td>\n",
       "      <td>Lex</td>\n",
       "      <td>De Haan</td>\n",
       "      <td>LDEHAAN</td>\n",
       "      <td>515.123.4569</td>\n",
       "      <td>2001-01-13</td>\n",
       "      <td>AD_VP</td>\n",
       "      <td>17000.0</td>\n",
       "      <td>NaN</td>\n",
       "      <td>100.0</td>\n",
       "      <td>90.0</td>\n",
       "    </tr>\n",
       "    <tr>\n",
       "      <th>4</th>\n",
       "      <td>103</td>\n",
       "      <td>Alexander</td>\n",
       "      <td>Hunold</td>\n",
       "      <td>AHUNOLD</td>\n",
       "      <td>590.423.4567</td>\n",
       "      <td>2006-01-03</td>\n",
       "      <td>IT_PROG</td>\n",
       "      <td>9000.0</td>\n",
       "      <td>NaN</td>\n",
       "      <td>102.0</td>\n",
       "      <td>60.0</td>\n",
       "    </tr>\n",
       "    <tr>\n",
       "      <th>5</th>\n",
       "      <td>104</td>\n",
       "      <td>Bruce</td>\n",
       "      <td>Ernst</td>\n",
       "      <td>BERNST</td>\n",
       "      <td>590.423.4568</td>\n",
       "      <td>2007-05-21</td>\n",
       "      <td>IT_PROG</td>\n",
       "      <td>6000.0</td>\n",
       "      <td>NaN</td>\n",
       "      <td>103.0</td>\n",
       "      <td>60.0</td>\n",
       "    </tr>\n",
       "  </tbody>\n",
       "</table>\n",
       "</div>"
      ],
      "text/plain": [
       "   EMPLOYEE_ID FIRST_NAME LAST_NAME     EMAIL  PHONE_NUMBER   HIRE_DATE   JOB_ID   SALARY  \\\n",
       "1          100     Steven      King     SKING  515.123.4567  2003-06-17  AD_PRES  24000.0   \n",
       "2          101      Neena   Kochhar  NKOCHHAR  515.123.4568  2005-09-21    AD_VP  17000.0   \n",
       "3          102        Lex   De Haan   LDEHAAN  515.123.4569  2001-01-13    AD_VP  17000.0   \n",
       "4          103  Alexander    Hunold   AHUNOLD  590.423.4567  2006-01-03  IT_PROG   9000.0   \n",
       "5          104      Bruce     Ernst    BERNST  590.423.4568  2007-05-21  IT_PROG   6000.0   \n",
       "\n",
       "   COMMISSION_PCT  MANAGER_ID  DEPARTMENT_ID  \n",
       "1             NaN         NaN           90.0  \n",
       "2             NaN       100.0           90.0  \n",
       "3             NaN       100.0           90.0  \n",
       "4             NaN       102.0           60.0  \n",
       "5             NaN       103.0           60.0  "
      ]
     },
     "execution_count": 8,
     "metadata": {},
     "output_type": "execute_result"
    }
   ],
   "source": [
    "# 상위 5개 행 출력\n",
    "emp.head()"
   ]
  },
  {
   "cell_type": "code",
   "execution_count": 9,
   "id": "51dbdda8-328b-455c-b7ca-4f3e8157457c",
   "metadata": {
    "collapsed": true,
    "jupyter": {
     "outputs_hidden": true
    }
   },
   "outputs": [
    {
     "data": {
      "text/html": [
       "<div>\n",
       "<style scoped>\n",
       "    .dataframe tbody tr th:only-of-type {\n",
       "        vertical-align: middle;\n",
       "    }\n",
       "\n",
       "    .dataframe tbody tr th {\n",
       "        vertical-align: top;\n",
       "    }\n",
       "\n",
       "    .dataframe thead th {\n",
       "        text-align: right;\n",
       "    }\n",
       "</style>\n",
       "<table border=\"1\" class=\"dataframe\">\n",
       "  <thead>\n",
       "    <tr style=\"text-align: right;\">\n",
       "      <th></th>\n",
       "      <th>EMPLOYEE_ID</th>\n",
       "      <th>FIRST_NAME</th>\n",
       "      <th>LAST_NAME</th>\n",
       "      <th>EMAIL</th>\n",
       "      <th>PHONE_NUMBER</th>\n",
       "      <th>HIRE_DATE</th>\n",
       "      <th>JOB_ID</th>\n",
       "      <th>SALARY</th>\n",
       "      <th>COMMISSION_PCT</th>\n",
       "      <th>MANAGER_ID</th>\n",
       "      <th>DEPARTMENT_ID</th>\n",
       "    </tr>\n",
       "  </thead>\n",
       "  <tbody>\n",
       "    <tr>\n",
       "      <th>103</th>\n",
       "      <td>202</td>\n",
       "      <td>Pat</td>\n",
       "      <td>Fay</td>\n",
       "      <td>PFAY</td>\n",
       "      <td>603.123.6666</td>\n",
       "      <td>2005-08-17</td>\n",
       "      <td>MK_REP</td>\n",
       "      <td>6000.0</td>\n",
       "      <td>NaN</td>\n",
       "      <td>201.0</td>\n",
       "      <td>20.0</td>\n",
       "    </tr>\n",
       "    <tr>\n",
       "      <th>104</th>\n",
       "      <td>203</td>\n",
       "      <td>Susan</td>\n",
       "      <td>Mavris</td>\n",
       "      <td>SMAVRIS</td>\n",
       "      <td>515.123.7777</td>\n",
       "      <td>2002-06-07</td>\n",
       "      <td>HR_REP</td>\n",
       "      <td>6500.0</td>\n",
       "      <td>NaN</td>\n",
       "      <td>101.0</td>\n",
       "      <td>40.0</td>\n",
       "    </tr>\n",
       "    <tr>\n",
       "      <th>105</th>\n",
       "      <td>204</td>\n",
       "      <td>Hermann</td>\n",
       "      <td>Baer</td>\n",
       "      <td>HBAER</td>\n",
       "      <td>515.123.8888</td>\n",
       "      <td>2002-06-07</td>\n",
       "      <td>PR_REP</td>\n",
       "      <td>10000.0</td>\n",
       "      <td>NaN</td>\n",
       "      <td>101.0</td>\n",
       "      <td>70.0</td>\n",
       "    </tr>\n",
       "    <tr>\n",
       "      <th>106</th>\n",
       "      <td>205</td>\n",
       "      <td>Shelley</td>\n",
       "      <td>Higgins</td>\n",
       "      <td>SHIGGINS</td>\n",
       "      <td>515.123.8080</td>\n",
       "      <td>2002-06-07</td>\n",
       "      <td>AC_MGR</td>\n",
       "      <td>12008.0</td>\n",
       "      <td>NaN</td>\n",
       "      <td>101.0</td>\n",
       "      <td>110.0</td>\n",
       "    </tr>\n",
       "    <tr>\n",
       "      <th>107</th>\n",
       "      <td>206</td>\n",
       "      <td>William</td>\n",
       "      <td>Gietz</td>\n",
       "      <td>WGIETZ</td>\n",
       "      <td>515.123.8181</td>\n",
       "      <td>2002-06-07</td>\n",
       "      <td>AC_ACCOUNT</td>\n",
       "      <td>8300.0</td>\n",
       "      <td>NaN</td>\n",
       "      <td>205.0</td>\n",
       "      <td>110.0</td>\n",
       "    </tr>\n",
       "  </tbody>\n",
       "</table>\n",
       "</div>"
      ],
      "text/plain": [
       "     EMPLOYEE_ID FIRST_NAME LAST_NAME     EMAIL  PHONE_NUMBER   HIRE_DATE      JOB_ID   SALARY  \\\n",
       "103          202        Pat       Fay      PFAY  603.123.6666  2005-08-17      MK_REP   6000.0   \n",
       "104          203      Susan    Mavris   SMAVRIS  515.123.7777  2002-06-07      HR_REP   6500.0   \n",
       "105          204    Hermann      Baer     HBAER  515.123.8888  2002-06-07      PR_REP  10000.0   \n",
       "106          205    Shelley   Higgins  SHIGGINS  515.123.8080  2002-06-07      AC_MGR  12008.0   \n",
       "107          206    William     Gietz    WGIETZ  515.123.8181  2002-06-07  AC_ACCOUNT   8300.0   \n",
       "\n",
       "     COMMISSION_PCT  MANAGER_ID  DEPARTMENT_ID  \n",
       "103             NaN       201.0           20.0  \n",
       "104             NaN       101.0           40.0  \n",
       "105             NaN       101.0           70.0  \n",
       "106             NaN       101.0          110.0  \n",
       "107             NaN       205.0          110.0  "
      ]
     },
     "execution_count": 9,
     "metadata": {},
     "output_type": "execute_result"
    }
   ],
   "source": [
    "# 하위 5개 행 출력\n",
    "emp.tail()"
   ]
  },
  {
   "cell_type": "code",
   "execution_count": 10,
   "id": "ebb9a78c-9231-47d8-a63f-a8193ab3e096",
   "metadata": {},
   "outputs": [
    {
     "data": {
      "text/plain": [
       "((107, 11),\n",
       " 2,\n",
       " EMPLOYEE_ID         int64\n",
       " FIRST_NAME         object\n",
       " LAST_NAME          object\n",
       " EMAIL              object\n",
       " PHONE_NUMBER       object\n",
       " HIRE_DATE          object\n",
       " JOB_ID             object\n",
       " SALARY            float64\n",
       " COMMISSION_PCT    float64\n",
       " MANAGER_ID        float64\n",
       " DEPARTMENT_ID     float64\n",
       " dtype: object)"
      ]
     },
     "execution_count": 10,
     "metadata": {},
     "output_type": "execute_result"
    }
   ],
   "source": [
    "emp.shape, emp.ndim, emp.dtypes"
   ]
  },
  {
   "cell_type": "code",
   "execution_count": 11,
   "id": "4fe7dbd6-dbeb-434b-9b23-8756546a3b09",
   "metadata": {
    "collapsed": true,
    "jupyter": {
     "outputs_hidden": true
    }
   },
   "outputs": [
    {
     "name": "stdout",
     "output_type": "stream",
     "text": [
      "<class 'pandas.core.frame.DataFrame'>\n",
      "Index: 107 entries, 1 to 107\n",
      "Data columns (total 11 columns):\n",
      " #   Column          Non-Null Count  Dtype  \n",
      "---  ------          --------------  -----  \n",
      " 0   EMPLOYEE_ID     107 non-null    int64  \n",
      " 1   FIRST_NAME      107 non-null    object \n",
      " 2   LAST_NAME       107 non-null    object \n",
      " 3   EMAIL           107 non-null    object \n",
      " 4   PHONE_NUMBER    107 non-null    object \n",
      " 5   HIRE_DATE       107 non-null    object \n",
      " 6   JOB_ID          107 non-null    object \n",
      " 7   SALARY          107 non-null    float64\n",
      " 8   COMMISSION_PCT  35 non-null     float64\n",
      " 9   MANAGER_ID      106 non-null    float64\n",
      " 10  DEPARTMENT_ID   106 non-null    float64\n",
      "dtypes: float64(4), int64(1), object(6)\n",
      "memory usage: 10.0+ KB\n"
     ]
    }
   ],
   "source": [
    "# 데이터프레임의 전반적인 정보 출력\n",
    "emp.info()"
   ]
  },
  {
   "cell_type": "code",
   "execution_count": 13,
   "id": "0bc72431-86c2-4355-a77c-785b049b1da2",
   "metadata": {
    "collapsed": true,
    "jupyter": {
     "outputs_hidden": true
    }
   },
   "outputs": [
    {
     "data": {
      "text/html": [
       "<div>\n",
       "<style scoped>\n",
       "    .dataframe tbody tr th:only-of-type {\n",
       "        vertical-align: middle;\n",
       "    }\n",
       "\n",
       "    .dataframe tbody tr th {\n",
       "        vertical-align: top;\n",
       "    }\n",
       "\n",
       "    .dataframe thead th {\n",
       "        text-align: right;\n",
       "    }\n",
       "</style>\n",
       "<table border=\"1\" class=\"dataframe\">\n",
       "  <thead>\n",
       "    <tr style=\"text-align: right;\">\n",
       "      <th></th>\n",
       "      <th>EMPLOYEE_ID</th>\n",
       "      <th>SALARY</th>\n",
       "      <th>COMMISSION_PCT</th>\n",
       "      <th>MANAGER_ID</th>\n",
       "      <th>DEPARTMENT_ID</th>\n",
       "    </tr>\n",
       "  </thead>\n",
       "  <tbody>\n",
       "    <tr>\n",
       "      <th>count</th>\n",
       "      <td>107.000000</td>\n",
       "      <td>107.000000</td>\n",
       "      <td>35.000000</td>\n",
       "      <td>106.000000</td>\n",
       "      <td>106.000000</td>\n",
       "    </tr>\n",
       "    <tr>\n",
       "      <th>mean</th>\n",
       "      <td>153.000000</td>\n",
       "      <td>6461.831776</td>\n",
       "      <td>0.222857</td>\n",
       "      <td>124.764151</td>\n",
       "      <td>63.207547</td>\n",
       "    </tr>\n",
       "    <tr>\n",
       "      <th>std</th>\n",
       "      <td>31.032241</td>\n",
       "      <td>3909.579731</td>\n",
       "      <td>0.085184</td>\n",
       "      <td>20.315395</td>\n",
       "      <td>20.910110</td>\n",
       "    </tr>\n",
       "    <tr>\n",
       "      <th>min</th>\n",
       "      <td>100.000000</td>\n",
       "      <td>2100.000000</td>\n",
       "      <td>0.100000</td>\n",
       "      <td>100.000000</td>\n",
       "      <td>10.000000</td>\n",
       "    </tr>\n",
       "    <tr>\n",
       "      <th>25%</th>\n",
       "      <td>126.500000</td>\n",
       "      <td>3100.000000</td>\n",
       "      <td>0.150000</td>\n",
       "      <td>108.000000</td>\n",
       "      <td>50.000000</td>\n",
       "    </tr>\n",
       "    <tr>\n",
       "      <th>50%</th>\n",
       "      <td>153.000000</td>\n",
       "      <td>6200.000000</td>\n",
       "      <td>0.200000</td>\n",
       "      <td>122.000000</td>\n",
       "      <td>50.000000</td>\n",
       "    </tr>\n",
       "    <tr>\n",
       "      <th>75%</th>\n",
       "      <td>179.500000</td>\n",
       "      <td>8900.000000</td>\n",
       "      <td>0.300000</td>\n",
       "      <td>145.000000</td>\n",
       "      <td>80.000000</td>\n",
       "    </tr>\n",
       "    <tr>\n",
       "      <th>max</th>\n",
       "      <td>206.000000</td>\n",
       "      <td>24000.000000</td>\n",
       "      <td>0.400000</td>\n",
       "      <td>205.000000</td>\n",
       "      <td>110.000000</td>\n",
       "    </tr>\n",
       "  </tbody>\n",
       "</table>\n",
       "</div>"
      ],
      "text/plain": [
       "       EMPLOYEE_ID        SALARY  COMMISSION_PCT  MANAGER_ID  DEPARTMENT_ID\n",
       "count   107.000000    107.000000       35.000000  106.000000     106.000000\n",
       "mean    153.000000   6461.831776        0.222857  124.764151      63.207547\n",
       "std      31.032241   3909.579731        0.085184   20.315395      20.910110\n",
       "min     100.000000   2100.000000        0.100000  100.000000      10.000000\n",
       "25%     126.500000   3100.000000        0.150000  108.000000      50.000000\n",
       "50%     153.000000   6200.000000        0.200000  122.000000      50.000000\n",
       "75%     179.500000   8900.000000        0.300000  145.000000      80.000000\n",
       "max     206.000000  24000.000000        0.400000  205.000000     110.000000"
      ]
     },
     "execution_count": 13,
     "metadata": {},
     "output_type": "execute_result"
    }
   ],
   "source": [
    "# 데이터프레임의 요약 정보 출력 (단, 숫자 컬럼 대상)\n",
    "emp.describe()"
   ]
  },
  {
   "cell_type": "code",
   "execution_count": 14,
   "id": "30dd9471-2c91-49fa-a9b2-3d0cb89f4595",
   "metadata": {
    "collapsed": true,
    "jupyter": {
     "outputs_hidden": true
    }
   },
   "outputs": [
    {
     "data": {
      "text/plain": [
       "EMPLOYEE_ID       107\n",
       "FIRST_NAME        107\n",
       "LAST_NAME         107\n",
       "EMAIL             107\n",
       "PHONE_NUMBER      107\n",
       "HIRE_DATE         107\n",
       "JOB_ID            107\n",
       "SALARY            107\n",
       "COMMISSION_PCT     35\n",
       "MANAGER_ID        106\n",
       "DEPARTMENT_ID     106\n",
       "dtype: int64"
      ]
     },
     "execution_count": 14,
     "metadata": {},
     "output_type": "execute_result"
    }
   ],
   "source": [
    "# 데이터 건수 출력\n",
    "emp.count()"
   ]
  },
  {
   "cell_type": "code",
   "execution_count": 21,
   "id": "6a4971c5-7cb3-45ce-a26c-af0a7271c1c2",
   "metadata": {
    "collapsed": true,
    "jupyter": {
     "outputs_hidden": true
    },
    "scrolled": true
   },
   "outputs": [
    {
     "data": {
      "text/plain": [
       "JOB_ID\n",
       "SA_REP        30\n",
       "ST_CLERK      20\n",
       "SH_CLERK      20\n",
       "SA_MAN         5\n",
       "IT_PROG        5\n",
       "FI_ACCOUNT     5\n",
       "PU_CLERK       5\n",
       "ST_MAN         5\n",
       "AD_VP          2\n",
       "MK_REP         1\n",
       "AC_MGR         1\n",
       "PR_REP         1\n",
       "HR_REP         1\n",
       "AD_PRES        1\n",
       "MK_MAN         1\n",
       "AD_ASST        1\n",
       "PU_MAN         1\n",
       "FI_MGR         1\n",
       "AC_ACCOUNT     1\n",
       "Name: count, dtype: int64"
      ]
     },
     "execution_count": 21,
     "metadata": {},
     "output_type": "execute_result"
    }
   ],
   "source": [
    "# 명목형 데이터에 대한 건수 출력\n",
    "emp.JOB_ID.value_counts()"
   ]
  },
  {
   "cell_type": "code",
   "execution_count": 22,
   "id": "9f66b622-bbaa-4074-b855-7b2fd0ec2b39",
   "metadata": {
    "collapsed": true,
    "jupyter": {
     "outputs_hidden": true
    }
   },
   "outputs": [
    {
     "data": {
      "text/plain": [
       "MANAGER_ID\n",
       "100.0    14\n",
       "120.0     8\n",
       "124.0     8\n",
       "122.0     8\n",
       "121.0     8\n",
       "123.0     8\n",
       "145.0     6\n",
       "146.0     6\n",
       "147.0     6\n",
       "148.0     6\n",
       "149.0     6\n",
       "114.0     5\n",
       "108.0     5\n",
       "101.0     5\n",
       "103.0     4\n",
       "102.0     1\n",
       "201.0     1\n",
       "205.0     1\n",
       "Name: count, dtype: int64"
      ]
     },
     "execution_count": 22,
     "metadata": {},
     "output_type": "execute_result"
    }
   ],
   "source": [
    "emp.MANAGER_ID.value_counts()"
   ]
  },
  {
   "cell_type": "code",
   "execution_count": 23,
   "id": "6e9be25c-5b44-4905-ac41-1c08ffc96a9c",
   "metadata": {
    "collapsed": true,
    "jupyter": {
     "outputs_hidden": true
    }
   },
   "outputs": [
    {
     "data": {
      "text/plain": [
       "DEPARTMENT_ID\n",
       "50.0     45\n",
       "80.0     34\n",
       "100.0     6\n",
       "30.0      6\n",
       "60.0      5\n",
       "90.0      3\n",
       "20.0      2\n",
       "110.0     2\n",
       "10.0      1\n",
       "40.0      1\n",
       "70.0      1\n",
       "Name: count, dtype: int64"
      ]
     },
     "execution_count": 23,
     "metadata": {},
     "output_type": "execute_result"
    }
   ],
   "source": [
    "emp.DEPARTMENT_ID.value_counts()"
   ]
  },
  {
   "cell_type": "code",
   "execution_count": 24,
   "id": "fd8bc35b-c68a-43ec-8ed4-a21416f2eafa",
   "metadata": {},
   "outputs": [
    {
     "data": {
      "text/plain": [
       "(691416.0, 6461.8317757009345, 6200.0)"
      ]
     },
     "execution_count": 24,
     "metadata": {},
     "output_type": "execute_result"
    }
   ],
   "source": [
    "# 각종 통계 함수들\n",
    "emp.SALARY.sum(), emp.SALARY.mean(), emp.SALARY.median()"
   ]
  },
  {
   "cell_type": "code",
   "execution_count": 25,
   "id": "0c811d60-1ee7-44d1-aefb-127559830f72",
   "metadata": {},
   "outputs": [
    {
     "data": {
      "text/plain": [
       "(2100.0, 24000.0, 3909.5797305524825)"
      ]
     },
     "execution_count": 25,
     "metadata": {},
     "output_type": "execute_result"
    }
   ],
   "source": [
    "emp.SALARY.min(), emp.SALARY.max(), emp.SALARY.std()"
   ]
  },
  {
   "cell_type": "code",
   "execution_count": 43,
   "id": "5d4fc3b0-8a7a-41c3-914a-5e9482599c07",
   "metadata": {},
   "outputs": [
    {
     "data": {
      "text/html": [
       "<div>\n",
       "<style scoped>\n",
       "    .dataframe tbody tr th:only-of-type {\n",
       "        vertical-align: middle;\n",
       "    }\n",
       "\n",
       "    .dataframe tbody tr th {\n",
       "        vertical-align: top;\n",
       "    }\n",
       "\n",
       "    .dataframe thead th {\n",
       "        text-align: right;\n",
       "    }\n",
       "</style>\n",
       "<table border=\"1\" class=\"dataframe\">\n",
       "  <thead>\n",
       "    <tr style=\"text-align: right;\">\n",
       "      <th></th>\n",
       "      <th>Year</th>\n",
       "      <th>City</th>\n",
       "      <th>Sport</th>\n",
       "      <th>Discipline</th>\n",
       "      <th>Athlete</th>\n",
       "      <th>Country</th>\n",
       "      <th>Gender</th>\n",
       "      <th>Event</th>\n",
       "      <th>Medal</th>\n",
       "    </tr>\n",
       "  </thead>\n",
       "  <tbody>\n",
       "    <tr>\n",
       "      <th>1</th>\n",
       "      <td>1896</td>\n",
       "      <td>Athens</td>\n",
       "      <td>Aquatics</td>\n",
       "      <td>Swimming</td>\n",
       "      <td>HAJOS, Alfred</td>\n",
       "      <td>HUN</td>\n",
       "      <td>Men</td>\n",
       "      <td>100M Freestyle</td>\n",
       "      <td>Gold</td>\n",
       "    </tr>\n",
       "    <tr>\n",
       "      <th>2</th>\n",
       "      <td>1896</td>\n",
       "      <td>Athens</td>\n",
       "      <td>Aquatics</td>\n",
       "      <td>Swimming</td>\n",
       "      <td>HERSCHMANN, Otto</td>\n",
       "      <td>AUT</td>\n",
       "      <td>Men</td>\n",
       "      <td>100M Freestyle</td>\n",
       "      <td>Silver</td>\n",
       "    </tr>\n",
       "    <tr>\n",
       "      <th>3</th>\n",
       "      <td>1896</td>\n",
       "      <td>Athens</td>\n",
       "      <td>Aquatics</td>\n",
       "      <td>Swimming</td>\n",
       "      <td>DRIVAS, Dimitrios</td>\n",
       "      <td>GRE</td>\n",
       "      <td>Men</td>\n",
       "      <td>100M Freestyle For Sailors</td>\n",
       "      <td>Bronze</td>\n",
       "    </tr>\n",
       "    <tr>\n",
       "      <th>4</th>\n",
       "      <td>1896</td>\n",
       "      <td>Athens</td>\n",
       "      <td>Aquatics</td>\n",
       "      <td>Swimming</td>\n",
       "      <td>MALOKINIS, Ioannis</td>\n",
       "      <td>GRE</td>\n",
       "      <td>Men</td>\n",
       "      <td>100M Freestyle For Sailors</td>\n",
       "      <td>Gold</td>\n",
       "    </tr>\n",
       "    <tr>\n",
       "      <th>5</th>\n",
       "      <td>1896</td>\n",
       "      <td>Athens</td>\n",
       "      <td>Aquatics</td>\n",
       "      <td>Swimming</td>\n",
       "      <td>CHASAPIS, Spiridon</td>\n",
       "      <td>GRE</td>\n",
       "      <td>Men</td>\n",
       "      <td>100M Freestyle For Sailors</td>\n",
       "      <td>Silver</td>\n",
       "    </tr>\n",
       "  </tbody>\n",
       "</table>\n",
       "</div>"
      ],
      "text/plain": [
       "   Year    City     Sport Discipline             Athlete Country Gender  \\\n",
       "1  1896  Athens  Aquatics   Swimming       HAJOS, Alfred     HUN    Men   \n",
       "2  1896  Athens  Aquatics   Swimming    HERSCHMANN, Otto     AUT    Men   \n",
       "3  1896  Athens  Aquatics   Swimming   DRIVAS, Dimitrios     GRE    Men   \n",
       "4  1896  Athens  Aquatics   Swimming  MALOKINIS, Ioannis     GRE    Men   \n",
       "5  1896  Athens  Aquatics   Swimming  CHASAPIS, Spiridon     GRE    Men   \n",
       "\n",
       "                        Event   Medal  \n",
       "1              100M Freestyle    Gold  \n",
       "2              100M Freestyle  Silver  \n",
       "3  100M Freestyle For Sailors  Bronze  \n",
       "4  100M Freestyle For Sailors    Gold  \n",
       "5  100M Freestyle For Sailors  Silver  "
      ]
     },
     "execution_count": 43,
     "metadata": {},
     "output_type": "execute_result"
    }
   ],
   "source": [
    "#### summermedal 데이터에 대한 간단한 정보 확인\n",
    "medal = pd.read_csv('./data/summermedals.csv')\n",
    "medal.index = np.arange(1, len(medal.Year)+1)\n",
    "medal.head()"
   ]
  },
  {
   "cell_type": "code",
   "execution_count": 44,
   "id": "ddc7f8e4-c248-472a-ae49-1f7992af478e",
   "metadata": {
    "collapsed": true,
    "jupyter": {
     "outputs_hidden": true
    }
   },
   "outputs": [
    {
     "name": "stdout",
     "output_type": "stream",
     "text": [
      "<class 'pandas.core.frame.DataFrame'>\n",
      "Index: 31165 entries, 1 to 31165\n",
      "Data columns (total 9 columns):\n",
      " #   Column      Non-Null Count  Dtype \n",
      "---  ------      --------------  ----- \n",
      " 0   Year        31165 non-null  int64 \n",
      " 1   City        31165 non-null  object\n",
      " 2   Sport       31165 non-null  object\n",
      " 3   Discipline  31165 non-null  object\n",
      " 4   Athlete     31165 non-null  object\n",
      " 5   Country     31161 non-null  object\n",
      " 6   Gender      31165 non-null  object\n",
      " 7   Event       31165 non-null  object\n",
      " 8   Medal       31165 non-null  object\n",
      "dtypes: int64(1), object(8)\n",
      "memory usage: 2.4+ MB\n"
     ]
    }
   ],
   "source": [
    "medal.info()"
   ]
  },
  {
   "cell_type": "code",
   "execution_count": 32,
   "id": "46db21ff-66af-41cd-9212-6255b79fec3d",
   "metadata": {
    "collapsed": true,
    "jupyter": {
     "outputs_hidden": true
    }
   },
   "outputs": [
    {
     "data": {
      "text/plain": [
       "Year          31165\n",
       "City          31165\n",
       "Sport         31165\n",
       "Discipline    31165\n",
       "Athlete       31165\n",
       "Country       31161\n",
       "Gender        31165\n",
       "Event         31165\n",
       "Medal         31165\n",
       "dtype: int64"
      ]
     },
     "execution_count": 32,
     "metadata": {},
     "output_type": "execute_result"
    }
   ],
   "source": [
    "# 데이터 건수 출력\n",
    "medal.count()"
   ]
  },
  {
   "cell_type": "code",
   "execution_count": 34,
   "id": "23463c23-4c81-46c4-bcef-686bf673388f",
   "metadata": {
    "collapsed": true,
    "jupyter": {
     "outputs_hidden": true
    },
    "scrolled": true
   },
   "outputs": [
    {
     "data": {
      "text/plain": [
       "Year\n",
       "2008    2042\n",
       "2000    2015\n",
       "2004    1998\n",
       "2012    1949\n",
       "1996    1859\n",
       "1992    1705\n",
       "1988    1546\n",
       "1984    1459\n",
       "1980    1387\n",
       "1976    1305\n",
       "1920    1298\n",
       "1972    1185\n",
       "1968    1031\n",
       "1964    1010\n",
       "1952     889\n",
       "1912     885\n",
       "1956     885\n",
       "1924     884\n",
       "1960     882\n",
       "1936     875\n",
       "1948     814\n",
       "1908     804\n",
       "1928     710\n",
       "1932     615\n",
       "1900     512\n",
       "1904     470\n",
       "1896     151\n",
       "Name: count, dtype: int64"
      ]
     },
     "execution_count": 34,
     "metadata": {},
     "output_type": "execute_result"
    }
   ],
   "source": [
    "# 명목형 데이터에 대한 건수 출력\n",
    "medal.Year.value_counts()"
   ]
  },
  {
   "cell_type": "code",
   "execution_count": 33,
   "id": "4f1e8dea-e7dc-4f11-ae25-4f101a6913bc",
   "metadata": {
    "collapsed": true,
    "jupyter": {
     "outputs_hidden": true
    },
    "scrolled": true
   },
   "outputs": [
    {
     "data": {
      "text/plain": [
       "City\n",
       "London                   3567\n",
       "Athens                   2149\n",
       "Los Angeles              2074\n",
       "Beijing                  2042\n",
       "Sydney                   2015\n",
       "Atlanta                  1859\n",
       "Barcelona                1705\n",
       "Seoul                    1546\n",
       "Paris                    1396\n",
       "Moscow                   1387\n",
       "Montreal                 1305\n",
       "Antwerp                  1298\n",
       "Munich                   1185\n",
       "Mexico                   1031\n",
       "Tokyo                    1010\n",
       "Helsinki                  889\n",
       "Stockholm                 885\n",
       "Melbourne / Stockholm     885\n",
       "Rome                      882\n",
       "Berlin                    875\n",
       "Amsterdam                 710\n",
       "St Louis                  470\n",
       "Name: count, dtype: int64"
      ]
     },
     "execution_count": 33,
     "metadata": {},
     "output_type": "execute_result"
    }
   ],
   "source": [
    "medal.City.value_counts()"
   ]
  },
  {
   "cell_type": "code",
   "execution_count": 46,
   "id": "2df946a4-5de6-4d8a-a87e-1014c24fe34f",
   "metadata": {
    "collapsed": true,
    "jupyter": {
     "outputs_hidden": true
    },
    "scrolled": true
   },
   "outputs": [
    {
     "data": {
      "text/plain": [
       "Year  City                 \n",
       "2008  Beijing                  2042\n",
       "2000  Sydney                   2015\n",
       "2004  Athens                   1998\n",
       "2012  London                   1949\n",
       "1996  Atlanta                  1859\n",
       "1992  Barcelona                1705\n",
       "1988  Seoul                    1546\n",
       "1984  Los Angeles              1459\n",
       "1980  Moscow                   1387\n",
       "1976  Montreal                 1305\n",
       "1920  Antwerp                  1298\n",
       "1972  Munich                   1185\n",
       "1968  Mexico                   1031\n",
       "1964  Tokyo                    1010\n",
       "1952  Helsinki                  889\n",
       "1912  Stockholm                 885\n",
       "1956  Melbourne / Stockholm     885\n",
       "1924  Paris                     884\n",
       "1960  Rome                      882\n",
       "1936  Berlin                    875\n",
       "1948  London                    814\n",
       "1908  London                    804\n",
       "1928  Amsterdam                 710\n",
       "1932  Los Angeles               615\n",
       "1900  Paris                     512\n",
       "1904  St Louis                  470\n",
       "1896  Athens                    151\n",
       "Name: count, dtype: int64"
      ]
     },
     "execution_count": 46,
     "metadata": {},
     "output_type": "execute_result"
    }
   ],
   "source": [
    "medal.loc[:, ['Year', 'City']].value_counts()"
   ]
  },
  {
   "cell_type": "code",
   "execution_count": 35,
   "id": "9d102280-0dae-4b17-add2-993d73393b7c",
   "metadata": {
    "collapsed": true,
    "jupyter": {
     "outputs_hidden": true
    },
    "scrolled": true
   },
   "outputs": [
    {
     "data": {
      "text/plain": [
       "Country\n",
       "USA    4585\n",
       "URS    2049\n",
       "GBR    1720\n",
       "FRA    1396\n",
       "GER    1305\n",
       "       ... \n",
       "CIV       1\n",
       "BDI       1\n",
       "SEN       1\n",
       "DJI       1\n",
       "GAB       1\n",
       "Name: count, Length: 147, dtype: int64"
      ]
     },
     "execution_count": 35,
     "metadata": {},
     "output_type": "execute_result"
    }
   ],
   "source": [
    "medal.Country.value_counts()"
   ]
  },
  {
   "cell_type": "code",
   "execution_count": 36,
   "id": "80345940-bb13-4e90-bf1d-ea8bf0024efb",
   "metadata": {
    "collapsed": true,
    "jupyter": {
     "outputs_hidden": true
    },
    "scrolled": true
   },
   "outputs": [
    {
     "data": {
      "text/plain": [
       "Medal\n",
       "Gold      10486\n",
       "Bronze    10369\n",
       "Silver    10310\n",
       "Name: count, dtype: int64"
      ]
     },
     "execution_count": 36,
     "metadata": {},
     "output_type": "execute_result"
    }
   ],
   "source": [
    "medal.Medal.value_counts()"
   ]
  },
  {
   "cell_type": "code",
   "execution_count": 45,
   "id": "68ca4af8-85a5-4244-b1af-ad05fc79c783",
   "metadata": {
    "collapsed": true,
    "jupyter": {
     "outputs_hidden": true
    },
    "scrolled": true
   },
   "outputs": [
    {
     "data": {
      "text/plain": [
       "Gender\n",
       "Men      22746\n",
       "Women     8419\n",
       "Name: count, dtype: int64"
      ]
     },
     "execution_count": 45,
     "metadata": {},
     "output_type": "execute_result"
    }
   ],
   "source": [
    "medal.Gender.value_counts()"
   ]
  },
  {
   "cell_type": "code",
   "execution_count": 47,
   "id": "e412500c-137f-4751-99f9-aa6c8f252a02",
   "metadata": {},
   "outputs": [
    {
     "data": {
      "text/html": [
       "<div>\n",
       "<style scoped>\n",
       "    .dataframe tbody tr th:only-of-type {\n",
       "        vertical-align: middle;\n",
       "    }\n",
       "\n",
       "    .dataframe tbody tr th {\n",
       "        vertical-align: top;\n",
       "    }\n",
       "\n",
       "    .dataframe thead th {\n",
       "        text-align: right;\n",
       "    }\n",
       "</style>\n",
       "<table border=\"1\" class=\"dataframe\">\n",
       "  <thead>\n",
       "    <tr style=\"text-align: right;\">\n",
       "      <th></th>\n",
       "      <th>Year</th>\n",
       "      <th>Winner</th>\n",
       "      <th>Dogs eaten</th>\n",
       "      <th>Country</th>\n",
       "      <th>New record</th>\n",
       "    </tr>\n",
       "  </thead>\n",
       "  <tbody>\n",
       "    <tr>\n",
       "      <th>1</th>\n",
       "      <td>1980</td>\n",
       "      <td>Paul Siederman &amp; Joe Baldini</td>\n",
       "      <td>9.1</td>\n",
       "      <td>United States</td>\n",
       "      <td>0</td>\n",
       "    </tr>\n",
       "    <tr>\n",
       "      <th>2</th>\n",
       "      <td>1981</td>\n",
       "      <td>Thomas DeBerry</td>\n",
       "      <td>11.0</td>\n",
       "      <td>United States</td>\n",
       "      <td>0</td>\n",
       "    </tr>\n",
       "    <tr>\n",
       "      <th>3</th>\n",
       "      <td>1982</td>\n",
       "      <td>Steven Abrams</td>\n",
       "      <td>11.0</td>\n",
       "      <td>United States</td>\n",
       "      <td>0</td>\n",
       "    </tr>\n",
       "    <tr>\n",
       "      <th>4</th>\n",
       "      <td>1983</td>\n",
       "      <td>Luis Llamas</td>\n",
       "      <td>19.5</td>\n",
       "      <td>Mexico</td>\n",
       "      <td>0</td>\n",
       "    </tr>\n",
       "    <tr>\n",
       "      <th>5</th>\n",
       "      <td>1984</td>\n",
       "      <td>Birgit Felden</td>\n",
       "      <td>9.5</td>\n",
       "      <td>Germany</td>\n",
       "      <td>0</td>\n",
       "    </tr>\n",
       "  </tbody>\n",
       "</table>\n",
       "</div>"
      ],
      "text/plain": [
       "   Year                        Winner  Dogs eaten        Country  New record\n",
       "1  1980  Paul Siederman & Joe Baldini         9.1  United States           0\n",
       "2  1981               Thomas DeBerry         11.0  United States           0\n",
       "3  1982                Steven Abrams         11.0  United States           0\n",
       "4  1983                  Luis Llamas         19.5         Mexico           0\n",
       "5  1984                Birgit Felden          9.5        Germany           0"
      ]
     },
     "execution_count": 47,
     "metadata": {},
     "output_type": "execute_result"
    }
   ],
   "source": [
    "#### hotdog 데이터에 대한 간단한 정보 확인\n",
    "hot = pd.read_csv('./data/hotdog.csv')\n",
    "hot.index = np.arange(1, len(hot.Year)+1)\n",
    "hot.head()"
   ]
  },
  {
   "cell_type": "code",
   "execution_count": 48,
   "id": "517a8578-7a73-4569-85c2-2ce97fd8fef1",
   "metadata": {},
   "outputs": [
    {
     "name": "stdout",
     "output_type": "stream",
     "text": [
      "<class 'pandas.core.frame.DataFrame'>\n",
      "Index: 31 entries, 1 to 31\n",
      "Data columns (total 5 columns):\n",
      " #   Column      Non-Null Count  Dtype  \n",
      "---  ------      --------------  -----  \n",
      " 0   Year        31 non-null     int64  \n",
      " 1   Winner      31 non-null     object \n",
      " 2   Dogs eaten  31 non-null     float64\n",
      " 3   Country     31 non-null     object \n",
      " 4   New record  31 non-null     int64  \n",
      "dtypes: float64(1), int64(2), object(2)\n",
      "memory usage: 1.5+ KB\n"
     ]
    }
   ],
   "source": [
    "hot.info()"
   ]
  },
  {
   "cell_type": "code",
   "execution_count": 49,
   "id": "27b42569-3556-4b1b-a864-9e3d66b738b0",
   "metadata": {},
   "outputs": [
    {
     "data": {
      "text/plain": [
       "Winner\n",
       "Takeru Kobayashi                5\n",
       "Joey Chestnut                   4\n",
       "Mike DeVito                     3\n",
       "Jay Green                       2\n",
       "Frank Dellarosa                 2\n",
       "Edward Krachie                  2\n",
       "Hirofumi Nakajima               2\n",
       "Luis Llamas                     1\n",
       "Birgit Felden                   1\n",
       "Oscar Rodriguez                 1\n",
       "Mark Heller                     1\n",
       "Don Wolfman                     1\n",
       "Thomas DeBerry                  1\n",
       "Steve Keiner                    1\n",
       "Kazutoyo \"The Rabbit\" Arai      1\n",
       "Steven Abrams                   1\n",
       "Takeru \"Tsunami\" Kobayashi      1\n",
       "Paul Siederman & Joe Baldini    1\n",
       "Name: count, dtype: int64"
      ]
     },
     "execution_count": 49,
     "metadata": {},
     "output_type": "execute_result"
    }
   ],
   "source": [
    "hot.Winner.value_counts()"
   ]
  },
  {
   "cell_type": "code",
   "execution_count": 50,
   "id": "36469285-1da7-4a4b-85c6-ab982b306766",
   "metadata": {},
   "outputs": [
    {
     "data": {
      "text/plain": [
       "Country\n",
       "United States    20\n",
       "Japan             9\n",
       "Mexico            1\n",
       "Germany           1\n",
       "Name: count, dtype: int64"
      ]
     },
     "execution_count": 50,
     "metadata": {},
     "output_type": "execute_result"
    }
   ],
   "source": [
    "hot.Country.value_counts()"
   ]
  },
  {
   "cell_type": "code",
   "execution_count": 54,
   "id": "cf4ab698-370f-4250-a023-961bdafb2865",
   "metadata": {},
   "outputs": [
    {
     "data": {
      "text/plain": [
       "count    31.000000\n",
       "mean     28.991290\n",
       "std      19.003056\n",
       "min       9.100000\n",
       "25%      14.750000\n",
       "50%      20.000000\n",
       "75%      49.500000\n",
       "max      68.000000\n",
       "Name: Dogs eaten, dtype: float64"
      ]
     },
     "execution_count": 54,
     "metadata": {},
     "output_type": "execute_result"
    }
   ],
   "source": [
    "hot['Dogs eaten'].describe()"
   ]
  },
  {
   "cell_type": "markdown",
   "id": "6618f158-46db-4134-bfd9-a391bf45bd9a",
   "metadata": {},
   "source": [
    "## 결측치missing data 처리하기\n",
    "* null, NaN, NA, None\n",
    "* 파이썬/pandas에서는 NaN(float:숫자형) 또는 None(object:문자형) 으로 취급\n",
    "* 단, 정수형 누락값인 NA는 pandas에서는 취급불가\n",
    "* 결측치는 numpy 모듈을 이용해서 정의해야 함"
   ]
  },
  {
   "cell_type": "code",
   "execution_count": 55,
   "id": "b21f493f-2b5f-4920-8850-0f92ed3cc8c1",
   "metadata": {},
   "outputs": [
    {
     "name": "stdout",
     "output_type": "stream",
     "text": [
      "[1 2 None 4 5] object\n"
     ]
    }
   ],
   "source": [
    "# 파이썬에서 제공하는 결측치 상수None로 객체 정의\n",
    "a = np.array([1,2,None,4,5])\n",
    "print(a, a.dtype)"
   ]
  },
  {
   "cell_type": "code",
   "execution_count": null,
   "id": "7aa16ac9-f32c-4558-b7bc-21f668324df1",
   "metadata": {},
   "outputs": [],
   "source": [
    "# 결측치가 포함된 객체에 연산 시도\n",
    "# 오류뜸\n",
    "# 오류 내용 : unsupported operand type(s) for *: 'NoneType' and 'int'\n",
    "a * 100"
   ]
  },
  {
   "cell_type": "code",
   "execution_count": null,
   "id": "489983b6-83de-4807-9a9d-afe0c3dcd552",
   "metadata": {},
   "outputs": [],
   "source": [
    "# 결측치가 포함된 객체에 함수 호출\n",
    "# 오류뜸\n",
    "# 오류 내용 : unsupported operand type(s) for +: 'int' and 'NoneType'\n",
    "a.sum()"
   ]
  },
  {
   "cell_type": "code",
   "execution_count": 61,
   "id": "abbb02ea-6f24-4ea0-94a3-4b1a4b096dd1",
   "metadata": {},
   "outputs": [
    {
     "name": "stdout",
     "output_type": "stream",
     "text": [
      "[ 1.  2. nan  4.  5.] float64\n"
     ]
    }
   ],
   "source": [
    "# numpy에서 제공하는 결측치 상수NaN로 객체 정의\n",
    "b = np.array([1,2,np.NaN,4,5])\n",
    "print(b, b.dtype)"
   ]
  },
  {
   "cell_type": "code",
   "execution_count": 62,
   "id": "ede9b1ef-a32f-4efb-921c-63b80fa3c446",
   "metadata": {},
   "outputs": [
    {
     "data": {
      "text/plain": [
       "array([100., 200.,  nan, 400., 500.])"
      ]
     },
     "execution_count": 62,
     "metadata": {},
     "output_type": "execute_result"
    }
   ],
   "source": [
    "# 결측치 제외하고 정상적으로 연산 수행\n",
    "# numpy에선 결측치 제외하고 처리가 가능함\n",
    "b * 100"
   ]
  },
  {
   "cell_type": "code",
   "execution_count": 63,
   "id": "ff84902f-9a2f-4cd2-a632-013157f3bed1",
   "metadata": {},
   "outputs": [
    {
     "data": {
      "text/plain": [
       "nan"
      ]
     },
     "execution_count": 63,
     "metadata": {},
     "output_type": "execute_result"
    }
   ],
   "source": [
    "# 결측치 때문에 결과가 결측치로 출력\n",
    "b.sum()"
   ]
  },
  {
   "cell_type": "code",
   "execution_count": 65,
   "id": "e6a3f366-ef5b-4ea6-8109-51e0100e8e49",
   "metadata": {},
   "outputs": [
    {
     "name": "stdout",
     "output_type": "stream",
     "text": [
      "0    1.0\n",
      "1    2.0\n",
      "2    NaN\n",
      "3    4.0\n",
      "4    5.0\n",
      "dtype: float64 float64\n"
     ]
    }
   ],
   "source": [
    "# numpy에서 제공하는 결측치 상수NaN로 Pandas 객체 정의\n",
    "c = pd.Series([1,2,None,4,5])\n",
    "print(c, c.dtype)"
   ]
  },
  {
   "cell_type": "code",
   "execution_count": 66,
   "id": "55d2f53a-5f15-427b-a1c1-43c4ee14fb71",
   "metadata": {},
   "outputs": [
    {
     "data": {
      "text/plain": [
       "0    100.0\n",
       "1    200.0\n",
       "2      NaN\n",
       "3    400.0\n",
       "4    500.0\n",
       "dtype: float64"
      ]
     },
     "execution_count": 66,
     "metadata": {},
     "output_type": "execute_result"
    }
   ],
   "source": [
    "# 결측치 제외하고 정상적으로 연산 수행\n",
    "c * 100"
   ]
  },
  {
   "cell_type": "code",
   "execution_count": 67,
   "id": "b72178b0-b803-4f15-9054-b60e226f0b80",
   "metadata": {},
   "outputs": [
    {
     "data": {
      "text/plain": [
       "12.0"
      ]
     },
     "execution_count": 67,
     "metadata": {},
     "output_type": "execute_result"
    }
   ],
   "source": [
    "# 결측치 제외하고 정상적으로 연산 수행\n",
    "c.sum()\n",
    "# 이렇게 numpy에서 제공하는 결측치 상수를 정의해놓고.. 연산 수행?"
   ]
  },
  {
   "cell_type": "markdown",
   "id": "6cfb3369-42e3-4e3e-86e9-e4dc33ccd70e",
   "metadata": {},
   "source": [
    "## 결측치 처리하기\n",
    "* pandas 자료구조에서는 null 값을 감지하고\n",
    " 삭제하는 기능 제공 \n",
    "  + isnull, dropna, notnull, fillna"
   ]
  },
  {
   "cell_type": "code",
   "execution_count": 68,
   "id": "48c8392d-e157-453b-b430-10cd5de1819a",
   "metadata": {},
   "outputs": [],
   "source": [
    "d = pd.Series([1,2,np.NaN,4,None])"
   ]
  },
  {
   "cell_type": "code",
   "execution_count": 69,
   "id": "efe29474-fc8b-4c95-b6c3-7982194c7042",
   "metadata": {
    "collapsed": true,
    "jupyter": {
     "outputs_hidden": true
    }
   },
   "outputs": [
    {
     "data": {
      "text/plain": [
       "0    False\n",
       "1    False\n",
       "2     True\n",
       "3    False\n",
       "4     True\n",
       "dtype: bool"
      ]
     },
     "execution_count": 69,
     "metadata": {},
     "output_type": "execute_result"
    }
   ],
   "source": [
    "# isnull : null 여부를 true/false로 출력\n",
    "d.isnull()"
   ]
  },
  {
   "cell_type": "code",
   "execution_count": 71,
   "id": "2b944e88-898a-4985-b85e-18fa449dae67",
   "metadata": {
    "collapsed": true,
    "jupyter": {
     "outputs_hidden": true
    }
   },
   "outputs": [
    {
     "data": {
      "text/plain": [
       "False    3\n",
       "True     2\n",
       "Name: count, dtype: int64"
      ]
     },
     "execution_count": 71,
     "metadata": {},
     "output_type": "execute_result"
    }
   ],
   "source": [
    "d.isnull().value_counts()"
   ]
  },
  {
   "cell_type": "code",
   "execution_count": 74,
   "id": "e2849754-fad1-4814-afa9-01acebc87b0c",
   "metadata": {
    "collapsed": true,
    "jupyter": {
     "outputs_hidden": true
    }
   },
   "outputs": [
    {
     "data": {
      "text/plain": [
       "2   NaN\n",
       "4   NaN\n",
       "dtype: float64"
      ]
     },
     "execution_count": 74,
     "metadata": {},
     "output_type": "execute_result"
    }
   ],
   "source": [
    "# 결측치가 있는 요소의 인덱스 출력\n",
    "d[d.isnull()]"
   ]
  },
  {
   "cell_type": "code",
   "execution_count": 72,
   "id": "ce5d6e6b-276d-4d2f-b49f-47437d9f313a",
   "metadata": {
    "collapsed": true,
    "jupyter": {
     "outputs_hidden": true
    }
   },
   "outputs": [
    {
     "data": {
      "text/plain": [
       "0     True\n",
       "1     True\n",
       "2    False\n",
       "3     True\n",
       "4    False\n",
       "dtype: bool"
      ]
     },
     "execution_count": 72,
     "metadata": {},
     "output_type": "execute_result"
    }
   ],
   "source": [
    "# notnull : null 여부를 true/false로 출력\n",
    "d.notnull()"
   ]
  },
  {
   "cell_type": "code",
   "execution_count": 73,
   "id": "4593d8ad-f4c8-430d-8eff-bcf53975d20b",
   "metadata": {
    "collapsed": true,
    "jupyter": {
     "outputs_hidden": true
    }
   },
   "outputs": [
    {
     "data": {
      "text/plain": [
       "True     3\n",
       "False    2\n",
       "Name: count, dtype: int64"
      ]
     },
     "execution_count": 73,
     "metadata": {},
     "output_type": "execute_result"
    }
   ],
   "source": [
    "d.notnull().value_counts()"
   ]
  },
  {
   "cell_type": "code",
   "execution_count": 75,
   "id": "06a6b574-23f3-46f9-988f-a840ee23074f",
   "metadata": {
    "collapsed": true,
    "jupyter": {
     "outputs_hidden": true
    }
   },
   "outputs": [
    {
     "data": {
      "text/plain": [
       "0    1.0\n",
       "1    2.0\n",
       "3    4.0\n",
       "dtype: float64"
      ]
     },
     "execution_count": 75,
     "metadata": {},
     "output_type": "execute_result"
    }
   ],
   "source": [
    "# dropna : 결측치 제거\n",
    "d.dropna()"
   ]
  },
  {
   "cell_type": "code",
   "execution_count": 76,
   "id": "d620f4df-31c0-4d38-bc4c-6bf6efb94e49",
   "metadata": {
    "collapsed": true,
    "jupyter": {
     "outputs_hidden": true
    }
   },
   "outputs": [
    {
     "data": {
      "text/plain": [
       "0    1.0\n",
       "1    2.0\n",
       "2    0.0\n",
       "3    4.0\n",
       "4    0.0\n",
       "dtype: float64"
      ]
     },
     "execution_count": 76,
     "metadata": {},
     "output_type": "execute_result"
    }
   ],
   "source": [
    "# fillna : 결측치 대체\n",
    "d.fillna(0)"
   ]
  },
  {
   "cell_type": "markdown",
   "id": "8f22701c-74cf-42d0-b66c-f2c6cf757781",
   "metadata": {},
   "source": [
    "#### emp 데이터에 존재하는 결측치 처리\n",
    "* 수당의 결측치 : 0.0으로 대체\n",
    "* 상사번호, 부서번호의 결측치: -로 대체"
   ]
  },
  {
   "cell_type": "code",
   "execution_count": 78,
   "id": "50dd39e3-5343-4136-a3fa-c7c7db3bd441",
   "metadata": {
    "collapsed": true,
    "jupyter": {
     "outputs_hidden": true
    }
   },
   "outputs": [
    {
     "data": {
      "text/html": [
       "<div>\n",
       "<style scoped>\n",
       "    .dataframe tbody tr th:only-of-type {\n",
       "        vertical-align: middle;\n",
       "    }\n",
       "\n",
       "    .dataframe tbody tr th {\n",
       "        vertical-align: top;\n",
       "    }\n",
       "\n",
       "    .dataframe thead th {\n",
       "        text-align: right;\n",
       "    }\n",
       "</style>\n",
       "<table border=\"1\" class=\"dataframe\">\n",
       "  <thead>\n",
       "    <tr style=\"text-align: right;\">\n",
       "      <th></th>\n",
       "      <th>EMPLOYEE_ID</th>\n",
       "      <th>FIRST_NAME</th>\n",
       "      <th>LAST_NAME</th>\n",
       "      <th>EMAIL</th>\n",
       "      <th>PHONE_NUMBER</th>\n",
       "      <th>HIRE_DATE</th>\n",
       "      <th>JOB_ID</th>\n",
       "      <th>SALARY</th>\n",
       "      <th>COMMISSION_PCT</th>\n",
       "      <th>MANAGER_ID</th>\n",
       "      <th>DEPARTMENT_ID</th>\n",
       "    </tr>\n",
       "  </thead>\n",
       "  <tbody>\n",
       "    <tr>\n",
       "      <th>1</th>\n",
       "      <td>False</td>\n",
       "      <td>False</td>\n",
       "      <td>False</td>\n",
       "      <td>False</td>\n",
       "      <td>False</td>\n",
       "      <td>False</td>\n",
       "      <td>False</td>\n",
       "      <td>False</td>\n",
       "      <td>True</td>\n",
       "      <td>True</td>\n",
       "      <td>False</td>\n",
       "    </tr>\n",
       "    <tr>\n",
       "      <th>2</th>\n",
       "      <td>False</td>\n",
       "      <td>False</td>\n",
       "      <td>False</td>\n",
       "      <td>False</td>\n",
       "      <td>False</td>\n",
       "      <td>False</td>\n",
       "      <td>False</td>\n",
       "      <td>False</td>\n",
       "      <td>True</td>\n",
       "      <td>False</td>\n",
       "      <td>False</td>\n",
       "    </tr>\n",
       "    <tr>\n",
       "      <th>3</th>\n",
       "      <td>False</td>\n",
       "      <td>False</td>\n",
       "      <td>False</td>\n",
       "      <td>False</td>\n",
       "      <td>False</td>\n",
       "      <td>False</td>\n",
       "      <td>False</td>\n",
       "      <td>False</td>\n",
       "      <td>True</td>\n",
       "      <td>False</td>\n",
       "      <td>False</td>\n",
       "    </tr>\n",
       "    <tr>\n",
       "      <th>4</th>\n",
       "      <td>False</td>\n",
       "      <td>False</td>\n",
       "      <td>False</td>\n",
       "      <td>False</td>\n",
       "      <td>False</td>\n",
       "      <td>False</td>\n",
       "      <td>False</td>\n",
       "      <td>False</td>\n",
       "      <td>True</td>\n",
       "      <td>False</td>\n",
       "      <td>False</td>\n",
       "    </tr>\n",
       "    <tr>\n",
       "      <th>5</th>\n",
       "      <td>False</td>\n",
       "      <td>False</td>\n",
       "      <td>False</td>\n",
       "      <td>False</td>\n",
       "      <td>False</td>\n",
       "      <td>False</td>\n",
       "      <td>False</td>\n",
       "      <td>False</td>\n",
       "      <td>True</td>\n",
       "      <td>False</td>\n",
       "      <td>False</td>\n",
       "    </tr>\n",
       "    <tr>\n",
       "      <th>...</th>\n",
       "      <td>...</td>\n",
       "      <td>...</td>\n",
       "      <td>...</td>\n",
       "      <td>...</td>\n",
       "      <td>...</td>\n",
       "      <td>...</td>\n",
       "      <td>...</td>\n",
       "      <td>...</td>\n",
       "      <td>...</td>\n",
       "      <td>...</td>\n",
       "      <td>...</td>\n",
       "    </tr>\n",
       "    <tr>\n",
       "      <th>103</th>\n",
       "      <td>False</td>\n",
       "      <td>False</td>\n",
       "      <td>False</td>\n",
       "      <td>False</td>\n",
       "      <td>False</td>\n",
       "      <td>False</td>\n",
       "      <td>False</td>\n",
       "      <td>False</td>\n",
       "      <td>True</td>\n",
       "      <td>False</td>\n",
       "      <td>False</td>\n",
       "    </tr>\n",
       "    <tr>\n",
       "      <th>104</th>\n",
       "      <td>False</td>\n",
       "      <td>False</td>\n",
       "      <td>False</td>\n",
       "      <td>False</td>\n",
       "      <td>False</td>\n",
       "      <td>False</td>\n",
       "      <td>False</td>\n",
       "      <td>False</td>\n",
       "      <td>True</td>\n",
       "      <td>False</td>\n",
       "      <td>False</td>\n",
       "    </tr>\n",
       "    <tr>\n",
       "      <th>105</th>\n",
       "      <td>False</td>\n",
       "      <td>False</td>\n",
       "      <td>False</td>\n",
       "      <td>False</td>\n",
       "      <td>False</td>\n",
       "      <td>False</td>\n",
       "      <td>False</td>\n",
       "      <td>False</td>\n",
       "      <td>True</td>\n",
       "      <td>False</td>\n",
       "      <td>False</td>\n",
       "    </tr>\n",
       "    <tr>\n",
       "      <th>106</th>\n",
       "      <td>False</td>\n",
       "      <td>False</td>\n",
       "      <td>False</td>\n",
       "      <td>False</td>\n",
       "      <td>False</td>\n",
       "      <td>False</td>\n",
       "      <td>False</td>\n",
       "      <td>False</td>\n",
       "      <td>True</td>\n",
       "      <td>False</td>\n",
       "      <td>False</td>\n",
       "    </tr>\n",
       "    <tr>\n",
       "      <th>107</th>\n",
       "      <td>False</td>\n",
       "      <td>False</td>\n",
       "      <td>False</td>\n",
       "      <td>False</td>\n",
       "      <td>False</td>\n",
       "      <td>False</td>\n",
       "      <td>False</td>\n",
       "      <td>False</td>\n",
       "      <td>True</td>\n",
       "      <td>False</td>\n",
       "      <td>False</td>\n",
       "    </tr>\n",
       "  </tbody>\n",
       "</table>\n",
       "<p>107 rows × 11 columns</p>\n",
       "</div>"
      ],
      "text/plain": [
       "     EMPLOYEE_ID  FIRST_NAME  LAST_NAME  EMAIL  PHONE_NUMBER  HIRE_DATE  JOB_ID  SALARY  \\\n",
       "1          False       False      False  False         False      False   False   False   \n",
       "2          False       False      False  False         False      False   False   False   \n",
       "3          False       False      False  False         False      False   False   False   \n",
       "4          False       False      False  False         False      False   False   False   \n",
       "5          False       False      False  False         False      False   False   False   \n",
       "..           ...         ...        ...    ...           ...        ...     ...     ...   \n",
       "103        False       False      False  False         False      False   False   False   \n",
       "104        False       False      False  False         False      False   False   False   \n",
       "105        False       False      False  False         False      False   False   False   \n",
       "106        False       False      False  False         False      False   False   False   \n",
       "107        False       False      False  False         False      False   False   False   \n",
       "\n",
       "     COMMISSION_PCT  MANAGER_ID  DEPARTMENT_ID  \n",
       "1              True        True          False  \n",
       "2              True       False          False  \n",
       "3              True       False          False  \n",
       "4              True       False          False  \n",
       "5              True       False          False  \n",
       "..              ...         ...            ...  \n",
       "103            True       False          False  \n",
       "104            True       False          False  \n",
       "105            True       False          False  \n",
       "106            True       False          False  \n",
       "107            True       False          False  \n",
       "\n",
       "[107 rows x 11 columns]"
      ]
     },
     "execution_count": 78,
     "metadata": {},
     "output_type": "execute_result"
    }
   ],
   "source": [
    "emp.isnull()"
   ]
  },
  {
   "cell_type": "code",
   "execution_count": 79,
   "id": "58c0a644-c83b-4e58-818e-31e5ba1349b2",
   "metadata": {},
   "outputs": [
    {
     "data": {
      "text/plain": [
       "EMPLOYEE_ID  FIRST_NAME  LAST_NAME  EMAIL  PHONE_NUMBER  HIRE_DATE  JOB_ID  SALARY  COMMISSION_PCT  MANAGER_ID  DEPARTMENT_ID\n",
       "False        False       False      False  False         False      False   False   True            False       False            71\n",
       "                                                                                    False           False       False            34\n",
       "                                                                                                                True              1\n",
       "                                                                                    True            True        False             1\n",
       "Name: count, dtype: int64"
      ]
     },
     "execution_count": 79,
     "metadata": {},
     "output_type": "execute_result"
    }
   ],
   "source": [
    "emp.isnull().value_counts()"
   ]
  },
  {
   "cell_type": "code",
   "execution_count": 91,
   "id": "8d2e88a4-09e9-40df-b109-208786d15af0",
   "metadata": {},
   "outputs": [
    {
     "data": {
      "text/plain": [
       "COMMISSION_PCT  MANAGER_ID  DEPARTMENT_ID\n",
       "True            False       False            71\n",
       "False           False       False            34\n",
       "                            True              1\n",
       "True            True        False             1\n",
       "Name: count, dtype: int64"
      ]
     },
     "execution_count": 91,
     "metadata": {},
     "output_type": "execute_result"
    }
   ],
   "source": [
    "emp[['COMMISSION_PCT','MANAGER_ID','DEPARTMENT_ID']].isnull().value_counts()"
   ]
  },
  {
   "cell_type": "code",
   "execution_count": 92,
   "id": "825d7657-9a19-42d2-95e4-c4eba331c61c",
   "metadata": {},
   "outputs": [
    {
     "data": {
      "text/plain": [
       "COMMISSION_PCT\n",
       "False    107\n",
       "Name: count, dtype: int64"
      ]
     },
     "execution_count": 92,
     "metadata": {},
     "output_type": "execute_result"
    }
   ],
   "source": [
    "emp.COMMISSION_PCT = emp.COMMISSION_PCT.fillna(0)\n",
    "emp.COMMISSION_PCT.isnull().value_counts()"
   ]
  },
  {
   "cell_type": "code",
   "execution_count": 93,
   "id": "003d6f0b-ad57-4136-b6e7-6a600ff0a8a2",
   "metadata": {},
   "outputs": [
    {
     "data": {
      "text/plain": [
       "MANAGER_ID\n",
       "False    107\n",
       "Name: count, dtype: int64"
      ]
     },
     "execution_count": 93,
     "metadata": {},
     "output_type": "execute_result"
    }
   ],
   "source": [
    "emp.MANAGER_ID = emp.MANAGER_ID.fillna('-')\n",
    "emp.MANAGER_ID.isnull().value_counts()"
   ]
  },
  {
   "cell_type": "code",
   "execution_count": 94,
   "id": "881b742a-564c-487a-940a-bf1286e756c2",
   "metadata": {},
   "outputs": [
    {
     "data": {
      "text/plain": [
       "DEPARTMENT_ID\n",
       "False    107\n",
       "Name: count, dtype: int64"
      ]
     },
     "execution_count": 94,
     "metadata": {},
     "output_type": "execute_result"
    }
   ],
   "source": [
    "emp.DEPARTMENT_ID = emp.DEPARTMENT_ID.fillna('-')\n",
    "emp.DEPARTMENT_ID.isnull().value_counts()"
   ]
  },
  {
   "cell_type": "code",
   "execution_count": 95,
   "id": "69553696-5d36-4204-af20-82befac6f8d7",
   "metadata": {},
   "outputs": [
    {
     "data": {
      "text/html": [
       "<div>\n",
       "<style scoped>\n",
       "    .dataframe tbody tr th:only-of-type {\n",
       "        vertical-align: middle;\n",
       "    }\n",
       "\n",
       "    .dataframe tbody tr th {\n",
       "        vertical-align: top;\n",
       "    }\n",
       "\n",
       "    .dataframe thead th {\n",
       "        text-align: right;\n",
       "    }\n",
       "</style>\n",
       "<table border=\"1\" class=\"dataframe\">\n",
       "  <thead>\n",
       "    <tr style=\"text-align: right;\">\n",
       "      <th></th>\n",
       "      <th>EMPLOYEE_ID</th>\n",
       "      <th>FIRST_NAME</th>\n",
       "      <th>LAST_NAME</th>\n",
       "      <th>EMAIL</th>\n",
       "      <th>PHONE_NUMBER</th>\n",
       "      <th>HIRE_DATE</th>\n",
       "      <th>JOB_ID</th>\n",
       "      <th>SALARY</th>\n",
       "      <th>COMMISSION_PCT</th>\n",
       "      <th>MANAGER_ID</th>\n",
       "      <th>DEPARTMENT_ID</th>\n",
       "    </tr>\n",
       "  </thead>\n",
       "  <tbody>\n",
       "    <tr>\n",
       "      <th>1</th>\n",
       "      <td>100</td>\n",
       "      <td>Steven</td>\n",
       "      <td>King</td>\n",
       "      <td>SKING</td>\n",
       "      <td>515.123.4567</td>\n",
       "      <td>2003-06-17</td>\n",
       "      <td>AD_PRES</td>\n",
       "      <td>24000.0</td>\n",
       "      <td>0.0</td>\n",
       "      <td>-</td>\n",
       "      <td>90.0</td>\n",
       "    </tr>\n",
       "    <tr>\n",
       "      <th>2</th>\n",
       "      <td>101</td>\n",
       "      <td>Neena</td>\n",
       "      <td>Kochhar</td>\n",
       "      <td>NKOCHHAR</td>\n",
       "      <td>515.123.4568</td>\n",
       "      <td>2005-09-21</td>\n",
       "      <td>AD_VP</td>\n",
       "      <td>17000.0</td>\n",
       "      <td>0.0</td>\n",
       "      <td>100.0</td>\n",
       "      <td>90.0</td>\n",
       "    </tr>\n",
       "    <tr>\n",
       "      <th>3</th>\n",
       "      <td>102</td>\n",
       "      <td>Lex</td>\n",
       "      <td>De Haan</td>\n",
       "      <td>LDEHAAN</td>\n",
       "      <td>515.123.4569</td>\n",
       "      <td>2001-01-13</td>\n",
       "      <td>AD_VP</td>\n",
       "      <td>17000.0</td>\n",
       "      <td>0.0</td>\n",
       "      <td>100.0</td>\n",
       "      <td>90.0</td>\n",
       "    </tr>\n",
       "    <tr>\n",
       "      <th>4</th>\n",
       "      <td>103</td>\n",
       "      <td>Alexander</td>\n",
       "      <td>Hunold</td>\n",
       "      <td>AHUNOLD</td>\n",
       "      <td>590.423.4567</td>\n",
       "      <td>2006-01-03</td>\n",
       "      <td>IT_PROG</td>\n",
       "      <td>9000.0</td>\n",
       "      <td>0.0</td>\n",
       "      <td>102.0</td>\n",
       "      <td>60.0</td>\n",
       "    </tr>\n",
       "    <tr>\n",
       "      <th>5</th>\n",
       "      <td>104</td>\n",
       "      <td>Bruce</td>\n",
       "      <td>Ernst</td>\n",
       "      <td>BERNST</td>\n",
       "      <td>590.423.4568</td>\n",
       "      <td>2007-05-21</td>\n",
       "      <td>IT_PROG</td>\n",
       "      <td>6000.0</td>\n",
       "      <td>0.0</td>\n",
       "      <td>103.0</td>\n",
       "      <td>60.0</td>\n",
       "    </tr>\n",
       "  </tbody>\n",
       "</table>\n",
       "</div>"
      ],
      "text/plain": [
       "   EMPLOYEE_ID FIRST_NAME LAST_NAME     EMAIL  PHONE_NUMBER   HIRE_DATE   JOB_ID   SALARY  \\\n",
       "1          100     Steven      King     SKING  515.123.4567  2003-06-17  AD_PRES  24000.0   \n",
       "2          101      Neena   Kochhar  NKOCHHAR  515.123.4568  2005-09-21    AD_VP  17000.0   \n",
       "3          102        Lex   De Haan   LDEHAAN  515.123.4569  2001-01-13    AD_VP  17000.0   \n",
       "4          103  Alexander    Hunold   AHUNOLD  590.423.4567  2006-01-03  IT_PROG   9000.0   \n",
       "5          104      Bruce     Ernst    BERNST  590.423.4568  2007-05-21  IT_PROG   6000.0   \n",
       "\n",
       "   COMMISSION_PCT MANAGER_ID DEPARTMENT_ID  \n",
       "1             0.0          -          90.0  \n",
       "2             0.0      100.0          90.0  \n",
       "3             0.0      100.0          90.0  \n",
       "4             0.0      102.0          60.0  \n",
       "5             0.0      103.0          60.0  "
      ]
     },
     "execution_count": 95,
     "metadata": {},
     "output_type": "execute_result"
    }
   ],
   "source": [
    "emp.head()"
   ]
  },
  {
   "cell_type": "markdown",
   "id": "2a218778-fa15-4065-9ba0-772a08ed99d7",
   "metadata": {},
   "source": [
    "### 결측치 간단히 삽입하기\n",
    "* 객체명.fillna({컬럼명:대체값, 컬럼명:대체값, ..., inplace=True})"
   ]
  },
  {
   "cell_type": "code",
   "execution_count": 96,
   "id": "17596b58-3fea-4f56-9d04-c77bbcf42a9c",
   "metadata": {},
   "outputs": [],
   "source": [
    "emp.fillna({'COMMISSION_PCT':0, 'MANAGER_ID':'-', 'DEPARTMENT_ID':'-'}, inplace=True)"
   ]
  },
  {
   "cell_type": "markdown",
   "id": "4757d1b7-11a5-4843-8bab-4504570fe381",
   "metadata": {},
   "source": [
    "### 타이타닉 데이터 결측치 처리\n",
    "* seaborn 패키지의 titanic 데이터 이용"
   ]
  },
  {
   "cell_type": "code",
   "execution_count": 97,
   "id": "aea7930d-ee66-4421-8978-f9ab7a98c2dd",
   "metadata": {},
   "outputs": [],
   "source": [
    "import seaborn as sns"
   ]
  },
  {
   "cell_type": "code",
   "execution_count": 154,
   "id": "62fa26e6-3997-495e-97e1-b8de0673e3f6",
   "metadata": {},
   "outputs": [
    {
     "data": {
      "text/html": [
       "<div>\n",
       "<style scoped>\n",
       "    .dataframe tbody tr th:only-of-type {\n",
       "        vertical-align: middle;\n",
       "    }\n",
       "\n",
       "    .dataframe tbody tr th {\n",
       "        vertical-align: top;\n",
       "    }\n",
       "\n",
       "    .dataframe thead th {\n",
       "        text-align: right;\n",
       "    }\n",
       "</style>\n",
       "<table border=\"1\" class=\"dataframe\">\n",
       "  <thead>\n",
       "    <tr style=\"text-align: right;\">\n",
       "      <th></th>\n",
       "      <th>survived</th>\n",
       "      <th>pclass</th>\n",
       "      <th>sex</th>\n",
       "      <th>age</th>\n",
       "      <th>sibsp</th>\n",
       "      <th>parch</th>\n",
       "      <th>fare</th>\n",
       "      <th>embarked</th>\n",
       "      <th>class</th>\n",
       "      <th>who</th>\n",
       "      <th>adult_male</th>\n",
       "      <th>deck</th>\n",
       "      <th>embark_town</th>\n",
       "      <th>alive</th>\n",
       "      <th>alone</th>\n",
       "    </tr>\n",
       "  </thead>\n",
       "  <tbody>\n",
       "    <tr>\n",
       "      <th>0</th>\n",
       "      <td>0</td>\n",
       "      <td>3</td>\n",
       "      <td>male</td>\n",
       "      <td>22.0</td>\n",
       "      <td>1</td>\n",
       "      <td>0</td>\n",
       "      <td>7.2500</td>\n",
       "      <td>S</td>\n",
       "      <td>Third</td>\n",
       "      <td>man</td>\n",
       "      <td>True</td>\n",
       "      <td>NaN</td>\n",
       "      <td>Southampton</td>\n",
       "      <td>no</td>\n",
       "      <td>False</td>\n",
       "    </tr>\n",
       "    <tr>\n",
       "      <th>1</th>\n",
       "      <td>1</td>\n",
       "      <td>1</td>\n",
       "      <td>female</td>\n",
       "      <td>38.0</td>\n",
       "      <td>1</td>\n",
       "      <td>0</td>\n",
       "      <td>71.2833</td>\n",
       "      <td>C</td>\n",
       "      <td>First</td>\n",
       "      <td>woman</td>\n",
       "      <td>False</td>\n",
       "      <td>C</td>\n",
       "      <td>Cherbourg</td>\n",
       "      <td>yes</td>\n",
       "      <td>False</td>\n",
       "    </tr>\n",
       "    <tr>\n",
       "      <th>2</th>\n",
       "      <td>1</td>\n",
       "      <td>3</td>\n",
       "      <td>female</td>\n",
       "      <td>26.0</td>\n",
       "      <td>0</td>\n",
       "      <td>0</td>\n",
       "      <td>7.9250</td>\n",
       "      <td>S</td>\n",
       "      <td>Third</td>\n",
       "      <td>woman</td>\n",
       "      <td>False</td>\n",
       "      <td>NaN</td>\n",
       "      <td>Southampton</td>\n",
       "      <td>yes</td>\n",
       "      <td>True</td>\n",
       "    </tr>\n",
       "    <tr>\n",
       "      <th>3</th>\n",
       "      <td>1</td>\n",
       "      <td>1</td>\n",
       "      <td>female</td>\n",
       "      <td>35.0</td>\n",
       "      <td>1</td>\n",
       "      <td>0</td>\n",
       "      <td>53.1000</td>\n",
       "      <td>S</td>\n",
       "      <td>First</td>\n",
       "      <td>woman</td>\n",
       "      <td>False</td>\n",
       "      <td>C</td>\n",
       "      <td>Southampton</td>\n",
       "      <td>yes</td>\n",
       "      <td>False</td>\n",
       "    </tr>\n",
       "    <tr>\n",
       "      <th>4</th>\n",
       "      <td>0</td>\n",
       "      <td>3</td>\n",
       "      <td>male</td>\n",
       "      <td>35.0</td>\n",
       "      <td>0</td>\n",
       "      <td>0</td>\n",
       "      <td>8.0500</td>\n",
       "      <td>S</td>\n",
       "      <td>Third</td>\n",
       "      <td>man</td>\n",
       "      <td>True</td>\n",
       "      <td>NaN</td>\n",
       "      <td>Southampton</td>\n",
       "      <td>no</td>\n",
       "      <td>True</td>\n",
       "    </tr>\n",
       "  </tbody>\n",
       "</table>\n",
       "</div>"
      ],
      "text/plain": [
       "   survived  pclass     sex   age  sibsp  parch     fare embarked  class    who  adult_male deck  \\\n",
       "0         0       3    male  22.0      1      0   7.2500        S  Third    man        True  NaN   \n",
       "1         1       1  female  38.0      1      0  71.2833        C  First  woman       False    C   \n",
       "2         1       3  female  26.0      0      0   7.9250        S  Third  woman       False  NaN   \n",
       "3         1       1  female  35.0      1      0  53.1000        S  First  woman       False    C   \n",
       "4         0       3    male  35.0      0      0   8.0500        S  Third    man        True  NaN   \n",
       "\n",
       "   embark_town alive  alone  \n",
       "0  Southampton    no  False  \n",
       "1    Cherbourg   yes  False  \n",
       "2  Southampton   yes   True  \n",
       "3  Southampton   yes  False  \n",
       "4  Southampton    no   True  "
      ]
     },
     "execution_count": 154,
     "metadata": {},
     "output_type": "execute_result"
    }
   ],
   "source": [
    "titanic = sns.load_dataset('titanic')\n",
    "titanic.head()"
   ]
  },
  {
   "cell_type": "code",
   "execution_count": 143,
   "id": "f8ffc634-3f34-4164-8ed9-1424d19db998",
   "metadata": {},
   "outputs": [
    {
     "name": "stdout",
     "output_type": "stream",
     "text": [
      "<class 'pandas.core.frame.DataFrame'>\n",
      "RangeIndex: 891 entries, 0 to 890\n",
      "Data columns (total 15 columns):\n",
      " #   Column       Non-Null Count  Dtype   \n",
      "---  ------       --------------  -----   \n",
      " 0   survived     891 non-null    int64   \n",
      " 1   pclass       891 non-null    int64   \n",
      " 2   sex          891 non-null    object  \n",
      " 3   age          714 non-null    float64 \n",
      " 4   sibsp        891 non-null    int64   \n",
      " 5   parch        891 non-null    int64   \n",
      " 6   fare         891 non-null    float64 \n",
      " 7   embarked     889 non-null    object  \n",
      " 8   class        891 non-null    category\n",
      " 9   who          891 non-null    object  \n",
      " 10  adult_male   891 non-null    bool    \n",
      " 11  deck         203 non-null    category\n",
      " 12  embark_town  889 non-null    object  \n",
      " 13  alive        891 non-null    object  \n",
      " 14  alone        891 non-null    bool    \n",
      "dtypes: bool(2), category(2), float64(2), int64(4), object(5)\n",
      "memory usage: 80.7+ KB\n"
     ]
    }
   ],
   "source": [
    "titanic.info()"
   ]
  },
  {
   "cell_type": "code",
   "execution_count": 144,
   "id": "6de33779-779c-47b2-870b-dc51a1401078",
   "metadata": {},
   "outputs": [
    {
     "data": {
      "text/html": [
       "<div>\n",
       "<style scoped>\n",
       "    .dataframe tbody tr th:only-of-type {\n",
       "        vertical-align: middle;\n",
       "    }\n",
       "\n",
       "    .dataframe tbody tr th {\n",
       "        vertical-align: top;\n",
       "    }\n",
       "\n",
       "    .dataframe thead th {\n",
       "        text-align: right;\n",
       "    }\n",
       "</style>\n",
       "<table border=\"1\" class=\"dataframe\">\n",
       "  <thead>\n",
       "    <tr style=\"text-align: right;\">\n",
       "      <th></th>\n",
       "      <th>age</th>\n",
       "      <th>sibsp</th>\n",
       "      <th>parch</th>\n",
       "      <th>fare</th>\n",
       "    </tr>\n",
       "  </thead>\n",
       "  <tbody>\n",
       "    <tr>\n",
       "      <th>count</th>\n",
       "      <td>714.000000</td>\n",
       "      <td>891.000000</td>\n",
       "      <td>891.000000</td>\n",
       "      <td>891.000000</td>\n",
       "    </tr>\n",
       "    <tr>\n",
       "      <th>mean</th>\n",
       "      <td>29.699118</td>\n",
       "      <td>0.523008</td>\n",
       "      <td>0.381594</td>\n",
       "      <td>32.204208</td>\n",
       "    </tr>\n",
       "    <tr>\n",
       "      <th>std</th>\n",
       "      <td>14.526497</td>\n",
       "      <td>1.102743</td>\n",
       "      <td>0.806057</td>\n",
       "      <td>49.693429</td>\n",
       "    </tr>\n",
       "    <tr>\n",
       "      <th>min</th>\n",
       "      <td>0.420000</td>\n",
       "      <td>0.000000</td>\n",
       "      <td>0.000000</td>\n",
       "      <td>0.000000</td>\n",
       "    </tr>\n",
       "    <tr>\n",
       "      <th>25%</th>\n",
       "      <td>20.125000</td>\n",
       "      <td>0.000000</td>\n",
       "      <td>0.000000</td>\n",
       "      <td>7.910400</td>\n",
       "    </tr>\n",
       "    <tr>\n",
       "      <th>50%</th>\n",
       "      <td>28.000000</td>\n",
       "      <td>0.000000</td>\n",
       "      <td>0.000000</td>\n",
       "      <td>14.454200</td>\n",
       "    </tr>\n",
       "    <tr>\n",
       "      <th>75%</th>\n",
       "      <td>38.000000</td>\n",
       "      <td>1.000000</td>\n",
       "      <td>0.000000</td>\n",
       "      <td>31.000000</td>\n",
       "    </tr>\n",
       "    <tr>\n",
       "      <th>max</th>\n",
       "      <td>80.000000</td>\n",
       "      <td>8.000000</td>\n",
       "      <td>6.000000</td>\n",
       "      <td>512.329200</td>\n",
       "    </tr>\n",
       "  </tbody>\n",
       "</table>\n",
       "</div>"
      ],
      "text/plain": [
       "              age       sibsp       parch        fare\n",
       "count  714.000000  891.000000  891.000000  891.000000\n",
       "mean    29.699118    0.523008    0.381594   32.204208\n",
       "std     14.526497    1.102743    0.806057   49.693429\n",
       "min      0.420000    0.000000    0.000000    0.000000\n",
       "25%     20.125000    0.000000    0.000000    7.910400\n",
       "50%     28.000000    0.000000    0.000000   14.454200\n",
       "75%     38.000000    1.000000    0.000000   31.000000\n",
       "max     80.000000    8.000000    6.000000  512.329200"
      ]
     },
     "execution_count": 144,
     "metadata": {},
     "output_type": "execute_result"
    }
   ],
   "source": [
    "titanic[['age','sibsp','parch','fare']].describe()"
   ]
  },
  {
   "cell_type": "code",
   "execution_count": 150,
   "id": "bc0f134e-3969-4aa6-be10-fbff9dd4a02f",
   "metadata": {},
   "outputs": [
    {
     "data": {
      "text/plain": [
       "age\n",
       "False    891\n",
       "Name: count, dtype: int64"
      ]
     },
     "execution_count": 150,
     "metadata": {},
     "output_type": "execute_result"
    }
   ],
   "source": [
    "age = titanic.age.median()\n",
    "titanic.age.fillna(age, inplace=True)\n",
    "titanic.age.isnull().value_counts()"
   ]
  },
  {
   "cell_type": "markdown",
   "id": "0a6e95ac-712a-4f75-b6f2-a77144a60422",
   "metadata": {},
   "source": [
    "### 결측치 컬럼 제거\n",
    "* 객체.drop(대상컬럼, axis=1)"
   ]
  },
  {
   "cell_type": "code",
   "execution_count": 155,
   "id": "a69e87a7-a44a-4a27-abf5-fc01fd6c7969",
   "metadata": {},
   "outputs": [
    {
     "data": {
      "text/html": [
       "<div>\n",
       "<style scoped>\n",
       "    .dataframe tbody tr th:only-of-type {\n",
       "        vertical-align: middle;\n",
       "    }\n",
       "\n",
       "    .dataframe tbody tr th {\n",
       "        vertical-align: top;\n",
       "    }\n",
       "\n",
       "    .dataframe thead th {\n",
       "        text-align: right;\n",
       "    }\n",
       "</style>\n",
       "<table border=\"1\" class=\"dataframe\">\n",
       "  <thead>\n",
       "    <tr style=\"text-align: right;\">\n",
       "      <th></th>\n",
       "      <th>survived</th>\n",
       "      <th>pclass</th>\n",
       "      <th>sex</th>\n",
       "      <th>age</th>\n",
       "      <th>sibsp</th>\n",
       "      <th>parch</th>\n",
       "      <th>fare</th>\n",
       "      <th>embarked</th>\n",
       "      <th>class</th>\n",
       "      <th>who</th>\n",
       "      <th>adult_male</th>\n",
       "      <th>embark_town</th>\n",
       "      <th>alive</th>\n",
       "      <th>alone</th>\n",
       "    </tr>\n",
       "  </thead>\n",
       "  <tbody>\n",
       "    <tr>\n",
       "      <th>0</th>\n",
       "      <td>0</td>\n",
       "      <td>3</td>\n",
       "      <td>male</td>\n",
       "      <td>22.0</td>\n",
       "      <td>1</td>\n",
       "      <td>0</td>\n",
       "      <td>7.2500</td>\n",
       "      <td>S</td>\n",
       "      <td>Third</td>\n",
       "      <td>man</td>\n",
       "      <td>True</td>\n",
       "      <td>Southampton</td>\n",
       "      <td>no</td>\n",
       "      <td>False</td>\n",
       "    </tr>\n",
       "    <tr>\n",
       "      <th>1</th>\n",
       "      <td>1</td>\n",
       "      <td>1</td>\n",
       "      <td>female</td>\n",
       "      <td>38.0</td>\n",
       "      <td>1</td>\n",
       "      <td>0</td>\n",
       "      <td>71.2833</td>\n",
       "      <td>C</td>\n",
       "      <td>First</td>\n",
       "      <td>woman</td>\n",
       "      <td>False</td>\n",
       "      <td>Cherbourg</td>\n",
       "      <td>yes</td>\n",
       "      <td>False</td>\n",
       "    </tr>\n",
       "    <tr>\n",
       "      <th>2</th>\n",
       "      <td>1</td>\n",
       "      <td>3</td>\n",
       "      <td>female</td>\n",
       "      <td>26.0</td>\n",
       "      <td>0</td>\n",
       "      <td>0</td>\n",
       "      <td>7.9250</td>\n",
       "      <td>S</td>\n",
       "      <td>Third</td>\n",
       "      <td>woman</td>\n",
       "      <td>False</td>\n",
       "      <td>Southampton</td>\n",
       "      <td>yes</td>\n",
       "      <td>True</td>\n",
       "    </tr>\n",
       "    <tr>\n",
       "      <th>3</th>\n",
       "      <td>1</td>\n",
       "      <td>1</td>\n",
       "      <td>female</td>\n",
       "      <td>35.0</td>\n",
       "      <td>1</td>\n",
       "      <td>0</td>\n",
       "      <td>53.1000</td>\n",
       "      <td>S</td>\n",
       "      <td>First</td>\n",
       "      <td>woman</td>\n",
       "      <td>False</td>\n",
       "      <td>Southampton</td>\n",
       "      <td>yes</td>\n",
       "      <td>False</td>\n",
       "    </tr>\n",
       "    <tr>\n",
       "      <th>4</th>\n",
       "      <td>0</td>\n",
       "      <td>3</td>\n",
       "      <td>male</td>\n",
       "      <td>35.0</td>\n",
       "      <td>0</td>\n",
       "      <td>0</td>\n",
       "      <td>8.0500</td>\n",
       "      <td>S</td>\n",
       "      <td>Third</td>\n",
       "      <td>man</td>\n",
       "      <td>True</td>\n",
       "      <td>Southampton</td>\n",
       "      <td>no</td>\n",
       "      <td>True</td>\n",
       "    </tr>\n",
       "  </tbody>\n",
       "</table>\n",
       "</div>"
      ],
      "text/plain": [
       "   survived  pclass     sex   age  sibsp  parch     fare embarked  class    who  adult_male  \\\n",
       "0         0       3    male  22.0      1      0   7.2500        S  Third    man        True   \n",
       "1         1       1  female  38.0      1      0  71.2833        C  First  woman       False   \n",
       "2         1       3  female  26.0      0      0   7.9250        S  Third  woman       False   \n",
       "3         1       1  female  35.0      1      0  53.1000        S  First  woman       False   \n",
       "4         0       3    male  35.0      0      0   8.0500        S  Third    man        True   \n",
       "\n",
       "   embark_town alive  alone  \n",
       "0  Southampton    no  False  \n",
       "1    Cherbourg   yes  False  \n",
       "2  Southampton   yes   True  \n",
       "3  Southampton   yes  False  \n",
       "4  Southampton    no   True  "
      ]
     },
     "execution_count": 155,
     "metadata": {},
     "output_type": "execute_result"
    }
   ],
   "source": [
    "# deck 컬럼은 결측치가 너무 많아서 컬럼 자체를 제거하기\n",
    "titanic.drop(['deck'], axis=1, inplace=True)\n",
    "titanic.head()"
   ]
  },
  {
   "cell_type": "code",
   "execution_count": 156,
   "id": "331bc898-a211-4a4a-b7d3-3c3078615906",
   "metadata": {},
   "outputs": [
    {
     "data": {
      "text/plain": [
       "survived  pclass  sex    age    sibsp  parch  fare   embarked  class  who    adult_male  embark_town  alive  alone\n",
       "False     False   False  False  False  False  False  False     False  False  False       False        False  False    712\n",
       "Name: count, dtype: int64"
      ]
     },
     "execution_count": 156,
     "metadata": {},
     "output_type": "execute_result"
    }
   ],
   "source": [
    "# 결측치 행 제거\n",
    "titanic.dropna(inplace=True)\n",
    "titanic.isnull().value_counts()"
   ]
  },
  {
   "cell_type": "code",
   "execution_count": 157,
   "id": "24c5a762-20ec-4855-981a-c2c23c31a437",
   "metadata": {},
   "outputs": [],
   "source": [
    "# titanic 객체를 파일로 저장\n",
    "titanic.to_csv('./data/sns_titanic.csv', index=False)"
   ]
  }
 ],
 "metadata": {
  "kernelspec": {
   "display_name": "Python 3 (ipykernel)",
   "language": "python",
   "name": "python3"
  },
  "language_info": {
   "codemirror_mode": {
    "name": "ipython",
    "version": 3
   },
   "file_extension": ".py",
   "mimetype": "text/x-python",
   "name": "python",
   "nbconvert_exporter": "python",
   "pygments_lexer": "ipython3",
   "version": "3.11.4"
  }
 },
 "nbformat": 4,
 "nbformat_minor": 5
}

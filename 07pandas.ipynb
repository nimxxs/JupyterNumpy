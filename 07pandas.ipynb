{
 "cells": [
  {
   "cell_type": "code",
   "execution_count": 1,
   "id": "615f50ee-506e-4db4-a8a6-1a4fb1b6d557",
   "metadata": {},
   "outputs": [],
   "source": [
    "import numpy as np\n",
    "import pandas as pd"
   ]
  },
  {
   "cell_type": "code",
   "execution_count": 2,
   "id": "b58f2b16-cd67-4c4c-9be0-3e151156248a",
   "metadata": {},
   "outputs": [],
   "source": [
    "pd.set_option('display.max_columns', 50)\n",
    "pd.set_option('display.width', 100)\n",
    "pd.set_option('display.max_colwidth', 250)"
   ]
  },
  {
   "cell_type": "markdown",
   "id": "96d05b08-c83b-4da3-9580-af8b15b7728a",
   "metadata": {},
   "source": [
    "## 데이터프레임 필터링\n",
    "* 조건을 만족하는 특정 데이터를 추출하려면\n",
    "* []에 조건연산자를 사용한 조건식을 작성하면 됨"
   ]
  },
  {
   "cell_type": "code",
   "execution_count": 3,
   "id": "eb6e6a87-8dc7-4194-a508-3c3543b586fe",
   "metadata": {},
   "outputs": [
    {
     "data": {
      "text/html": [
       "<div>\n",
       "<style scoped>\n",
       "    .dataframe tbody tr th:only-of-type {\n",
       "        vertical-align: middle;\n",
       "    }\n",
       "\n",
       "    .dataframe tbody tr th {\n",
       "        vertical-align: top;\n",
       "    }\n",
       "\n",
       "    .dataframe thead th {\n",
       "        text-align: right;\n",
       "    }\n",
       "</style>\n",
       "<table border=\"1\" class=\"dataframe\">\n",
       "  <thead>\n",
       "    <tr style=\"text-align: right;\">\n",
       "      <th></th>\n",
       "      <th>prodid</th>\n",
       "      <th>prodname</th>\n",
       "      <th>stock</th>\n",
       "      <th>price</th>\n",
       "      <th>maker</th>\n",
       "    </tr>\n",
       "  </thead>\n",
       "  <tbody>\n",
       "    <tr>\n",
       "      <th>0</th>\n",
       "      <td>p01</td>\n",
       "      <td>그냥만두</td>\n",
       "      <td>5000</td>\n",
       "      <td>4500</td>\n",
       "      <td>대한식품</td>\n",
       "    </tr>\n",
       "    <tr>\n",
       "      <th>1</th>\n",
       "      <td>p02</td>\n",
       "      <td>매운쫄면</td>\n",
       "      <td>2500</td>\n",
       "      <td>5500</td>\n",
       "      <td>민국푸드</td>\n",
       "    </tr>\n",
       "    <tr>\n",
       "      <th>2</th>\n",
       "      <td>p03</td>\n",
       "      <td>쿵떡파이</td>\n",
       "      <td>3600</td>\n",
       "      <td>2600</td>\n",
       "      <td>한빛제과</td>\n",
       "    </tr>\n",
       "    <tr>\n",
       "      <th>3</th>\n",
       "      <td>p04</td>\n",
       "      <td>맛난초콜렛</td>\n",
       "      <td>1250</td>\n",
       "      <td>2500</td>\n",
       "      <td>한빛제과</td>\n",
       "    </tr>\n",
       "    <tr>\n",
       "      <th>4</th>\n",
       "      <td>p05</td>\n",
       "      <td>얼큰라면</td>\n",
       "      <td>2200</td>\n",
       "      <td>1200</td>\n",
       "      <td>대한식품</td>\n",
       "    </tr>\n",
       "  </tbody>\n",
       "</table>\n",
       "</div>"
      ],
      "text/plain": [
       "  prodid prodname  stock  price maker\n",
       "0    p01     그냥만두   5000   4500  대한식품\n",
       "1    p02     매운쫄면   2500   5500  민국푸드\n",
       "2    p03     쿵떡파이   3600   2600  한빛제과\n",
       "3    p04    맛난초콜렛   1250   2500  한빛제과\n",
       "4    p05     얼큰라면   2200   1200  대한식품"
      ]
     },
     "execution_count": 3,
     "metadata": {},
     "output_type": "execute_result"
    }
   ],
   "source": [
    "prods = pd.read_csv('./data/Products.csv')\n",
    "prods.head()"
   ]
  },
  {
   "cell_type": "code",
   "execution_count": 4,
   "id": "8f9335b5-cba4-4666-aece-14d77258d7d6",
   "metadata": {
    "collapsed": true,
    "jupyter": {
     "outputs_hidden": true
    }
   },
   "outputs": [
    {
     "data": {
      "text/html": [
       "<div>\n",
       "<style scoped>\n",
       "    .dataframe tbody tr th:only-of-type {\n",
       "        vertical-align: middle;\n",
       "    }\n",
       "\n",
       "    .dataframe tbody tr th {\n",
       "        vertical-align: top;\n",
       "    }\n",
       "\n",
       "    .dataframe thead th {\n",
       "        text-align: right;\n",
       "    }\n",
       "</style>\n",
       "<table border=\"1\" class=\"dataframe\">\n",
       "  <thead>\n",
       "    <tr style=\"text-align: right;\">\n",
       "      <th></th>\n",
       "      <th>prodid</th>\n",
       "      <th>prodname</th>\n",
       "      <th>stock</th>\n",
       "      <th>price</th>\n",
       "      <th>maker</th>\n",
       "    </tr>\n",
       "  </thead>\n",
       "  <tbody>\n",
       "    <tr>\n",
       "      <th>2</th>\n",
       "      <td>p03</td>\n",
       "      <td>쿵떡파이</td>\n",
       "      <td>3600</td>\n",
       "      <td>2600</td>\n",
       "      <td>한빛제과</td>\n",
       "    </tr>\n",
       "    <tr>\n",
       "      <th>3</th>\n",
       "      <td>p04</td>\n",
       "      <td>맛난초콜렛</td>\n",
       "      <td>1250</td>\n",
       "      <td>2500</td>\n",
       "      <td>한빛제과</td>\n",
       "    </tr>\n",
       "    <tr>\n",
       "      <th>6</th>\n",
       "      <td>p07</td>\n",
       "      <td>달콤비스켓</td>\n",
       "      <td>1650</td>\n",
       "      <td>1500</td>\n",
       "      <td>한빛제과</td>\n",
       "    </tr>\n",
       "  </tbody>\n",
       "</table>\n",
       "</div>"
      ],
      "text/plain": [
       "  prodid prodname  stock  price maker\n",
       "2    p03     쿵떡파이   3600   2600  한빛제과\n",
       "3    p04    맛난초콜렛   1250   2500  한빛제과\n",
       "6    p07    달콤비스켓   1650   1500  한빛제과"
      ]
     },
     "execution_count": 4,
     "metadata": {},
     "output_type": "execute_result"
    }
   ],
   "source": [
    "# 제조업체가 한빛제과인 상품, 가격 추출\n",
    "find = prods.maker == '한빛제과'\n",
    "prods[find]"
   ]
  },
  {
   "cell_type": "code",
   "execution_count": 9,
   "id": "139324f3-db29-4e01-8acf-8557cb145e59",
   "metadata": {
    "collapsed": true,
    "jupyter": {
     "outputs_hidden": true
    }
   },
   "outputs": [
    {
     "data": {
      "text/plain": [
       "2     쿵떡파이\n",
       "3    맛난초콜렛\n",
       "6    달콤비스켓\n",
       "Name: prodname, dtype: object"
      ]
     },
     "execution_count": 9,
     "metadata": {},
     "output_type": "execute_result"
    }
   ],
   "source": [
    "# 조건과 일치하는 특정 컬럼 출력\n",
    "prods[find]['prodname']"
   ]
  },
  {
   "cell_type": "code",
   "execution_count": 10,
   "id": "7aef4ff0-fd06-4c96-865c-f7d04c795e11",
   "metadata": {
    "collapsed": true,
    "jupyter": {
     "outputs_hidden": true
    }
   },
   "outputs": [
    {
     "data": {
      "text/html": [
       "<div>\n",
       "<style scoped>\n",
       "    .dataframe tbody tr th:only-of-type {\n",
       "        vertical-align: middle;\n",
       "    }\n",
       "\n",
       "    .dataframe tbody tr th {\n",
       "        vertical-align: top;\n",
       "    }\n",
       "\n",
       "    .dataframe thead th {\n",
       "        text-align: right;\n",
       "    }\n",
       "</style>\n",
       "<table border=\"1\" class=\"dataframe\">\n",
       "  <thead>\n",
       "    <tr style=\"text-align: right;\">\n",
       "      <th></th>\n",
       "      <th>prodname</th>\n",
       "      <th>price</th>\n",
       "    </tr>\n",
       "  </thead>\n",
       "  <tbody>\n",
       "    <tr>\n",
       "      <th>2</th>\n",
       "      <td>쿵떡파이</td>\n",
       "      <td>2600</td>\n",
       "    </tr>\n",
       "    <tr>\n",
       "      <th>3</th>\n",
       "      <td>맛난초콜렛</td>\n",
       "      <td>2500</td>\n",
       "    </tr>\n",
       "    <tr>\n",
       "      <th>6</th>\n",
       "      <td>달콤비스켓</td>\n",
       "      <td>1500</td>\n",
       "    </tr>\n",
       "  </tbody>\n",
       "</table>\n",
       "</div>"
      ],
      "text/plain": [
       "  prodname  price\n",
       "2     쿵떡파이   2600\n",
       "3    맛난초콜렛   2500\n",
       "6    달콤비스켓   1500"
      ]
     },
     "execution_count": 10,
     "metadata": {},
     "output_type": "execute_result"
    }
   ],
   "source": [
    "# 조건과 일치하는 특정 컬럼들 출력\n",
    "prods[find][['prodname','price']]"
   ]
  },
  {
   "cell_type": "code",
   "execution_count": 18,
   "id": "bab82ce9-a23c-4bea-9840-6bc287ae4dbb",
   "metadata": {},
   "outputs": [
    {
     "data": {
      "text/html": [
       "<div>\n",
       "<style scoped>\n",
       "    .dataframe tbody tr th:only-of-type {\n",
       "        vertical-align: middle;\n",
       "    }\n",
       "\n",
       "    .dataframe tbody tr th {\n",
       "        vertical-align: top;\n",
       "    }\n",
       "\n",
       "    .dataframe thead th {\n",
       "        text-align: right;\n",
       "    }\n",
       "</style>\n",
       "<table border=\"1\" class=\"dataframe\">\n",
       "  <thead>\n",
       "    <tr style=\"text-align: right;\">\n",
       "      <th></th>\n",
       "      <th>prodname</th>\n",
       "      <th>price</th>\n",
       "    </tr>\n",
       "  </thead>\n",
       "  <tbody>\n",
       "    <tr>\n",
       "      <th>1</th>\n",
       "      <td>매운쫄면</td>\n",
       "      <td>5500</td>\n",
       "    </tr>\n",
       "  </tbody>\n",
       "</table>\n",
       "</div>"
      ],
      "text/plain": [
       "  prodname  price\n",
       "1     매운쫄면   5500"
      ]
     },
     "execution_count": 18,
     "metadata": {},
     "output_type": "execute_result"
    }
   ],
   "source": [
    "# 민국푸드에서 생산중인 상품중 가격이 3000원 이상인 상품과 가격은?\n",
    "find = (prods.maker == '민국푸드') & (prods.price >= 3000)\n",
    "prods[find][['prodname','price']]"
   ]
  },
  {
   "cell_type": "markdown",
   "id": "2c7a2ed8-fd5f-42c5-823a-2d3977e76d99",
   "metadata": {},
   "source": [
    "#### 핸드폰 사용현황 데이터에 대한 블리언 인덱싱"
   ]
  },
  {
   "cell_type": "code",
   "execution_count": 19,
   "id": "d1651bdb-1247-48da-8a37-17569fa3cd6e",
   "metadata": {},
   "outputs": [
    {
     "data": {
      "text/html": [
       "<div>\n",
       "<style scoped>\n",
       "    .dataframe tbody tr th:only-of-type {\n",
       "        vertical-align: middle;\n",
       "    }\n",
       "\n",
       "    .dataframe tbody tr th {\n",
       "        vertical-align: top;\n",
       "    }\n",
       "\n",
       "    .dataframe thead th {\n",
       "        text-align: right;\n",
       "    }\n",
       "</style>\n",
       "<table border=\"1\" class=\"dataframe\">\n",
       "  <thead>\n",
       "    <tr style=\"text-align: right;\">\n",
       "      <th></th>\n",
       "      <th>makeyear</th>\n",
       "      <th>buyyear</th>\n",
       "      <th>dispsize</th>\n",
       "      <th>age</th>\n",
       "      <th>height</th>\n",
       "      <th>weight</th>\n",
       "      <th>phonetime</th>\n",
       "      <th>pctime</th>\n",
       "      <th>lteamount</th>\n",
       "    </tr>\n",
       "  </thead>\n",
       "  <tbody>\n",
       "    <tr>\n",
       "      <th>0</th>\n",
       "      <td>2015</td>\n",
       "      <td>2015</td>\n",
       "      <td>5.0</td>\n",
       "      <td>45</td>\n",
       "      <td>173</td>\n",
       "      <td>75</td>\n",
       "      <td>60</td>\n",
       "      <td>500</td>\n",
       "      <td>100</td>\n",
       "    </tr>\n",
       "    <tr>\n",
       "      <th>1</th>\n",
       "      <td>2014</td>\n",
       "      <td>2015</td>\n",
       "      <td>4.5</td>\n",
       "      <td>27</td>\n",
       "      <td>176</td>\n",
       "      <td>59</td>\n",
       "      <td>70</td>\n",
       "      <td>30</td>\n",
       "      <td>50</td>\n",
       "    </tr>\n",
       "    <tr>\n",
       "      <th>2</th>\n",
       "      <td>2015</td>\n",
       "      <td>2015</td>\n",
       "      <td>5.0</td>\n",
       "      <td>29</td>\n",
       "      <td>183</td>\n",
       "      <td>65</td>\n",
       "      <td>120</td>\n",
       "      <td>300</td>\n",
       "      <td>200</td>\n",
       "    </tr>\n",
       "    <tr>\n",
       "      <th>3</th>\n",
       "      <td>2015</td>\n",
       "      <td>2016</td>\n",
       "      <td>5.0</td>\n",
       "      <td>28</td>\n",
       "      <td>172</td>\n",
       "      <td>63</td>\n",
       "      <td>80</td>\n",
       "      <td>60</td>\n",
       "      <td>190</td>\n",
       "    </tr>\n",
       "    <tr>\n",
       "      <th>4</th>\n",
       "      <td>2015</td>\n",
       "      <td>2015</td>\n",
       "      <td>5.0</td>\n",
       "      <td>24</td>\n",
       "      <td>179</td>\n",
       "      <td>65</td>\n",
       "      <td>90</td>\n",
       "      <td>30</td>\n",
       "      <td>500</td>\n",
       "    </tr>\n",
       "  </tbody>\n",
       "</table>\n",
       "</div>"
      ],
      "text/plain": [
       "   makeyear  buyyear  dispsize  age  height  weight  phonetime  pctime  lteamount\n",
       "0      2015     2015       5.0   45     173      75         60     500        100\n",
       "1      2014     2015       4.5   27     176      59         70      30         50\n",
       "2      2015     2015       5.0   29     183      65        120     300        200\n",
       "3      2015     2016       5.0   28     172      63         80      60        190\n",
       "4      2015     2015       5.0   24     179      65         90      30        500"
      ]
     },
     "execution_count": 19,
     "metadata": {},
     "output_type": "execute_result"
    }
   ],
   "source": [
    "phone = pd.read_csv('./data/phone02.csv')\n",
    "phone.head()"
   ]
  },
  {
   "cell_type": "code",
   "execution_count": 28,
   "id": "449c5e41-92a8-4b20-829c-aae69dce15df",
   "metadata": {
    "collapsed": true,
    "jupyter": {
     "outputs_hidden": true
    }
   },
   "outputs": [
    {
     "data": {
      "text/html": [
       "<div>\n",
       "<style scoped>\n",
       "    .dataframe tbody tr th:only-of-type {\n",
       "        vertical-align: middle;\n",
       "    }\n",
       "\n",
       "    .dataframe tbody tr th {\n",
       "        vertical-align: top;\n",
       "    }\n",
       "\n",
       "    .dataframe thead th {\n",
       "        text-align: right;\n",
       "    }\n",
       "</style>\n",
       "<table border=\"1\" class=\"dataframe\">\n",
       "  <thead>\n",
       "    <tr style=\"text-align: right;\">\n",
       "      <th></th>\n",
       "      <th>makeyear</th>\n",
       "      <th>buyyear</th>\n",
       "      <th>dispsize</th>\n",
       "      <th>age</th>\n",
       "      <th>height</th>\n",
       "      <th>weight</th>\n",
       "      <th>phonetime</th>\n",
       "      <th>pctime</th>\n",
       "      <th>lteamount</th>\n",
       "    </tr>\n",
       "  </thead>\n",
       "  <tbody>\n",
       "    <tr>\n",
       "      <th>0</th>\n",
       "      <td>2015</td>\n",
       "      <td>2015</td>\n",
       "      <td>5.0</td>\n",
       "      <td>45</td>\n",
       "      <td>173</td>\n",
       "      <td>75</td>\n",
       "      <td>60</td>\n",
       "      <td>500</td>\n",
       "      <td>100</td>\n",
       "    </tr>\n",
       "    <tr>\n",
       "      <th>2</th>\n",
       "      <td>2015</td>\n",
       "      <td>2015</td>\n",
       "      <td>5.0</td>\n",
       "      <td>29</td>\n",
       "      <td>183</td>\n",
       "      <td>65</td>\n",
       "      <td>120</td>\n",
       "      <td>300</td>\n",
       "      <td>200</td>\n",
       "    </tr>\n",
       "    <tr>\n",
       "      <th>3</th>\n",
       "      <td>2015</td>\n",
       "      <td>2016</td>\n",
       "      <td>5.0</td>\n",
       "      <td>28</td>\n",
       "      <td>172</td>\n",
       "      <td>63</td>\n",
       "      <td>80</td>\n",
       "      <td>60</td>\n",
       "      <td>190</td>\n",
       "    </tr>\n",
       "    <tr>\n",
       "      <th>4</th>\n",
       "      <td>2015</td>\n",
       "      <td>2015</td>\n",
       "      <td>5.0</td>\n",
       "      <td>24</td>\n",
       "      <td>179</td>\n",
       "      <td>65</td>\n",
       "      <td>90</td>\n",
       "      <td>30</td>\n",
       "      <td>500</td>\n",
       "    </tr>\n",
       "    <tr>\n",
       "      <th>9</th>\n",
       "      <td>2015</td>\n",
       "      <td>2014</td>\n",
       "      <td>5.0</td>\n",
       "      <td>42</td>\n",
       "      <td>177</td>\n",
       "      <td>79</td>\n",
       "      <td>40</td>\n",
       "      <td>480</td>\n",
       "      <td>30</td>\n",
       "    </tr>\n",
       "  </tbody>\n",
       "</table>\n",
       "</div>"
      ],
      "text/plain": [
       "   makeyear  buyyear  dispsize  age  height  weight  phonetime  pctime  lteamount\n",
       "0      2015     2015       5.0   45     173      75         60     500        100\n",
       "2      2015     2015       5.0   29     183      65        120     300        200\n",
       "3      2015     2016       5.0   28     172      63         80      60        190\n",
       "4      2015     2015       5.0   24     179      65         90      30        500\n",
       "9      2015     2014       5.0   42     177      79         40     480         30"
      ]
     },
     "execution_count": 28,
     "metadata": {},
     "output_type": "execute_result"
    }
   ],
   "source": [
    "# 1. 제조년이 2015년인 핸드폰을 사용하는 소비자는?\n",
    "find = phone.makeyear == 2015\n",
    "phone[find].head()"
   ]
  },
  {
   "cell_type": "code",
   "execution_count": 29,
   "id": "604813ac-e420-42ee-b4db-e34bcd0d0ea0",
   "metadata": {
    "collapsed": true,
    "jupyter": {
     "outputs_hidden": true
    }
   },
   "outputs": [
    {
     "data": {
      "text/html": [
       "<div>\n",
       "<style scoped>\n",
       "    .dataframe tbody tr th:only-of-type {\n",
       "        vertical-align: middle;\n",
       "    }\n",
       "\n",
       "    .dataframe tbody tr th {\n",
       "        vertical-align: top;\n",
       "    }\n",
       "\n",
       "    .dataframe thead th {\n",
       "        text-align: right;\n",
       "    }\n",
       "</style>\n",
       "<table border=\"1\" class=\"dataframe\">\n",
       "  <thead>\n",
       "    <tr style=\"text-align: right;\">\n",
       "      <th></th>\n",
       "      <th>makeyear</th>\n",
       "      <th>buyyear</th>\n",
       "      <th>dispsize</th>\n",
       "      <th>age</th>\n",
       "      <th>height</th>\n",
       "      <th>weight</th>\n",
       "      <th>phonetime</th>\n",
       "      <th>pctime</th>\n",
       "      <th>lteamount</th>\n",
       "    </tr>\n",
       "  </thead>\n",
       "  <tbody>\n",
       "    <tr>\n",
       "      <th>0</th>\n",
       "      <td>2015</td>\n",
       "      <td>2015</td>\n",
       "      <td>5.0</td>\n",
       "      <td>45</td>\n",
       "      <td>173</td>\n",
       "      <td>75</td>\n",
       "      <td>60</td>\n",
       "      <td>500</td>\n",
       "      <td>100</td>\n",
       "    </tr>\n",
       "    <tr>\n",
       "      <th>1</th>\n",
       "      <td>2014</td>\n",
       "      <td>2015</td>\n",
       "      <td>4.5</td>\n",
       "      <td>27</td>\n",
       "      <td>176</td>\n",
       "      <td>59</td>\n",
       "      <td>70</td>\n",
       "      <td>30</td>\n",
       "      <td>50</td>\n",
       "    </tr>\n",
       "    <tr>\n",
       "      <th>2</th>\n",
       "      <td>2015</td>\n",
       "      <td>2015</td>\n",
       "      <td>5.0</td>\n",
       "      <td>29</td>\n",
       "      <td>183</td>\n",
       "      <td>65</td>\n",
       "      <td>120</td>\n",
       "      <td>300</td>\n",
       "      <td>200</td>\n",
       "    </tr>\n",
       "    <tr>\n",
       "      <th>4</th>\n",
       "      <td>2015</td>\n",
       "      <td>2015</td>\n",
       "      <td>5.0</td>\n",
       "      <td>24</td>\n",
       "      <td>179</td>\n",
       "      <td>65</td>\n",
       "      <td>90</td>\n",
       "      <td>30</td>\n",
       "      <td>500</td>\n",
       "    </tr>\n",
       "    <tr>\n",
       "      <th>10</th>\n",
       "      <td>2014</td>\n",
       "      <td>2015</td>\n",
       "      <td>4.5</td>\n",
       "      <td>32</td>\n",
       "      <td>167</td>\n",
       "      <td>62</td>\n",
       "      <td>130</td>\n",
       "      <td>300</td>\n",
       "      <td>400</td>\n",
       "    </tr>\n",
       "  </tbody>\n",
       "</table>\n",
       "</div>"
      ],
      "text/plain": [
       "    makeyear  buyyear  dispsize  age  height  weight  phonetime  pctime  lteamount\n",
       "0       2015     2015       5.0   45     173      75         60     500        100\n",
       "1       2014     2015       4.5   27     176      59         70      30         50\n",
       "2       2015     2015       5.0   29     183      65        120     300        200\n",
       "4       2015     2015       5.0   24     179      65         90      30        500\n",
       "10      2014     2015       4.5   32     167      62        130     300        400"
      ]
     },
     "execution_count": 29,
     "metadata": {},
     "output_type": "execute_result"
    }
   ],
   "source": [
    "# 2. 구매년이 2015년인 핸드폰을 사용하는 소비자는?\n",
    "find = phone.buyyear == 2015\n",
    "phone[find].head()"
   ]
  },
  {
   "cell_type": "code",
   "execution_count": 24,
   "id": "8f474a88-e997-41b3-90fd-67fae2dae352",
   "metadata": {},
   "outputs": [
    {
     "data": {
      "text/html": [
       "<div>\n",
       "<style scoped>\n",
       "    .dataframe tbody tr th:only-of-type {\n",
       "        vertical-align: middle;\n",
       "    }\n",
       "\n",
       "    .dataframe tbody tr th {\n",
       "        vertical-align: top;\n",
       "    }\n",
       "\n",
       "    .dataframe thead th {\n",
       "        text-align: right;\n",
       "    }\n",
       "</style>\n",
       "<table border=\"1\" class=\"dataframe\">\n",
       "  <thead>\n",
       "    <tr style=\"text-align: right;\">\n",
       "      <th></th>\n",
       "      <th>age</th>\n",
       "      <th>height</th>\n",
       "      <th>weight</th>\n",
       "    </tr>\n",
       "  </thead>\n",
       "  <tbody>\n",
       "    <tr>\n",
       "      <th>1</th>\n",
       "      <td>27</td>\n",
       "      <td>176</td>\n",
       "      <td>59</td>\n",
       "    </tr>\n",
       "    <tr>\n",
       "      <th>8</th>\n",
       "      <td>30</td>\n",
       "      <td>175</td>\n",
       "      <td>70</td>\n",
       "    </tr>\n",
       "    <tr>\n",
       "      <th>10</th>\n",
       "      <td>32</td>\n",
       "      <td>167</td>\n",
       "      <td>62</td>\n",
       "    </tr>\n",
       "    <tr>\n",
       "      <th>18</th>\n",
       "      <td>29</td>\n",
       "      <td>188</td>\n",
       "      <td>83</td>\n",
       "    </tr>\n",
       "  </tbody>\n",
       "</table>\n",
       "</div>"
      ],
      "text/plain": [
       "    age  height  weight\n",
       "1    27     176      59\n",
       "8    30     175      70\n",
       "10   32     167      62\n",
       "18   29     188      83"
      ]
     },
     "execution_count": 24,
     "metadata": {},
     "output_type": "execute_result"
    }
   ],
   "source": [
    "# 3. 크기가 4.5인 핸드폰을 구매한 소비자의 나이, 키, 몸무게 조회하세요\n",
    "find = phone.dispsize == 4.5\n",
    "phone[find][['age', 'height', 'weight']]"
   ]
  },
  {
   "cell_type": "code",
   "execution_count": 27,
   "id": "0cb5438c-4058-4109-9f01-a3dfbaf2d5bb",
   "metadata": {},
   "outputs": [
    {
     "data": {
      "text/html": [
       "<div>\n",
       "<style scoped>\n",
       "    .dataframe tbody tr th:only-of-type {\n",
       "        vertical-align: middle;\n",
       "    }\n",
       "\n",
       "    .dataframe tbody tr th {\n",
       "        vertical-align: top;\n",
       "    }\n",
       "\n",
       "    .dataframe thead th {\n",
       "        text-align: right;\n",
       "    }\n",
       "</style>\n",
       "<table border=\"1\" class=\"dataframe\">\n",
       "  <thead>\n",
       "    <tr style=\"text-align: right;\">\n",
       "      <th></th>\n",
       "      <th>makeyear</th>\n",
       "      <th>dispsize</th>\n",
       "    </tr>\n",
       "  </thead>\n",
       "  <tbody>\n",
       "    <tr>\n",
       "      <th>0</th>\n",
       "      <td>2015</td>\n",
       "      <td>5.0</td>\n",
       "    </tr>\n",
       "    <tr>\n",
       "      <th>6</th>\n",
       "      <td>2016</td>\n",
       "      <td>6.0</td>\n",
       "    </tr>\n",
       "    <tr>\n",
       "      <th>7</th>\n",
       "      <td>2014</td>\n",
       "      <td>5.0</td>\n",
       "    </tr>\n",
       "    <tr>\n",
       "      <th>9</th>\n",
       "      <td>2015</td>\n",
       "      <td>5.0</td>\n",
       "    </tr>\n",
       "    <tr>\n",
       "      <th>11</th>\n",
       "      <td>2015</td>\n",
       "      <td>5.5</td>\n",
       "    </tr>\n",
       "    <tr>\n",
       "      <th>12</th>\n",
       "      <td>2015</td>\n",
       "      <td>5.5</td>\n",
       "    </tr>\n",
       "    <tr>\n",
       "      <th>13</th>\n",
       "      <td>2015</td>\n",
       "      <td>6.0</td>\n",
       "    </tr>\n",
       "    <tr>\n",
       "      <th>15</th>\n",
       "      <td>2015</td>\n",
       "      <td>5.0</td>\n",
       "    </tr>\n",
       "    <tr>\n",
       "      <th>16</th>\n",
       "      <td>2016</td>\n",
       "      <td>5.5</td>\n",
       "    </tr>\n",
       "  </tbody>\n",
       "</table>\n",
       "</div>"
      ],
      "text/plain": [
       "    makeyear  dispsize\n",
       "0       2015       5.0\n",
       "6       2016       6.0\n",
       "7       2014       5.0\n",
       "9       2015       5.0\n",
       "11      2015       5.5\n",
       "12      2015       5.5\n",
       "13      2015       6.0\n",
       "15      2015       5.0\n",
       "16      2016       5.5"
      ]
     },
     "execution_count": 27,
     "metadata": {},
     "output_type": "execute_result"
    }
   ],
   "source": [
    "# 4. 나이가 35세이상인 소비자들이 구매한 핸드폰의 제조년, 화면크기 조회\n",
    "find = phone.age >= 35\n",
    "phone[find][['makeyear', 'dispsize']]"
   ]
  },
  {
   "cell_type": "markdown",
   "id": "0b467241-589a-49eb-beb6-91a8905b37d4",
   "metadata": {},
   "source": [
    "### 데이터프레임 그룹핑\n",
    "* 특정조건에 따라 데이터들을 그룹으로 묶어서\n",
    "  집계함수를 적용하고 통계함수를 이용한 정보 출력\n",
    "* 이로서 해당 그룹의 특성을 알아볼수 있음\n",
    "* groupby(조건열).(집계함수)"
   ]
  },
  {
   "cell_type": "code",
   "execution_count": 42,
   "id": "bbc2671e-975e-4bc7-913b-bc0bcb9e665b",
   "metadata": {},
   "outputs": [],
   "source": [
    "pd.set_option('display.float_format', '{:,.2f}'.format)"
   ]
  },
  {
   "cell_type": "code",
   "execution_count": 30,
   "id": "546cb494-3680-4914-a39e-f7d2cdd48f2d",
   "metadata": {},
   "outputs": [],
   "source": [
    "city = ['서울', '서울', '서울', '부산', '부산', '부산', '인천', '인천']\n",
    "year = [2015, 2010, 2005, 2015, 2010, 2005, 2015, 2010]\n",
    "pop = [9904312, 9631482, 9762546, 3448737, 3393191, 3512547, 2890451, 263203]\n",
    "region = ['수도권', '수도권', '수도권', '경상권', '경상권', '경상권', '수도권', '수도권']"
   ]
  },
  {
   "cell_type": "code",
   "execution_count": 31,
   "id": "939a7c1e-8029-46c3-9d70-e177f92e3d73",
   "metadata": {},
   "outputs": [
    {
     "data": {
      "text/html": [
       "<div>\n",
       "<style scoped>\n",
       "    .dataframe tbody tr th:only-of-type {\n",
       "        vertical-align: middle;\n",
       "    }\n",
       "\n",
       "    .dataframe tbody tr th {\n",
       "        vertical-align: top;\n",
       "    }\n",
       "\n",
       "    .dataframe thead th {\n",
       "        text-align: right;\n",
       "    }\n",
       "</style>\n",
       "<table border=\"1\" class=\"dataframe\">\n",
       "  <thead>\n",
       "    <tr style=\"text-align: right;\">\n",
       "      <th></th>\n",
       "      <th>도시</th>\n",
       "      <th>년도</th>\n",
       "      <th>인구</th>\n",
       "      <th>지역</th>\n",
       "    </tr>\n",
       "  </thead>\n",
       "  <tbody>\n",
       "    <tr>\n",
       "      <th>0</th>\n",
       "      <td>서울</td>\n",
       "      <td>2015</td>\n",
       "      <td>9904312</td>\n",
       "      <td>수도권</td>\n",
       "    </tr>\n",
       "    <tr>\n",
       "      <th>1</th>\n",
       "      <td>서울</td>\n",
       "      <td>2010</td>\n",
       "      <td>9631482</td>\n",
       "      <td>수도권</td>\n",
       "    </tr>\n",
       "    <tr>\n",
       "      <th>2</th>\n",
       "      <td>서울</td>\n",
       "      <td>2005</td>\n",
       "      <td>9762546</td>\n",
       "      <td>수도권</td>\n",
       "    </tr>\n",
       "    <tr>\n",
       "      <th>3</th>\n",
       "      <td>부산</td>\n",
       "      <td>2015</td>\n",
       "      <td>3448737</td>\n",
       "      <td>경상권</td>\n",
       "    </tr>\n",
       "    <tr>\n",
       "      <th>4</th>\n",
       "      <td>부산</td>\n",
       "      <td>2010</td>\n",
       "      <td>3393191</td>\n",
       "      <td>경상권</td>\n",
       "    </tr>\n",
       "  </tbody>\n",
       "</table>\n",
       "</div>"
      ],
      "text/plain": [
       "   도시    년도       인구   지역\n",
       "0  서울  2015  9904312  수도권\n",
       "1  서울  2010  9631482  수도권\n",
       "2  서울  2005  9762546  수도권\n",
       "3  부산  2015  3448737  경상권\n",
       "4  부산  2010  3393191  경상권"
      ]
     },
     "execution_count": 31,
     "metadata": {},
     "output_type": "execute_result"
    }
   ],
   "source": [
    "data = {'도시':city, '년도':year, '인구':pop, '지역':region}\n",
    "df = pd.DataFrame(data)\n",
    "df.head()"
   ]
  },
  {
   "cell_type": "markdown",
   "id": "9c57c655-f96f-453f-8a75-ac38a1ff340c",
   "metadata": {},
   "source": [
    "#### 도시별 인구수 알아보기"
   ]
  },
  {
   "cell_type": "code",
   "execution_count": 33,
   "id": "87bd877d-f121-436e-aff9-eef89ba8392d",
   "metadata": {},
   "outputs": [
    {
     "data": {
      "text/plain": [
       "{'부산': [3, 4, 5], '서울': [0, 1, 2], '인천': [6, 7]}"
      ]
     },
     "execution_count": 33,
     "metadata": {},
     "output_type": "execute_result"
    }
   ],
   "source": [
    "# 먼저, 도시별로 그룹핑 시도\n",
    "groupby = df.groupby('도시')\n",
    "groupby.groups  # 그룹핑 결과 확인"
   ]
  },
  {
   "cell_type": "code",
   "execution_count": 34,
   "id": "91a83b7a-ad39-4bf2-b2cb-3559a96ab70c",
   "metadata": {},
   "outputs": [
    {
     "name": "stdout",
     "output_type": "stream",
     "text": [
      "부산   도시    년도       인구   지역\n",
      "3  부산  2015  3448737  경상권\n",
      "4  부산  2010  3393191  경상권\n",
      "5  부산  2005  3512547  경상권\n",
      "서울   도시    년도       인구   지역\n",
      "0  서울  2015  9904312  수도권\n",
      "1  서울  2010  9631482  수도권\n",
      "2  서울  2005  9762546  수도권\n",
      "인천   도시    년도       인구   지역\n",
      "6  인천  2015  2890451  수도권\n",
      "7  인천  2010   263203  수도권\n"
     ]
    }
   ],
   "source": [
    "# 반복처리를 통해 그룹핑 결과 확인\n",
    "for nm, gp in groupby:\n",
    "    print(f'{nm}{gp}')"
   ]
  },
  {
   "cell_type": "code",
   "execution_count": 35,
   "id": "cc401c2b-1a1f-4d46-8cac-77d4409d76ec",
   "metadata": {},
   "outputs": [
    {
     "data": {
      "text/html": [
       "<div>\n",
       "<style scoped>\n",
       "    .dataframe tbody tr th:only-of-type {\n",
       "        vertical-align: middle;\n",
       "    }\n",
       "\n",
       "    .dataframe tbody tr th {\n",
       "        vertical-align: top;\n",
       "    }\n",
       "\n",
       "    .dataframe thead th {\n",
       "        text-align: right;\n",
       "    }\n",
       "</style>\n",
       "<table border=\"1\" class=\"dataframe\">\n",
       "  <thead>\n",
       "    <tr style=\"text-align: right;\">\n",
       "      <th></th>\n",
       "      <th>년도</th>\n",
       "      <th>인구</th>\n",
       "      <th>지역</th>\n",
       "    </tr>\n",
       "    <tr>\n",
       "      <th>도시</th>\n",
       "      <th></th>\n",
       "      <th></th>\n",
       "      <th></th>\n",
       "    </tr>\n",
       "  </thead>\n",
       "  <tbody>\n",
       "    <tr>\n",
       "      <th>부산</th>\n",
       "      <td>6030</td>\n",
       "      <td>10354475</td>\n",
       "      <td>경상권경상권경상권</td>\n",
       "    </tr>\n",
       "    <tr>\n",
       "      <th>서울</th>\n",
       "      <td>6030</td>\n",
       "      <td>29298340</td>\n",
       "      <td>수도권수도권수도권</td>\n",
       "    </tr>\n",
       "    <tr>\n",
       "      <th>인천</th>\n",
       "      <td>4025</td>\n",
       "      <td>3153654</td>\n",
       "      <td>수도권수도권</td>\n",
       "    </tr>\n",
       "  </tbody>\n",
       "</table>\n",
       "</div>"
      ],
      "text/plain": [
       "      년도        인구         지역\n",
       "도시                           \n",
       "부산  6030  10354475  경상권경상권경상권\n",
       "서울  6030  29298340  수도권수도권수도권\n",
       "인천  4025   3153654     수도권수도권"
      ]
     },
     "execution_count": 35,
     "metadata": {},
     "output_type": "execute_result"
    }
   ],
   "source": [
    "# 그룹핑 결과에 집계함수 적용\n",
    "groupby.sum()  # 연도와 지역까지 합쳐짐"
   ]
  },
  {
   "cell_type": "code",
   "execution_count": null,
   "id": "14fa8600-a5e0-4993-af4f-22910d211e84",
   "metadata": {},
   "outputs": [],
   "source": [
    "groupby.mean()  # 지역때문에 평균 계산시 오류발생!"
   ]
  },
  {
   "cell_type": "code",
   "execution_count": 51,
   "id": "7e6f9998-f289-44c6-998a-e586dcf5bd14",
   "metadata": {},
   "outputs": [
    {
     "data": {
      "text/plain": [
       "도시\n",
       "부산    10,354,475\n",
       "서울    29,298,340\n",
       "인천     3,153,654\n",
       "Name: 인구, dtype: object"
      ]
     },
     "execution_count": 51,
     "metadata": {},
     "output_type": "execute_result"
    }
   ],
   "source": [
    "# 그룹핑 결과에서 특정 컬럼 필터 후 집계처리\n",
    "# groupby['인구'].sum()\n",
    "df.groupby('도시')['인구'].sum().apply('{:,}'.format)"
   ]
  },
  {
   "cell_type": "code",
   "execution_count": 50,
   "id": "a7a0b4a6-1450-4a50-96e3-062b3d3e3f13",
   "metadata": {},
   "outputs": [
    {
     "data": {
      "text/plain": [
       "도시\n",
       "부산   3,451,491.67\n",
       "서울   9,766,113.33\n",
       "인천   1,576,827.00\n",
       "Name: 인구, dtype: float64"
      ]
     },
     "execution_count": 50,
     "metadata": {},
     "output_type": "execute_result"
    }
   ],
   "source": [
    "# groupby['인구'].mean()\n",
    "df.groupby('도시')['인구'].mean()"
   ]
  },
  {
   "cell_type": "markdown",
   "id": "63a2b388-bb1b-40dd-a3e2-87585751f75c",
   "metadata": {},
   "source": [
    "### 년도별 인구수"
   ]
  },
  {
   "cell_type": "code",
   "execution_count": 59,
   "id": "f7434023-f69f-4280-8837-56f44e2dbac3",
   "metadata": {},
   "outputs": [
    {
     "data": {
      "text/plain": [
       "년도\n",
       "2005    13,275,093\n",
       "2010    13,287,876\n",
       "2015    16,243,500\n",
       "Name: 인구, dtype: object"
      ]
     },
     "execution_count": 59,
     "metadata": {},
     "output_type": "execute_result"
    }
   ],
   "source": [
    "# df.groupby('년도').groups\n",
    "df.groupby('년도')['인구'].sum().apply('{:,}'.format)"
   ]
  },
  {
   "cell_type": "markdown",
   "id": "936904aa-6499-484b-bb97-83c042562da9",
   "metadata": {},
   "source": [
    "### 지역별 년도별 인구수"
   ]
  },
  {
   "cell_type": "code",
   "execution_count": 63,
   "id": "5bb225ed-e1d0-48b7-9e9a-c6d2e744a727",
   "metadata": {},
   "outputs": [
    {
     "data": {
      "text/plain": [
       "지역   년도  \n",
       "경상권  2005     3,512,547\n",
       "     2010     3,393,191\n",
       "     2015     3,448,737\n",
       "수도권  2005     9,762,546\n",
       "     2010     9,894,685\n",
       "     2015    12,794,763\n",
       "Name: 인구, dtype: object"
      ]
     },
     "execution_count": 63,
     "metadata": {},
     "output_type": "execute_result"
    }
   ],
   "source": [
    "# df.groupby('지역').groups\n",
    "# df.groupby(['지역', '년도']).groups\n",
    "df.groupby(['지역', '년도'])['인구'].sum().apply('{:,}'.format)"
   ]
  },
  {
   "cell_type": "markdown",
   "id": "de5ace2a-eb22-428e-848e-d0b249c95f0a",
   "metadata": {},
   "source": [
    "### 미국 질병통제센터에서 수집한 연도별 신생아 성별 출생수 데이터\n",
    "* 1969 ~ 2008 까지의 데이터"
   ]
  },
  {
   "cell_type": "code",
   "execution_count": 65,
   "id": "f9e863e3-6b2c-4b21-8e65-550a10a75341",
   "metadata": {},
   "outputs": [
    {
     "data": {
      "text/html": [
       "<div>\n",
       "<style scoped>\n",
       "    .dataframe tbody tr th:only-of-type {\n",
       "        vertical-align: middle;\n",
       "    }\n",
       "\n",
       "    .dataframe tbody tr th {\n",
       "        vertical-align: top;\n",
       "    }\n",
       "\n",
       "    .dataframe thead th {\n",
       "        text-align: right;\n",
       "    }\n",
       "</style>\n",
       "<table border=\"1\" class=\"dataframe\">\n",
       "  <thead>\n",
       "    <tr style=\"text-align: right;\">\n",
       "      <th></th>\n",
       "      <th>year</th>\n",
       "      <th>month</th>\n",
       "      <th>day</th>\n",
       "      <th>gender</th>\n",
       "      <th>births</th>\n",
       "    </tr>\n",
       "  </thead>\n",
       "  <tbody>\n",
       "    <tr>\n",
       "      <th>0</th>\n",
       "      <td>1969</td>\n",
       "      <td>1</td>\n",
       "      <td>1.00</td>\n",
       "      <td>F</td>\n",
       "      <td>4046</td>\n",
       "    </tr>\n",
       "    <tr>\n",
       "      <th>1</th>\n",
       "      <td>1969</td>\n",
       "      <td>1</td>\n",
       "      <td>1.00</td>\n",
       "      <td>M</td>\n",
       "      <td>4440</td>\n",
       "    </tr>\n",
       "    <tr>\n",
       "      <th>2</th>\n",
       "      <td>1969</td>\n",
       "      <td>1</td>\n",
       "      <td>2.00</td>\n",
       "      <td>F</td>\n",
       "      <td>4454</td>\n",
       "    </tr>\n",
       "    <tr>\n",
       "      <th>3</th>\n",
       "      <td>1969</td>\n",
       "      <td>1</td>\n",
       "      <td>2.00</td>\n",
       "      <td>M</td>\n",
       "      <td>4548</td>\n",
       "    </tr>\n",
       "    <tr>\n",
       "      <th>4</th>\n",
       "      <td>1969</td>\n",
       "      <td>1</td>\n",
       "      <td>3.00</td>\n",
       "      <td>F</td>\n",
       "      <td>4548</td>\n",
       "    </tr>\n",
       "  </tbody>\n",
       "</table>\n",
       "</div>"
      ],
      "text/plain": [
       "   year  month  day gender  births\n",
       "0  1969      1 1.00      F    4046\n",
       "1  1969      1 1.00      M    4440\n",
       "2  1969      1 2.00      F    4454\n",
       "3  1969      1 2.00      M    4548\n",
       "4  1969      1 3.00      F    4548"
      ]
     },
     "execution_count": 65,
     "metadata": {},
     "output_type": "execute_result"
    }
   ],
   "source": [
    "birth = pd.read_csv('./data/births.csv')\n",
    "birth.head()"
   ]
  },
  {
   "cell_type": "code",
   "execution_count": 87,
   "id": "9f17db3d-55b2-431b-87a1-ebdc60f076a9",
   "metadata": {},
   "outputs": [
    {
     "name": "stdout",
     "output_type": "stream",
     "text": [
      "<class 'pandas.core.frame.DataFrame'>\n",
      "RangeIndex: 15547 entries, 0 to 15546\n",
      "Data columns (total 5 columns):\n",
      " #   Column  Non-Null Count  Dtype  \n",
      "---  ------  --------------  -----  \n",
      " 0   year    15547 non-null  int64  \n",
      " 1   month   15547 non-null  int64  \n",
      " 2   day     15067 non-null  float64\n",
      " 3   gender  15547 non-null  object \n",
      " 4   births  15547 non-null  int64  \n",
      "dtypes: float64(1), int64(3), object(1)\n",
      "memory usage: 607.4+ KB\n"
     ]
    }
   ],
   "source": [
    "# 1989년부터는 day컬럼은 null로 작성되어 있음\n",
    "# 결측치가 생겨버렸넹~\n",
    "birth.info()"
   ]
  },
  {
   "cell_type": "code",
   "execution_count": 90,
   "id": "58c9bb88-18f5-4f8b-a775-bce2fe48aa1f",
   "metadata": {},
   "outputs": [
    {
     "data": {
      "text/plain": [
       "year\n",
       "1969    3,600,206명\n",
       "1970    3,737,800명\n",
       "1971    3,563,548명\n",
       "1972    3,266,235명\n",
       "1973    3,146,125명\n",
       "Name: births, dtype: object"
      ]
     },
     "execution_count": 90,
     "metadata": {},
     "output_type": "execute_result"
    }
   ],
   "source": [
    "# 연도별 출생수는?\n",
    "grp_year = birth.groupby('year')['births'].sum()\n",
    "grp_year.apply('{:,}명'.format).head()"
   ]
  },
  {
   "cell_type": "code",
   "execution_count": 91,
   "id": "0d67763b-f28b-4833-ba21-fb413c0b60cc",
   "metadata": {},
   "outputs": [
    {
     "data": {
      "text/plain": [
       "year\n",
       "2004    4,118,907명\n",
       "2005    4,145,619명\n",
       "2006    4,273,225명\n",
       "2007    4,324,008명\n",
       "2008    4,255,156명\n",
       "Name: births, dtype: object"
      ]
     },
     "execution_count": 91,
     "metadata": {},
     "output_type": "execute_result"
    }
   ],
   "source": [
    "grp_year.apply('{:,}명'.format).tail()"
   ]
  },
  {
   "cell_type": "code",
   "execution_count": 92,
   "id": "df3b7e5f-8ca0-45bd-87c4-9e79c6eb5845",
   "metadata": {},
   "outputs": [
    {
     "data": {
      "text/plain": [
       "month\n",
       "1    12,364,197명\n",
       "2    11,541,178명\n",
       "3    12,678,844명\n",
       "4    12,085,891명\n",
       "5    12,624,972명\n",
       "Name: births, dtype: object"
      ]
     },
     "execution_count": 92,
     "metadata": {},
     "output_type": "execute_result"
    }
   ],
   "source": [
    "# 월별 출생수는?\n",
    "grp_month = birth.groupby('month')['births'].sum()\n",
    "grp_month.apply('{:,}명'.format).head()"
   ]
  },
  {
   "cell_type": "code",
   "execution_count": 93,
   "id": "cedf06b5-d380-4a91-a2e6-eb63d79af923",
   "metadata": {},
   "outputs": [
    {
     "data": {
      "text/plain": [
       "month\n",
       "8     13,528,007명\n",
       "9     13,252,831명\n",
       "10    12,954,950명\n",
       "11    12,197,967명\n",
       "12    12,656,915명\n",
       "Name: births, dtype: object"
      ]
     },
     "execution_count": 93,
     "metadata": {},
     "output_type": "execute_result"
    }
   ],
   "source": [
    "grp_month.apply('{:,}명'.format).tail()"
   ]
  },
  {
   "cell_type": "code",
   "execution_count": 96,
   "id": "cf97db8b-6c34-4bdd-800f-ca630204afc4",
   "metadata": {},
   "outputs": [
    {
     "data": {
      "text/html": [
       "<div>\n",
       "<style scoped>\n",
       "    .dataframe tbody tr th:only-of-type {\n",
       "        vertical-align: middle;\n",
       "    }\n",
       "\n",
       "    .dataframe tbody tr th {\n",
       "        vertical-align: top;\n",
       "    }\n",
       "\n",
       "    .dataframe thead th {\n",
       "        text-align: right;\n",
       "    }\n",
       "</style>\n",
       "<table border=\"1\" class=\"dataframe\">\n",
       "  <thead>\n",
       "    <tr style=\"text-align: right;\">\n",
       "      <th></th>\n",
       "      <th>year</th>\n",
       "      <th>month</th>\n",
       "      <th>day</th>\n",
       "      <th>gender</th>\n",
       "      <th>births</th>\n",
       "    </tr>\n",
       "  </thead>\n",
       "  <tbody>\n",
       "    <tr>\n",
       "      <th>0</th>\n",
       "      <td>1969</td>\n",
       "      <td>1</td>\n",
       "      <td>1.00</td>\n",
       "      <td>F</td>\n",
       "      <td>4046</td>\n",
       "    </tr>\n",
       "    <tr>\n",
       "      <th>1</th>\n",
       "      <td>1969</td>\n",
       "      <td>1</td>\n",
       "      <td>1.00</td>\n",
       "      <td>M</td>\n",
       "      <td>4440</td>\n",
       "    </tr>\n",
       "    <tr>\n",
       "      <th>2</th>\n",
       "      <td>1969</td>\n",
       "      <td>1</td>\n",
       "      <td>2.00</td>\n",
       "      <td>F</td>\n",
       "      <td>4454</td>\n",
       "    </tr>\n",
       "    <tr>\n",
       "      <th>3</th>\n",
       "      <td>1969</td>\n",
       "      <td>1</td>\n",
       "      <td>2.00</td>\n",
       "      <td>M</td>\n",
       "      <td>4548</td>\n",
       "    </tr>\n",
       "    <tr>\n",
       "      <th>4</th>\n",
       "      <td>1969</td>\n",
       "      <td>1</td>\n",
       "      <td>3.00</td>\n",
       "      <td>F</td>\n",
       "      <td>4548</td>\n",
       "    </tr>\n",
       "  </tbody>\n",
       "</table>\n",
       "</div>"
      ],
      "text/plain": [
       "   year  month  day gender  births\n",
       "0  1969      1 1.00      F    4046\n",
       "1  1969      1 1.00      M    4440\n",
       "2  1969      1 2.00      F    4454\n",
       "3  1969      1 2.00      M    4548\n",
       "4  1969      1 3.00      F    4548"
      ]
     },
     "execution_count": 96,
     "metadata": {},
     "output_type": "execute_result"
    }
   ],
   "source": [
    "# 1969년의 월별출생수는?\n",
    "find = birth.year == 1969\n",
    "b1969 = birth[find]\n",
    "b1969.head()"
   ]
  },
  {
   "cell_type": "code",
   "execution_count": 98,
   "id": "3359273c-10b6-41ec-a039-74fc08e7e5bf",
   "metadata": {},
   "outputs": [
    {
     "data": {
      "text/plain": [
       "year  month\n",
       "1969  1        293,940명\n",
       "      2        270,786명\n",
       "      3        296,550명\n",
       "      4        282,638명\n",
       "      5        289,124명\n",
       "Name: births, dtype: object"
      ]
     },
     "execution_count": 98,
     "metadata": {},
     "output_type": "execute_result"
    }
   ],
   "source": [
    "grp_month_1969 = b1969.groupby(['year', 'month'])['births'].sum()\n",
    "grp_month_1969.apply('{:,}명'.format).head()"
   ]
  },
  {
   "cell_type": "code",
   "execution_count": 99,
   "id": "c2c1d3ce-6d04-4d02-8598-5a7be4a0f46e",
   "metadata": {},
   "outputs": [
    {
     "data": {
      "text/plain": [
       "year  month\n",
       "1969  8        321,034명\n",
       "      9        312,620명\n",
       "      10       311,972명\n",
       "      11       297,054명\n",
       "      12       314,522명\n",
       "Name: births, dtype: object"
      ]
     },
     "execution_count": 99,
     "metadata": {},
     "output_type": "execute_result"
    }
   ],
   "source": [
    "grp_month_1969.apply('{:,}명'.format).tail()"
   ]
  },
  {
   "cell_type": "code",
   "execution_count": 100,
   "id": "4bd40930-da28-4fc6-bbd3-8ecbec603356",
   "metadata": {},
   "outputs": [
    {
     "data": {
      "text/plain": [
       "gender\n",
       "F    74,035,823명\n",
       "M    77,738,555명\n",
       "Name: births, dtype: object"
      ]
     },
     "execution_count": 100,
     "metadata": {},
     "output_type": "execute_result"
    }
   ],
   "source": [
    "# 성별 출생수는?\n",
    "grp_gender = birth.groupby('gender')['births'].sum()\n",
    "grp_gender.apply('{:,}명'.format).head()"
   ]
  },
  {
   "cell_type": "code",
   "execution_count": 101,
   "id": "61ca3cdd-2ff8-4903-8094-6118f1d481b7",
   "metadata": {},
   "outputs": [
    {
     "data": {
      "text/plain": [
       "year  gender\n",
       "1969  F         1,753,634명\n",
       "      M         1,846,572명\n",
       "1970  F         1,819,164명\n",
       "      M         1,918,636명\n",
       "1971  F         1,736,774명\n",
       "Name: births, dtype: object"
      ]
     },
     "execution_count": 101,
     "metadata": {},
     "output_type": "execute_result"
    }
   ],
   "source": [
    "# 연도별 성별 출생수?\n",
    "grp_gender_year = birth.groupby(['year', 'gender'])['births'].sum()\n",
    "grp_gender_year.apply('{:,}명'.format).head()"
   ]
  },
  {
   "cell_type": "code",
   "execution_count": 102,
   "id": "e3120815-c109-45a6-8cd2-26975a0e3302",
   "metadata": {},
   "outputs": [
    {
     "data": {
      "text/plain": [
       "year  gender\n",
       "2006  M         2,188,268명\n",
       "2007  F         2,111,890명\n",
       "      M         2,212,118명\n",
       "2008  F         2,077,929명\n",
       "      M         2,177,227명\n",
       "Name: births, dtype: object"
      ]
     },
     "execution_count": 102,
     "metadata": {},
     "output_type": "execute_result"
    }
   ],
   "source": [
    "grp_gender_year.apply('{:,}명'.format).tail()"
   ]
  },
  {
   "cell_type": "markdown",
   "id": "501f1ee4-4443-48e5-b5d4-dc7083c1a41b",
   "metadata": {},
   "source": [
    "## 피벗 테이블\n",
    "* 소량의 데이터는 별 다른 수고없이 통계분석 가능\n",
    "* 하지만, 대량의 데이터는 통계분석하기 어려움\n",
    "* 수 많은 데이터 중에서 원하는 데이터만 골라서 테이블을 재구성한 것을 의미\n",
    "* pivot(행, 열, 대상)\n",
    "* pivot_table()"
   ]
  },
  {
   "cell_type": "code",
   "execution_count": 115,
   "id": "3240a9df-5a64-4a46-a7a3-5c04fecd9784",
   "metadata": {},
   "outputs": [
    {
     "data": {
      "text/html": [
       "<div>\n",
       "<style scoped>\n",
       "    .dataframe tbody tr th:only-of-type {\n",
       "        vertical-align: middle;\n",
       "    }\n",
       "\n",
       "    .dataframe tbody tr th {\n",
       "        vertical-align: top;\n",
       "    }\n",
       "\n",
       "    .dataframe thead th {\n",
       "        text-align: right;\n",
       "    }\n",
       "</style>\n",
       "<table border=\"1\" class=\"dataframe\">\n",
       "  <thead>\n",
       "    <tr style=\"text-align: right;\">\n",
       "      <th></th>\n",
       "      <th>도시</th>\n",
       "      <th>년도</th>\n",
       "      <th>인구</th>\n",
       "      <th>지역</th>\n",
       "    </tr>\n",
       "  </thead>\n",
       "  <tbody>\n",
       "    <tr>\n",
       "      <th>1</th>\n",
       "      <td>서울</td>\n",
       "      <td>2015</td>\n",
       "      <td>9904312</td>\n",
       "      <td>수도권</td>\n",
       "    </tr>\n",
       "    <tr>\n",
       "      <th>2</th>\n",
       "      <td>서울</td>\n",
       "      <td>2010</td>\n",
       "      <td>9631482</td>\n",
       "      <td>수도권</td>\n",
       "    </tr>\n",
       "    <tr>\n",
       "      <th>3</th>\n",
       "      <td>서울</td>\n",
       "      <td>2005</td>\n",
       "      <td>9762546</td>\n",
       "      <td>수도권</td>\n",
       "    </tr>\n",
       "    <tr>\n",
       "      <th>4</th>\n",
       "      <td>부산</td>\n",
       "      <td>2015</td>\n",
       "      <td>3448737</td>\n",
       "      <td>경상권</td>\n",
       "    </tr>\n",
       "    <tr>\n",
       "      <th>5</th>\n",
       "      <td>부산</td>\n",
       "      <td>2010</td>\n",
       "      <td>3393191</td>\n",
       "      <td>경상권</td>\n",
       "    </tr>\n",
       "  </tbody>\n",
       "</table>\n",
       "</div>"
      ],
      "text/plain": [
       "   도시    년도       인구   지역\n",
       "1  서울  2015  9904312  수도권\n",
       "2  서울  2010  9631482  수도권\n",
       "3  서울  2005  9762546  수도권\n",
       "4  부산  2015  3448737  경상권\n",
       "5  부산  2010  3393191  경상권"
      ]
     },
     "execution_count": 115,
     "metadata": {},
     "output_type": "execute_result"
    }
   ],
   "source": [
    "df.index = np.arange(1, len(df.도시)+1)\n",
    "df.head()"
   ]
  },
  {
   "cell_type": "code",
   "execution_count": 116,
   "id": "317f3c89-31ac-429b-ac38-a3e71c32e0d9",
   "metadata": {},
   "outputs": [
    {
     "data": {
      "text/html": [
       "<div>\n",
       "<style scoped>\n",
       "    .dataframe tbody tr th:only-of-type {\n",
       "        vertical-align: middle;\n",
       "    }\n",
       "\n",
       "    .dataframe tbody tr th {\n",
       "        vertical-align: top;\n",
       "    }\n",
       "\n",
       "    .dataframe thead th {\n",
       "        text-align: right;\n",
       "    }\n",
       "</style>\n",
       "<table border=\"1\" class=\"dataframe\">\n",
       "  <thead>\n",
       "    <tr style=\"text-align: right;\">\n",
       "      <th>년도</th>\n",
       "      <th>2005</th>\n",
       "      <th>2010</th>\n",
       "      <th>2015</th>\n",
       "    </tr>\n",
       "    <tr>\n",
       "      <th>도시</th>\n",
       "      <th></th>\n",
       "      <th></th>\n",
       "      <th></th>\n",
       "    </tr>\n",
       "  </thead>\n",
       "  <tbody>\n",
       "    <tr>\n",
       "      <th>부산</th>\n",
       "      <td>3,512,547.00</td>\n",
       "      <td>3,393,191.00</td>\n",
       "      <td>3,448,737.00</td>\n",
       "    </tr>\n",
       "    <tr>\n",
       "      <th>서울</th>\n",
       "      <td>9,762,546.00</td>\n",
       "      <td>9,631,482.00</td>\n",
       "      <td>9,904,312.00</td>\n",
       "    </tr>\n",
       "    <tr>\n",
       "      <th>인천</th>\n",
       "      <td>NaN</td>\n",
       "      <td>263,203.00</td>\n",
       "      <td>2,890,451.00</td>\n",
       "    </tr>\n",
       "  </tbody>\n",
       "</table>\n",
       "</div>"
      ],
      "text/plain": [
       "년도         2005         2010         2015\n",
       "도시                                       \n",
       "부산 3,512,547.00 3,393,191.00 3,448,737.00\n",
       "서울 9,762,546.00 9,631,482.00 9,904,312.00\n",
       "인천          NaN   263,203.00 2,890,451.00"
      ]
     },
     "execution_count": 116,
     "metadata": {},
     "output_type": "execute_result"
    }
   ],
   "source": [
    "# 도시별 연도별 인구수 조회 : wide(unstack) 형식 출력 (파악하기 쉬움)\n",
    "pv = df.pivot(index='도시', columns='년도', values='인구')\n",
    "pv"
   ]
  },
  {
   "cell_type": "code",
   "execution_count": 118,
   "id": "5a2893b5-a5e8-4d7e-8cf2-22d8ab76f39a",
   "metadata": {},
   "outputs": [
    {
     "data": {
      "text/html": [
       "<div>\n",
       "<style scoped>\n",
       "    .dataframe tbody tr th:only-of-type {\n",
       "        vertical-align: middle;\n",
       "    }\n",
       "\n",
       "    .dataframe tbody tr th {\n",
       "        vertical-align: top;\n",
       "    }\n",
       "\n",
       "    .dataframe thead th {\n",
       "        text-align: right;\n",
       "    }\n",
       "</style>\n",
       "<table border=\"1\" class=\"dataframe\">\n",
       "  <thead>\n",
       "    <tr style=\"text-align: right;\">\n",
       "      <th>년도</th>\n",
       "      <th>2005</th>\n",
       "      <th>2010</th>\n",
       "      <th>2015</th>\n",
       "    </tr>\n",
       "    <tr>\n",
       "      <th>도시</th>\n",
       "      <th></th>\n",
       "      <th></th>\n",
       "      <th></th>\n",
       "    </tr>\n",
       "  </thead>\n",
       "  <tbody>\n",
       "    <tr>\n",
       "      <th>부산</th>\n",
       "      <td>3,512,547</td>\n",
       "      <td>3,393,191</td>\n",
       "      <td>3,448,737</td>\n",
       "    </tr>\n",
       "    <tr>\n",
       "      <th>서울</th>\n",
       "      <td>9,762,546</td>\n",
       "      <td>9,631,482</td>\n",
       "      <td>9,904,312</td>\n",
       "    </tr>\n",
       "    <tr>\n",
       "      <th>인천</th>\n",
       "      <td>nan</td>\n",
       "      <td>263,203</td>\n",
       "      <td>2,890,451</td>\n",
       "    </tr>\n",
       "  </tbody>\n",
       "</table>\n",
       "</div>"
      ],
      "text/plain": [
       "년도       2005       2010       2015\n",
       "도시                                 \n",
       "부산  3,512,547  3,393,191  3,448,737\n",
       "서울  9,762,546  9,631,482  9,904,312\n",
       "인천        nan    263,203  2,890,451"
      ]
     },
     "execution_count": 118,
     "metadata": {},
     "output_type": "execute_result"
    }
   ],
   "source": [
    "for c in pv.columns:\n",
    "    pv[c] = pv[c].apply('{:,.0f}'.format)\n",
    "pv"
   ]
  },
  {
   "cell_type": "code",
   "execution_count": 119,
   "id": "568157b8-e619-4e28-b2e1-56a9ae613888",
   "metadata": {},
   "outputs": [
    {
     "data": {
      "text/plain": [
       "도시  년도  \n",
       "부산  2005    3512547\n",
       "    2010    3393191\n",
       "    2015    3448737\n",
       "서울  2005    9762546\n",
       "    2010    9631482\n",
       "    2015    9904312\n",
       "인천  2010     263203\n",
       "    2015    2890451\n",
       "Name: 인구, dtype: int64"
      ]
     },
     "execution_count": 119,
     "metadata": {},
     "output_type": "execute_result"
    }
   ],
   "source": [
    "# groupby 형식과 비교 : long(stack) 형식으로 출력 (다소 파악 어려움)\n",
    "df.groupby(['도시','년도'])['인구'].sum()"
   ]
  },
  {
   "cell_type": "code",
   "execution_count": 120,
   "id": "3ceaef84-fc1d-4ab7-affd-5cd080a07421",
   "metadata": {},
   "outputs": [
    {
     "data": {
      "text/html": [
       "<div>\n",
       "<style scoped>\n",
       "    .dataframe tbody tr th:only-of-type {\n",
       "        vertical-align: middle;\n",
       "    }\n",
       "\n",
       "    .dataframe tbody tr th {\n",
       "        vertical-align: top;\n",
       "    }\n",
       "\n",
       "    .dataframe thead th {\n",
       "        text-align: right;\n",
       "    }\n",
       "</style>\n",
       "<table border=\"1\" class=\"dataframe\">\n",
       "  <thead>\n",
       "    <tr style=\"text-align: right;\">\n",
       "      <th>도시</th>\n",
       "      <th>부산</th>\n",
       "      <th>서울</th>\n",
       "      <th>인천</th>\n",
       "    </tr>\n",
       "    <tr>\n",
       "      <th>년도</th>\n",
       "      <th></th>\n",
       "      <th></th>\n",
       "      <th></th>\n",
       "    </tr>\n",
       "  </thead>\n",
       "  <tbody>\n",
       "    <tr>\n",
       "      <th>2005</th>\n",
       "      <td>3,512,547.00</td>\n",
       "      <td>9,762,546.00</td>\n",
       "      <td>NaN</td>\n",
       "    </tr>\n",
       "    <tr>\n",
       "      <th>2010</th>\n",
       "      <td>3,393,191.00</td>\n",
       "      <td>9,631,482.00</td>\n",
       "      <td>263,203.00</td>\n",
       "    </tr>\n",
       "    <tr>\n",
       "      <th>2015</th>\n",
       "      <td>3,448,737.00</td>\n",
       "      <td>9,904,312.00</td>\n",
       "      <td>2,890,451.00</td>\n",
       "    </tr>\n",
       "  </tbody>\n",
       "</table>\n",
       "</div>"
      ],
      "text/plain": [
       "도시             부산           서울           인천\n",
       "년도                                         \n",
       "2005 3,512,547.00 9,762,546.00          NaN\n",
       "2010 3,393,191.00 9,631,482.00   263,203.00\n",
       "2015 3,448,737.00 9,904,312.00 2,890,451.00"
      ]
     },
     "execution_count": 120,
     "metadata": {},
     "output_type": "execute_result"
    }
   ],
   "source": [
    "# 연도별 도시별 인구수 조회 : wide(unstack) 형식 출력 (파악하기 쉬움)\n",
    "pv = df.pivot(index='년도', columns='도시', values='인구')\n",
    "pv"
   ]
  },
  {
   "cell_type": "markdown",
   "id": "a6f717e6-f9c3-427f-a2c5-70fb5dcbe095",
   "metadata": {},
   "source": [
    "## pivot_table\n",
    "* pivot과 groupby를 적당히 섞은 함수\n",
    "* pivot에서 지원하지 않는 다양한 집계함수를 지원\n",
    "* pivot_table(대상, 행, 열, 집계함수, 총계여부)"
   ]
  },
  {
   "cell_type": "code",
   "execution_count": 123,
   "id": "f2d973dc-26d3-4420-8a76-b0569db91cb6",
   "metadata": {},
   "outputs": [
    {
     "data": {
      "text/html": [
       "<style type=\"text/css\">\n",
       "</style>\n",
       "<table id=\"T_93dc0\">\n",
       "  <thead>\n",
       "    <tr>\n",
       "      <th class=\"index_name level0\" >년도</th>\n",
       "      <th id=\"T_93dc0_level0_col0\" class=\"col_heading level0 col0\" >2005</th>\n",
       "      <th id=\"T_93dc0_level0_col1\" class=\"col_heading level0 col1\" >2010</th>\n",
       "      <th id=\"T_93dc0_level0_col2\" class=\"col_heading level0 col2\" >2015</th>\n",
       "    </tr>\n",
       "    <tr>\n",
       "      <th class=\"index_name level0\" >도시</th>\n",
       "      <th class=\"blank col0\" >&nbsp;</th>\n",
       "      <th class=\"blank col1\" >&nbsp;</th>\n",
       "      <th class=\"blank col2\" >&nbsp;</th>\n",
       "    </tr>\n",
       "  </thead>\n",
       "  <tbody>\n",
       "    <tr>\n",
       "      <th id=\"T_93dc0_level0_row0\" class=\"row_heading level0 row0\" >부산</th>\n",
       "      <td id=\"T_93dc0_row0_col0\" class=\"data row0 col0\" >3,512,547</td>\n",
       "      <td id=\"T_93dc0_row0_col1\" class=\"data row0 col1\" >3,393,191</td>\n",
       "      <td id=\"T_93dc0_row0_col2\" class=\"data row0 col2\" >3,448,737</td>\n",
       "    </tr>\n",
       "    <tr>\n",
       "      <th id=\"T_93dc0_level0_row1\" class=\"row_heading level0 row1\" >서울</th>\n",
       "      <td id=\"T_93dc0_row1_col0\" class=\"data row1 col0\" >9,762,546</td>\n",
       "      <td id=\"T_93dc0_row1_col1\" class=\"data row1 col1\" >9,631,482</td>\n",
       "      <td id=\"T_93dc0_row1_col2\" class=\"data row1 col2\" >9,904,312</td>\n",
       "    </tr>\n",
       "    <tr>\n",
       "      <th id=\"T_93dc0_level0_row2\" class=\"row_heading level0 row2\" >인천</th>\n",
       "      <td id=\"T_93dc0_row2_col0\" class=\"data row2 col0\" >nan</td>\n",
       "      <td id=\"T_93dc0_row2_col1\" class=\"data row2 col1\" >263,203</td>\n",
       "      <td id=\"T_93dc0_row2_col2\" class=\"data row2 col2\" >2,890,451</td>\n",
       "    </tr>\n",
       "  </tbody>\n",
       "</table>\n"
      ],
      "text/plain": [
       "<pandas.io.formats.style.Styler at 0x7f14ff4a5990>"
      ]
     },
     "execution_count": 123,
     "metadata": {},
     "output_type": "execute_result"
    }
   ],
   "source": [
    "# 도시별 연도별 인구수 조회\n",
    "pv = df.pivot_table('인구', '도시', '년도')\n",
    "pv.style.format('{:,.0f}')"
   ]
  },
  {
   "cell_type": "code",
   "execution_count": 125,
   "id": "e71e0469-b14a-4fab-9c37-e4a62ecf502e",
   "metadata": {},
   "outputs": [
    {
     "data": {
      "text/html": [
       "<style type=\"text/css\">\n",
       "</style>\n",
       "<table id=\"T_6709a\">\n",
       "  <thead>\n",
       "    <tr>\n",
       "      <th class=\"index_name level0\" >도시</th>\n",
       "      <th id=\"T_6709a_level0_col0\" class=\"col_heading level0 col0\" >부산</th>\n",
       "      <th id=\"T_6709a_level0_col1\" class=\"col_heading level0 col1\" >서울</th>\n",
       "      <th id=\"T_6709a_level0_col2\" class=\"col_heading level0 col2\" >인천</th>\n",
       "    </tr>\n",
       "    <tr>\n",
       "      <th class=\"index_name level0\" >년도</th>\n",
       "      <th class=\"blank col0\" >&nbsp;</th>\n",
       "      <th class=\"blank col1\" >&nbsp;</th>\n",
       "      <th class=\"blank col2\" >&nbsp;</th>\n",
       "    </tr>\n",
       "  </thead>\n",
       "  <tbody>\n",
       "    <tr>\n",
       "      <th id=\"T_6709a_level0_row0\" class=\"row_heading level0 row0\" >2005</th>\n",
       "      <td id=\"T_6709a_row0_col0\" class=\"data row0 col0\" >3,512,547</td>\n",
       "      <td id=\"T_6709a_row0_col1\" class=\"data row0 col1\" >9,762,546</td>\n",
       "      <td id=\"T_6709a_row0_col2\" class=\"data row0 col2\" >nan</td>\n",
       "    </tr>\n",
       "    <tr>\n",
       "      <th id=\"T_6709a_level0_row1\" class=\"row_heading level0 row1\" >2010</th>\n",
       "      <td id=\"T_6709a_row1_col0\" class=\"data row1 col0\" >3,393,191</td>\n",
       "      <td id=\"T_6709a_row1_col1\" class=\"data row1 col1\" >9,631,482</td>\n",
       "      <td id=\"T_6709a_row1_col2\" class=\"data row1 col2\" >263,203</td>\n",
       "    </tr>\n",
       "    <tr>\n",
       "      <th id=\"T_6709a_level0_row2\" class=\"row_heading level0 row2\" >2015</th>\n",
       "      <td id=\"T_6709a_row2_col0\" class=\"data row2 col0\" >3,448,737</td>\n",
       "      <td id=\"T_6709a_row2_col1\" class=\"data row2 col1\" >9,904,312</td>\n",
       "      <td id=\"T_6709a_row2_col2\" class=\"data row2 col2\" >2,890,451</td>\n",
       "    </tr>\n",
       "  </tbody>\n",
       "</table>\n"
      ],
      "text/plain": [
       "<pandas.io.formats.style.Styler at 0x7f14fe4856d0>"
      ]
     },
     "execution_count": 125,
     "metadata": {},
     "output_type": "execute_result"
    }
   ],
   "source": [
    "# 연도별 도시별 인구수 조회\n",
    "pv = df.pivot_table('인구', '년도', '도시')\n",
    "pv.style.format('{:,.0f}')"
   ]
  },
  {
   "cell_type": "code",
   "execution_count": 131,
   "id": "3c8f92fb-d1af-4cf9-8db4-19c8ee2dea99",
   "metadata": {},
   "outputs": [
    {
     "data": {
      "text/html": [
       "<style type=\"text/css\">\n",
       "</style>\n",
       "<table id=\"T_e5a52\">\n",
       "  <thead>\n",
       "    <tr>\n",
       "      <th class=\"index_name level0\" >년도</th>\n",
       "      <th id=\"T_e5a52_level0_col0\" class=\"col_heading level0 col0\" >2005</th>\n",
       "      <th id=\"T_e5a52_level0_col1\" class=\"col_heading level0 col1\" >2010</th>\n",
       "      <th id=\"T_e5a52_level0_col2\" class=\"col_heading level0 col2\" >2015</th>\n",
       "    </tr>\n",
       "    <tr>\n",
       "      <th class=\"index_name level0\" >도시</th>\n",
       "      <th class=\"blank col0\" >&nbsp;</th>\n",
       "      <th class=\"blank col1\" >&nbsp;</th>\n",
       "      <th class=\"blank col2\" >&nbsp;</th>\n",
       "    </tr>\n",
       "  </thead>\n",
       "  <tbody>\n",
       "    <tr>\n",
       "      <th id=\"T_e5a52_level0_row0\" class=\"row_heading level0 row0\" >부산</th>\n",
       "      <td id=\"T_e5a52_row0_col0\" class=\"data row0 col0\" >3,512,547</td>\n",
       "      <td id=\"T_e5a52_row0_col1\" class=\"data row0 col1\" >3,393,191</td>\n",
       "      <td id=\"T_e5a52_row0_col2\" class=\"data row0 col2\" >3,448,737</td>\n",
       "    </tr>\n",
       "    <tr>\n",
       "      <th id=\"T_e5a52_level0_row1\" class=\"row_heading level0 row1\" >서울</th>\n",
       "      <td id=\"T_e5a52_row1_col0\" class=\"data row1 col0\" >9,762,546</td>\n",
       "      <td id=\"T_e5a52_row1_col1\" class=\"data row1 col1\" >9,631,482</td>\n",
       "      <td id=\"T_e5a52_row1_col2\" class=\"data row1 col2\" >9,904,312</td>\n",
       "    </tr>\n",
       "    <tr>\n",
       "      <th id=\"T_e5a52_level0_row2\" class=\"row_heading level0 row2\" >인천</th>\n",
       "      <td id=\"T_e5a52_row2_col0\" class=\"data row2 col0\" >nan</td>\n",
       "      <td id=\"T_e5a52_row2_col1\" class=\"data row2 col1\" >263,203</td>\n",
       "      <td id=\"T_e5a52_row2_col2\" class=\"data row2 col2\" >2,890,451</td>\n",
       "    </tr>\n",
       "  </tbody>\n",
       "</table>\n"
      ],
      "text/plain": [
       "<pandas.io.formats.style.Styler at 0x7f14ff73d7d0>"
      ]
     },
     "execution_count": 131,
     "metadata": {},
     "output_type": "execute_result"
    }
   ],
   "source": [
    "# 도시별 연도별 평균 인구수 조회\n",
    "pv = df.pivot_table('인구', '도시', '년도', aggfunc=np.mean)\n",
    "pv.style.format('{:,.0f}')"
   ]
  },
  {
   "cell_type": "code",
   "execution_count": 133,
   "id": "44da6aba-8eef-40f0-9f72-048921d8e03b",
   "metadata": {},
   "outputs": [
    {
     "data": {
      "text/html": [
       "<style type=\"text/css\">\n",
       "</style>\n",
       "<table id=\"T_a5b84\">\n",
       "  <thead>\n",
       "    <tr>\n",
       "      <th class=\"index_name level0\" >년도</th>\n",
       "      <th id=\"T_a5b84_level0_col0\" class=\"col_heading level0 col0\" >2005</th>\n",
       "      <th id=\"T_a5b84_level0_col1\" class=\"col_heading level0 col1\" >2010</th>\n",
       "      <th id=\"T_a5b84_level0_col2\" class=\"col_heading level0 col2\" >2015</th>\n",
       "      <th id=\"T_a5b84_level0_col3\" class=\"col_heading level0 col3\" >총 평균</th>\n",
       "    </tr>\n",
       "    <tr>\n",
       "      <th class=\"index_name level0\" >도시</th>\n",
       "      <th class=\"blank col0\" >&nbsp;</th>\n",
       "      <th class=\"blank col1\" >&nbsp;</th>\n",
       "      <th class=\"blank col2\" >&nbsp;</th>\n",
       "      <th class=\"blank col3\" >&nbsp;</th>\n",
       "    </tr>\n",
       "  </thead>\n",
       "  <tbody>\n",
       "    <tr>\n",
       "      <th id=\"T_a5b84_level0_row0\" class=\"row_heading level0 row0\" >부산</th>\n",
       "      <td id=\"T_a5b84_row0_col0\" class=\"data row0 col0\" >3,512,547</td>\n",
       "      <td id=\"T_a5b84_row0_col1\" class=\"data row0 col1\" >3,393,191</td>\n",
       "      <td id=\"T_a5b84_row0_col2\" class=\"data row0 col2\" >3,448,737</td>\n",
       "      <td id=\"T_a5b84_row0_col3\" class=\"data row0 col3\" >3,451,492</td>\n",
       "    </tr>\n",
       "    <tr>\n",
       "      <th id=\"T_a5b84_level0_row1\" class=\"row_heading level0 row1\" >서울</th>\n",
       "      <td id=\"T_a5b84_row1_col0\" class=\"data row1 col0\" >9,762,546</td>\n",
       "      <td id=\"T_a5b84_row1_col1\" class=\"data row1 col1\" >9,631,482</td>\n",
       "      <td id=\"T_a5b84_row1_col2\" class=\"data row1 col2\" >9,904,312</td>\n",
       "      <td id=\"T_a5b84_row1_col3\" class=\"data row1 col3\" >9,766,113</td>\n",
       "    </tr>\n",
       "    <tr>\n",
       "      <th id=\"T_a5b84_level0_row2\" class=\"row_heading level0 row2\" >인천</th>\n",
       "      <td id=\"T_a5b84_row2_col0\" class=\"data row2 col0\" >nan</td>\n",
       "      <td id=\"T_a5b84_row2_col1\" class=\"data row2 col1\" >263,203</td>\n",
       "      <td id=\"T_a5b84_row2_col2\" class=\"data row2 col2\" >2,890,451</td>\n",
       "      <td id=\"T_a5b84_row2_col3\" class=\"data row2 col3\" >1,576,827</td>\n",
       "    </tr>\n",
       "    <tr>\n",
       "      <th id=\"T_a5b84_level0_row3\" class=\"row_heading level0 row3\" >총 평균</th>\n",
       "      <td id=\"T_a5b84_row3_col0\" class=\"data row3 col0\" >6,637,546</td>\n",
       "      <td id=\"T_a5b84_row3_col1\" class=\"data row3 col1\" >4,429,292</td>\n",
       "      <td id=\"T_a5b84_row3_col2\" class=\"data row3 col2\" >5,414,500</td>\n",
       "      <td id=\"T_a5b84_row3_col3\" class=\"data row3 col3\" >5,350,809</td>\n",
       "    </tr>\n",
       "  </tbody>\n",
       "</table>\n"
      ],
      "text/plain": [
       "<pandas.io.formats.style.Styler at 0x7f14fe7a9110>"
      ]
     },
     "execution_count": 133,
     "metadata": {},
     "output_type": "execute_result"
    }
   ],
   "source": [
    "# 도시별 연도별 평균 인구수 조회, 총계도 함께 표시\n",
    "pv = df.pivot_table('인구', '도시', '년도', aggfunc=np.mean, margins=True, margins_name='총 평균')\n",
    "pv.style.format('{:,.0f}')"
   ]
  },
  {
   "cell_type": "code",
   "execution_count": 134,
   "id": "75048939-f353-4d28-a152-bfa7a2c94a4f",
   "metadata": {},
   "outputs": [
    {
     "data": {
      "text/html": [
       "<style type=\"text/css\">\n",
       "</style>\n",
       "<table id=\"T_9cbe0\">\n",
       "  <thead>\n",
       "    <tr>\n",
       "      <th class=\"index_name level0\" >년도</th>\n",
       "      <th id=\"T_9cbe0_level0_col0\" class=\"col_heading level0 col0\" >2005</th>\n",
       "      <th id=\"T_9cbe0_level0_col1\" class=\"col_heading level0 col1\" >2010</th>\n",
       "      <th id=\"T_9cbe0_level0_col2\" class=\"col_heading level0 col2\" >2015</th>\n",
       "      <th id=\"T_9cbe0_level0_col3\" class=\"col_heading level0 col3\" >총계</th>\n",
       "    </tr>\n",
       "    <tr>\n",
       "      <th class=\"index_name level0\" >도시</th>\n",
       "      <th class=\"blank col0\" >&nbsp;</th>\n",
       "      <th class=\"blank col1\" >&nbsp;</th>\n",
       "      <th class=\"blank col2\" >&nbsp;</th>\n",
       "      <th class=\"blank col3\" >&nbsp;</th>\n",
       "    </tr>\n",
       "  </thead>\n",
       "  <tbody>\n",
       "    <tr>\n",
       "      <th id=\"T_9cbe0_level0_row0\" class=\"row_heading level0 row0\" >부산</th>\n",
       "      <td id=\"T_9cbe0_row0_col0\" class=\"data row0 col0\" >3,512,547</td>\n",
       "      <td id=\"T_9cbe0_row0_col1\" class=\"data row0 col1\" >3,393,191</td>\n",
       "      <td id=\"T_9cbe0_row0_col2\" class=\"data row0 col2\" >3,448,737</td>\n",
       "      <td id=\"T_9cbe0_row0_col3\" class=\"data row0 col3\" >10,354,475</td>\n",
       "    </tr>\n",
       "    <tr>\n",
       "      <th id=\"T_9cbe0_level0_row1\" class=\"row_heading level0 row1\" >서울</th>\n",
       "      <td id=\"T_9cbe0_row1_col0\" class=\"data row1 col0\" >9,762,546</td>\n",
       "      <td id=\"T_9cbe0_row1_col1\" class=\"data row1 col1\" >9,631,482</td>\n",
       "      <td id=\"T_9cbe0_row1_col2\" class=\"data row1 col2\" >9,904,312</td>\n",
       "      <td id=\"T_9cbe0_row1_col3\" class=\"data row1 col3\" >29,298,340</td>\n",
       "    </tr>\n",
       "    <tr>\n",
       "      <th id=\"T_9cbe0_level0_row2\" class=\"row_heading level0 row2\" >인천</th>\n",
       "      <td id=\"T_9cbe0_row2_col0\" class=\"data row2 col0\" >nan</td>\n",
       "      <td id=\"T_9cbe0_row2_col1\" class=\"data row2 col1\" >263,203</td>\n",
       "      <td id=\"T_9cbe0_row2_col2\" class=\"data row2 col2\" >2,890,451</td>\n",
       "      <td id=\"T_9cbe0_row2_col3\" class=\"data row2 col3\" >3,153,654</td>\n",
       "    </tr>\n",
       "    <tr>\n",
       "      <th id=\"T_9cbe0_level0_row3\" class=\"row_heading level0 row3\" >총계</th>\n",
       "      <td id=\"T_9cbe0_row3_col0\" class=\"data row3 col0\" >13,275,093</td>\n",
       "      <td id=\"T_9cbe0_row3_col1\" class=\"data row3 col1\" >13,287,876</td>\n",
       "      <td id=\"T_9cbe0_row3_col2\" class=\"data row3 col2\" >16,243,500</td>\n",
       "      <td id=\"T_9cbe0_row3_col3\" class=\"data row3 col3\" >42,806,469</td>\n",
       "    </tr>\n",
       "  </tbody>\n",
       "</table>\n"
      ],
      "text/plain": [
       "<pandas.io.formats.style.Styler at 0x7f14fe788450>"
      ]
     },
     "execution_count": 134,
     "metadata": {},
     "output_type": "execute_result"
    }
   ],
   "source": [
    "# 도시별 연도별 평균 인구수 조회, 총계도 함께 표시\n",
    "pv = df.pivot_table('인구', '도시', '년도', aggfunc=np.sum, margins=True, margins_name='총계')\n",
    "pv.style.format('{:,.0f}')"
   ]
  },
  {
   "cell_type": "markdown",
   "id": "abea92a3-8a21-4c05-a829-7406f376e899",
   "metadata": {},
   "source": [
    "### tips 데이터셋을 이용한 피벗테이블 예제"
   ]
  },
  {
   "cell_type": "code",
   "execution_count": 142,
   "id": "4d963b6b-eac1-4f9b-9c7a-c0449724dd52",
   "metadata": {},
   "outputs": [],
   "source": [
    "import seaborn as sns"
   ]
  },
  {
   "cell_type": "code",
   "execution_count": 144,
   "id": "306f5c21-cbb3-4cdc-9122-bbaa5d69059a",
   "metadata": {},
   "outputs": [
    {
     "data": {
      "text/html": [
       "<div>\n",
       "<style scoped>\n",
       "    .dataframe tbody tr th:only-of-type {\n",
       "        vertical-align: middle;\n",
       "    }\n",
       "\n",
       "    .dataframe tbody tr th {\n",
       "        vertical-align: top;\n",
       "    }\n",
       "\n",
       "    .dataframe thead th {\n",
       "        text-align: right;\n",
       "    }\n",
       "</style>\n",
       "<table border=\"1\" class=\"dataframe\">\n",
       "  <thead>\n",
       "    <tr style=\"text-align: right;\">\n",
       "      <th></th>\n",
       "      <th>total_bill</th>\n",
       "      <th>tip</th>\n",
       "      <th>sex</th>\n",
       "      <th>smoker</th>\n",
       "      <th>day</th>\n",
       "      <th>time</th>\n",
       "      <th>size</th>\n",
       "    </tr>\n",
       "  </thead>\n",
       "  <tbody>\n",
       "    <tr>\n",
       "      <th>0</th>\n",
       "      <td>16.99</td>\n",
       "      <td>1.01</td>\n",
       "      <td>Female</td>\n",
       "      <td>No</td>\n",
       "      <td>Sun</td>\n",
       "      <td>Dinner</td>\n",
       "      <td>2</td>\n",
       "    </tr>\n",
       "    <tr>\n",
       "      <th>1</th>\n",
       "      <td>10.34</td>\n",
       "      <td>1.66</td>\n",
       "      <td>Male</td>\n",
       "      <td>No</td>\n",
       "      <td>Sun</td>\n",
       "      <td>Dinner</td>\n",
       "      <td>3</td>\n",
       "    </tr>\n",
       "    <tr>\n",
       "      <th>2</th>\n",
       "      <td>21.01</td>\n",
       "      <td>3.50</td>\n",
       "      <td>Male</td>\n",
       "      <td>No</td>\n",
       "      <td>Sun</td>\n",
       "      <td>Dinner</td>\n",
       "      <td>3</td>\n",
       "    </tr>\n",
       "    <tr>\n",
       "      <th>3</th>\n",
       "      <td>23.68</td>\n",
       "      <td>3.31</td>\n",
       "      <td>Male</td>\n",
       "      <td>No</td>\n",
       "      <td>Sun</td>\n",
       "      <td>Dinner</td>\n",
       "      <td>2</td>\n",
       "    </tr>\n",
       "    <tr>\n",
       "      <th>4</th>\n",
       "      <td>24.59</td>\n",
       "      <td>3.61</td>\n",
       "      <td>Female</td>\n",
       "      <td>No</td>\n",
       "      <td>Sun</td>\n",
       "      <td>Dinner</td>\n",
       "      <td>4</td>\n",
       "    </tr>\n",
       "  </tbody>\n",
       "</table>\n",
       "</div>"
      ],
      "text/plain": [
       "   total_bill  tip     sex smoker  day    time  size\n",
       "0       16.99 1.01  Female     No  Sun  Dinner     2\n",
       "1       10.34 1.66    Male     No  Sun  Dinner     3\n",
       "2       21.01 3.50    Male     No  Sun  Dinner     3\n",
       "3       23.68 3.31    Male     No  Sun  Dinner     2\n",
       "4       24.59 3.61  Female     No  Sun  Dinner     4"
      ]
     },
     "execution_count": 144,
     "metadata": {},
     "output_type": "execute_result"
    }
   ],
   "source": [
    "tips = sns.load_dataset(\"tips\")\n",
    "tips.head()"
   ]
  },
  {
   "cell_type": "code",
   "execution_count": 147,
   "id": "f0cca6e5-c1fe-45bb-8073-3bdc462d35cd",
   "metadata": {},
   "outputs": [
    {
     "data": {
      "text/html": [
       "<div>\n",
       "<style scoped>\n",
       "    .dataframe tbody tr th:only-of-type {\n",
       "        vertical-align: middle;\n",
       "    }\n",
       "\n",
       "    .dataframe tbody tr th {\n",
       "        vertical-align: top;\n",
       "    }\n",
       "\n",
       "    .dataframe thead th {\n",
       "        text-align: right;\n",
       "    }\n",
       "</style>\n",
       "<table border=\"1\" class=\"dataframe\">\n",
       "  <thead>\n",
       "    <tr style=\"text-align: right;\">\n",
       "      <th>day</th>\n",
       "      <th>Thur</th>\n",
       "      <th>Fri</th>\n",
       "      <th>Sat</th>\n",
       "      <th>Sun</th>\n",
       "    </tr>\n",
       "    <tr>\n",
       "      <th>sex</th>\n",
       "      <th></th>\n",
       "      <th></th>\n",
       "      <th></th>\n",
       "      <th></th>\n",
       "    </tr>\n",
       "  </thead>\n",
       "  <tbody>\n",
       "    <tr>\n",
       "      <th>Male</th>\n",
       "      <td>2.98</td>\n",
       "      <td>2.69</td>\n",
       "      <td>3.08</td>\n",
       "      <td>3.22</td>\n",
       "    </tr>\n",
       "    <tr>\n",
       "      <th>Female</th>\n",
       "      <td>2.58</td>\n",
       "      <td>2.78</td>\n",
       "      <td>2.80</td>\n",
       "      <td>3.37</td>\n",
       "    </tr>\n",
       "  </tbody>\n",
       "</table>\n",
       "</div>"
      ],
      "text/plain": [
       "day     Thur  Fri  Sat  Sun\n",
       "sex                        \n",
       "Male    2.98 2.69 3.08 3.22\n",
       "Female  2.58 2.78 2.80 3.37"
      ]
     },
     "execution_count": 147,
     "metadata": {},
     "output_type": "execute_result"
    }
   ],
   "source": [
    "# 성별 요일별 팁 현황\n",
    "tips.pivot_table('tip', 'sex', 'day')"
   ]
  },
  {
   "cell_type": "code",
   "execution_count": 161,
   "id": "c602f2ba-5412-4076-8800-f20e12f9b0ba",
   "metadata": {},
   "outputs": [
    {
     "data": {
      "text/html": [
       "<div>\n",
       "<style scoped>\n",
       "    .dataframe tbody tr th:only-of-type {\n",
       "        vertical-align: middle;\n",
       "    }\n",
       "\n",
       "    .dataframe tbody tr th {\n",
       "        vertical-align: top;\n",
       "    }\n",
       "\n",
       "    .dataframe thead th {\n",
       "        text-align: right;\n",
       "    }\n",
       "</style>\n",
       "<table border=\"1\" class=\"dataframe\">\n",
       "  <thead>\n",
       "    <tr style=\"text-align: right;\">\n",
       "      <th>day</th>\n",
       "      <th>Thur</th>\n",
       "      <th>Fri</th>\n",
       "      <th>Sat</th>\n",
       "      <th>Sun</th>\n",
       "    </tr>\n",
       "    <tr>\n",
       "      <th>sex</th>\n",
       "      <th></th>\n",
       "      <th></th>\n",
       "      <th></th>\n",
       "      <th></th>\n",
       "    </tr>\n",
       "  </thead>\n",
       "  <tbody>\n",
       "    <tr>\n",
       "      <th>Male</th>\n",
       "      <td>89.41</td>\n",
       "      <td>26.93</td>\n",
       "      <td>181.95</td>\n",
       "      <td>186.78</td>\n",
       "    </tr>\n",
       "    <tr>\n",
       "      <th>Female</th>\n",
       "      <td>82.42</td>\n",
       "      <td>25.03</td>\n",
       "      <td>78.45</td>\n",
       "      <td>60.61</td>\n",
       "    </tr>\n",
       "  </tbody>\n",
       "</table>\n",
       "</div>"
      ],
      "text/plain": [
       "day     Thur   Fri    Sat    Sun\n",
       "sex                             \n",
       "Male   89.41 26.93 181.95 186.78\n",
       "Female 82.42 25.03  78.45  60.61"
      ]
     },
     "execution_count": 161,
     "metadata": {},
     "output_type": "execute_result"
    }
   ],
   "source": [
    "# 성별 요일별 팁 현황\n",
    "tips.pivot_table('tip', 'sex', 'day', aggfunc=sum)"
   ]
  },
  {
   "cell_type": "code",
   "execution_count": 149,
   "id": "2f41f0b6-e893-4cc7-8529-4402c9b67635",
   "metadata": {},
   "outputs": [
    {
     "data": {
      "text/plain": [
       "sex\n",
       "Male      157\n",
       "Female     87\n",
       "Name: total_bill, dtype: int64"
      ]
     },
     "execution_count": 149,
     "metadata": {},
     "output_type": "execute_result"
    }
   ],
   "source": [
    "# 팁을 준 고객의 성별 분류\n",
    "tips.pivot_table('tip', 'sex', aggfunc='count')['total_bill']"
   ]
  },
  {
   "cell_type": "code",
   "execution_count": 162,
   "id": "5260b932-ea01-4c00-8a0e-3e1b578fbb0a",
   "metadata": {},
   "outputs": [
    {
     "data": {
      "text/plain": [
       "sex\n",
       "Male      157\n",
       "Female     87\n",
       "Name: tip, dtype: int64"
      ]
     },
     "execution_count": 162,
     "metadata": {},
     "output_type": "execute_result"
    }
   ],
   "source": [
    "tips.groupby('sex')['tip'].count()"
   ]
  },
  {
   "cell_type": "code",
   "execution_count": 164,
   "id": "b18d7b3c-cb7c-4786-8202-c3f8a780d6c1",
   "metadata": {},
   "outputs": [
    {
     "data": {
      "text/html": [
       "<div>\n",
       "<style scoped>\n",
       "    .dataframe tbody tr th:only-of-type {\n",
       "        vertical-align: middle;\n",
       "    }\n",
       "\n",
       "    .dataframe tbody tr th {\n",
       "        vertical-align: top;\n",
       "    }\n",
       "\n",
       "    .dataframe thead th {\n",
       "        text-align: right;\n",
       "    }\n",
       "</style>\n",
       "<table border=\"1\" class=\"dataframe\">\n",
       "  <thead>\n",
       "    <tr style=\"text-align: right;\">\n",
       "      <th>smoker</th>\n",
       "      <th>Yes</th>\n",
       "      <th>No</th>\n",
       "    </tr>\n",
       "    <tr>\n",
       "      <th>sex</th>\n",
       "      <th></th>\n",
       "      <th></th>\n",
       "    </tr>\n",
       "  </thead>\n",
       "  <tbody>\n",
       "    <tr>\n",
       "      <th>Male</th>\n",
       "      <td>60</td>\n",
       "      <td>97</td>\n",
       "    </tr>\n",
       "    <tr>\n",
       "      <th>Female</th>\n",
       "      <td>33</td>\n",
       "      <td>54</td>\n",
       "    </tr>\n",
       "  </tbody>\n",
       "</table>\n",
       "</div>"
      ],
      "text/plain": [
       "smoker  Yes  No\n",
       "sex            \n",
       "Male     60  97\n",
       "Female   33  54"
      ]
     },
     "execution_count": 164,
     "metadata": {},
     "output_type": "execute_result"
    }
   ],
   "source": [
    "# 성별 흡연/비흡연 고객 분류\n",
    "tips.pivot_table('tip', 'sex', 'smoker', aggfunc='count')"
   ]
  },
  {
   "cell_type": "code",
   "execution_count": 166,
   "id": "c264d547-7f91-4993-b0f8-02b45b8d808e",
   "metadata": {},
   "outputs": [
    {
     "data": {
      "text/plain": [
       "sex     smoker\n",
       "Male    Yes       60\n",
       "        No        97\n",
       "Female  Yes       33\n",
       "        No        54\n",
       "Name: tip, dtype: int64"
      ]
     },
     "execution_count": 166,
     "metadata": {},
     "output_type": "execute_result"
    }
   ],
   "source": [
    "tips.groupby(['sex', 'smoker'])['tip'].count()"
   ]
  },
  {
   "cell_type": "markdown",
   "id": "8cc21d1f-2ffa-4260-9b21-128cb0b5a189",
   "metadata": {},
   "source": [
    "## 2016년 미국 대통령 선거 데이터 분석 예제\n",
    "* primary_results.txt (변수명 : primary)\n",
    " => 각 주, 정당, 후보자 및 득표수\n",
    "* county_facts.csv (변수명 : counties)\n",
    " => 각 유권자별 투표 데이터"
   ]
  },
  {
   "cell_type": "code",
   "execution_count": 168,
   "id": "06772e26-bc48-4251-bf29-8451fec16196",
   "metadata": {},
   "outputs": [
    {
     "name": "stdout",
     "output_type": "stream",
     "text": [
      "<class 'pandas.core.frame.DataFrame'>\n",
      "RangeIndex: 24611 entries, 0 to 24610\n",
      "Data columns (total 8 columns):\n",
      " #   Column              Non-Null Count  Dtype  \n",
      "---  ------              --------------  -----  \n",
      " 0   state               24611 non-null  object \n",
      " 1   state_abbreviation  24611 non-null  object \n",
      " 2   county              24611 non-null  object \n",
      " 3   fips                24511 non-null  float64\n",
      " 4   party               24611 non-null  object \n",
      " 5   candidate           24611 non-null  object \n",
      " 6   votes               24611 non-null  int64  \n",
      " 7   fraction_votes      24611 non-null  float64\n",
      "dtypes: float64(2), int64(1), object(5)\n",
      "memory usage: 1.5+ MB\n"
     ]
    }
   ],
   "source": [
    "primary = pd.read_csv('./data/primary_results.txt')\n",
    "primary.info()"
   ]
  },
  {
   "cell_type": "code",
   "execution_count": 169,
   "id": "30f9db49-76f5-44dc-9d56-1d9257d37f54",
   "metadata": {},
   "outputs": [
    {
     "data": {
      "text/plain": [
       "state\n",
       "Massachusetts    2808\n",
       "Texas            1778\n",
       "Vermont          1722\n",
       "Iowa             1485\n",
       "Georgia          1113\n",
       "Name: count, dtype: int64"
      ]
     },
     "execution_count": 169,
     "metadata": {},
     "output_type": "execute_result"
    }
   ],
   "source": [
    "# 주\n",
    "primary.state.value_counts().head()"
   ]
  },
  {
   "cell_type": "code",
   "execution_count": 173,
   "id": "ad94452d-e536-412d-9830-6c2d23200218",
   "metadata": {},
   "outputs": [
    {
     "data": {
      "text/plain": [
       "county\n",
       "Washington    182\n",
       "Franklin      158\n",
       "Jefferson     154\n",
       "Jackson       140\n",
       "Madison       138\n",
       "Name: count, dtype: int64"
      ]
     },
     "execution_count": 173,
     "metadata": {},
     "output_type": "execute_result"
    }
   ],
   "source": [
    "# 카운티 (시)\n",
    "primary.county.value_counts().head()"
   ]
  },
  {
   "cell_type": "code",
   "execution_count": 175,
   "id": "1f6a1d3d-a0bf-4b64-98cf-cdaea3b325d3",
   "metadata": {},
   "outputs": [
    {
     "data": {
      "text/plain": [
       "party\n",
       "Republican    15652\n",
       "Democrat       8959\n",
       "Name: count, dtype: int64"
      ]
     },
     "execution_count": 175,
     "metadata": {},
     "output_type": "execute_result"
    }
   ],
   "source": [
    "# 정당\n",
    "primary.party.value_counts().head()"
   ]
  },
  {
   "cell_type": "code",
   "execution_count": 172,
   "id": "34b92daa-c686-4a0f-bc70-866f049ae049",
   "metadata": {},
   "outputs": [
    {
     "data": {
      "text/plain": [
       "candidate\n",
       "Bernie Sanders     4205\n",
       "Hillary Clinton    4205\n",
       "Donald Trump       3586\n",
       "John Kasich        3586\n",
       "Ted Cruz           3586\n",
       "Name: count, dtype: int64"
      ]
     },
     "execution_count": 172,
     "metadata": {},
     "output_type": "execute_result"
    }
   ],
   "source": [
    "# 후보군\n",
    "primary.candidate.value_counts().head()"
   ]
  },
  {
   "cell_type": "code",
   "execution_count": 180,
   "id": "1bf0a865-0b1c-4299-8aa8-4df93c2b7f49",
   "metadata": {},
   "outputs": [
    {
     "data": {
      "text/plain": [
       "candidate\n",
       "Hillary Clinton    15,692,452\n",
       "Donald Trump       13,302,541\n",
       "Bernie Sanders     11,959,102\n",
       "Ted Cruz            7,603,006\n",
       "John Kasich         4,159,949\n",
       "Name: votes, dtype: object"
      ]
     },
     "execution_count": 180,
     "metadata": {},
     "output_type": "execute_result"
    }
   ],
   "source": [
    "# 후보자별 득표수\n",
    "votes = primary.groupby('candidate')['votes'].sum()\\\n",
    "    .sort_values(ascending=False)\n",
    "votes.apply('{:,}'.format).head()"
   ]
  },
  {
   "cell_type": "code",
   "execution_count": 184,
   "id": "0ec92024-1252-4021-b919-0797f327c388",
   "metadata": {},
   "outputs": [
    {
     "data": {
      "text/plain": [
       "candidate\n",
       "Donald Trump    13302541\n",
       "Ted Cruz         7603006\n",
       "John Kasich      4159949\n",
       "Marco Rubio      3321076\n",
       "Ben Carson        564553\n",
       "Name: votes, dtype: int64"
      ]
     },
     "execution_count": 184,
     "metadata": {},
     "output_type": "execute_result"
    }
   ],
   "source": [
    "# 공화당 후보자별 득표수\n",
    "find = primary.party == 'Republican'\n",
    "primary[find].groupby('candidate')['votes'].sum()\\\n",
    "    .sort_values(ascending=False).head()"
   ]
  },
  {
   "cell_type": "code",
   "execution_count": 185,
   "id": "949ae156-bef2-4f19-b665-b482d3a9ec94",
   "metadata": {},
   "outputs": [
    {
     "data": {
      "text/plain": [
       "candidate\n",
       "Hillary Clinton    15692452\n",
       "Bernie Sanders     11959102\n",
       " No Preference         8152\n",
       "Martin O'Malley         752\n",
       " Uncommitted             43\n",
       "Name: votes, dtype: int64"
      ]
     },
     "execution_count": 185,
     "metadata": {},
     "output_type": "execute_result"
    }
   ],
   "source": [
    "# 민주당 후보자별 득표수\n",
    "find = primary.party == 'Democrat'\n",
    "primary[find].groupby('candidate')['votes'].sum()\\\n",
    "    .sort_values(ascending=False).head()"
   ]
  },
  {
   "cell_type": "code",
   "execution_count": 188,
   "id": "4486aace-6284-4950-91fc-b444bbd79709",
   "metadata": {},
   "outputs": [
    {
     "data": {
      "text/plain": [
       "state\n",
       "California      1174829\n",
       "Florida         1077221\n",
       "Pennsylvania     892702\n",
       "Texas            757618\n",
       "Ohio             727585\n",
       "Name: votes, dtype: int64"
      ]
     },
     "execution_count": 188,
     "metadata": {},
     "output_type": "execute_result"
    }
   ],
   "source": [
    "# 경선에서 당선된 후보의 지역별 득표수 (공화당)\n",
    "find = primary.candidate == 'Donald Trump'\n",
    "primary[find].groupby('state')['votes'].sum()\\\n",
    "    .sort_values(ascending=False).head()"
   ]
  },
  {
   "cell_type": "code",
   "execution_count": 189,
   "id": "0911889f-151d-4723-ba5a-33fbecf6a2f2",
   "metadata": {},
   "outputs": [
    {
     "data": {
      "text/plain": [
       "state\n",
       "California    1940580\n",
       "Florida       1097400\n",
       "New York      1054083\n",
       "Illinois      1012175\n",
       "Texas          935080\n",
       "Name: votes, dtype: int64"
      ]
     },
     "execution_count": 189,
     "metadata": {},
     "output_type": "execute_result"
    }
   ],
   "source": [
    "# 경선에서 당선된 후보의 지역별 득표수 (민주당)\n",
    "find = primary.candidate == 'Hillary Clinton'\n",
    "primary[find].groupby('state')['votes'].sum()\\\n",
    "    .sort_values(ascending=False).head()"
   ]
  }
 ],
 "metadata": {
  "kernelspec": {
   "display_name": "Python 3 (ipykernel)",
   "language": "python",
   "name": "python3"
  },
  "language_info": {
   "codemirror_mode": {
    "name": "ipython",
    "version": 3
   },
   "file_extension": ".py",
   "mimetype": "text/x-python",
   "name": "python",
   "nbconvert_exporter": "python",
   "pygments_lexer": "ipython3",
   "version": "3.11.4"
  }
 },
 "nbformat": 4,
 "nbformat_minor": 5
}
